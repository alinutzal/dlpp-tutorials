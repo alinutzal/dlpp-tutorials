{
 "cells": [
  {
   "cell_type": "markdown",
   "metadata": {},
   "source": [
    "# Generating LHC data with Flows"
   ]
  },
  {
   "cell_type": "markdown",
   "metadata": {},
   "source": [
    "This week we will use Invertible Neural Networks (INNs) to generate LHC data.  They are a type of normalising flow.  The task this week will be exactly as it was with the GAN, except using the INN.  Instead of doing part of the work for you, I have instead provided some example code for how to define an INN, how to write down it's loss function, and how to sample from it."
   ]
  },
  {
   "cell_type": "markdown",
   "metadata": {},
   "source": [
    "Background:\n",
    "- Simulations for LHC physics is a major computational task at the experiment, and will become more computationally intensive in the coming years, so if ML techniques can speed up some aspects of this then it would be very useful\n",
    "- As a proof of concept, we will show how a normalising flow, specifically an Invertible Neural Network (INN), can be optimised to generate events simulated by traditional high energy physics simulation software\n",
    "- The process we are studying is Drell-Yan: $pp\\rightarrow Z\\rightarrow \\mu\\mu$\n",
    "- Naively, the dimension of this phase space is 8D, the 4 momentum of the two final state particles\n",
    "- The generative network samples random noise from a unit Normal distribution, passes it through an invertible network to produce an 8D output\n",
    "- **There are detailed notes on this in your lecture notes, please read them!**"
   ]
  },
  {
   "cell_type": "markdown",
   "metadata": {},
   "source": [
    "Interesting paper:\n",
    "- Invertible Networks or Partons to Detector and Back Again\n",
    "    - Bellagente et al\n",
    "    - https://arxiv.org/abs/2006.06685"
   ]
  },
  {
   "cell_type": "markdown",
   "metadata": {},
   "source": [
    "Outline:\n",
    "- Imports and plotting set-up\n",
    "- Study the data\n",
    "- Datasets and dataloaders\n",
    "- Building the INN\n",
    "- Optimising the INN\n",
    "- Study the results - let's generate some events!\n",
    "- Removing redundant degrees of freedom\n",
    "- Optimising the INN on the reduced data\n",
    "- Study the new results\n",
    "- Concluding remarks"
   ]
  },
  {
   "cell_type": "markdown",
   "metadata": {},
   "source": [
    "You need install the FrEIA package to use the INN modules, you can install it from the terminal with:"
   ]
  },
  {
   "cell_type": "raw",
   "metadata": {},
   "source": [
    "python3 -m pip install git+https://github.com/VLL-HD/FrEIA.git"
   ]
  },
  {
   "cell_type": "markdown",
   "metadata": {},
   "source": [
    "The documentation can be found here:\n",
    "\n",
    "https://github.com/VLL-HD/FrEIA"
   ]
  },
  {
   "cell_type": "markdown",
   "metadata": {},
   "source": [
    "Example code for how to define an INN, how to write it's loss function, and how to sample from it:"
   ]
  },
  {
   "cell_type": "raw",
   "metadata": {},
   "source": [
    "# FrEIA imports\n",
    "import FrEIA.framework as Ff\n",
    "import FrEIA.modules as Fm\n",
    "\n",
    "BATCHSIZE = 100\n",
    "N_DIM = 8\n",
    "\n",
    "# we define a subnet for use inside an affine coupling block for more detailed information see the full tutorial\n",
    "def subnet_fc(dims_in, dims_out):\n",
    "    return nn.Sequential(nn.Linear(dims_in, 128), nn.ReLU(),\n",
    "                         nn.Linear(128,  dims_out))\n",
    "\n",
    "# a simple chain of operations is collected by ReversibleSequential\n",
    "inn = Ff.SequenceINN(N_DIM)\n",
    "for k in range(8):\n",
    "    inn.append(Fm.AllInOneBlock, subnet_constructor=subnet_fc, permute_soft=True)\n",
    "    \n",
    "# pass to INN and get transformed variable z and log Jacobian determinant\n",
    "z, log_jac_det = inn(x)    \n",
    "    \n",
    "# calculate the negative log-likelihood of the model with a standard normal prior\n",
    "loss = 0.5*torch.sum(z**2, 1) - log_jac_det\n",
    "loss = loss.mean() / N_DIM  \n",
    "  \n",
    "# sample from the INN by sampling from a standard normal and transforming it in the reverse direction\n",
    "z = torch.randn(BATCHSIZE, N_DIM)\n",
    "samples, _ = inn(z, rev=True)"
   ]
  },
  {
   "cell_type": "markdown",
   "metadata": {},
   "source": [
    "### Imports"
   ]
  },
  {
   "cell_type": "code",
   "execution_count": 5,
   "metadata": {},
   "outputs": [],
   "source": [
    "import os\n",
    "import sys\n",
    "import random\n",
    "import time\n",
    "import numpy as np\n",
    "import torch\n",
    "from torch.utils.data import Dataset\n",
    "from torch.utils.data import DataLoader\n",
    "from torch import nn\n",
    "from torch.nn import functional as F\n",
    "from torch.nn import Sequential, Linear, ReLU\n",
    "from torch.nn.utils import spectral_norm\n",
    "\n",
    "# FrEIA imports\n",
    "import FrEIA.framework as Ff\n",
    "import FrEIA.modules as Fm"
   ]
  },
  {
   "cell_type": "markdown",
   "metadata": {},
   "source": [
    "#### Plotting set-up"
   ]
  },
  {
   "cell_type": "code",
   "execution_count": 6,
   "metadata": {},
   "outputs": [],
   "source": [
    "from matplotlib import pyplot as plt\n",
    "import matplotlib\n",
    "import warnings\n",
    "warnings.filterwarnings(\"ignore\")\n",
    "from matplotlib.lines import Line2D\n",
    "from matplotlib.font_manager import FontProperties\n",
    "import matplotlib.colors as mcolors\n",
    "import colorsys\n",
    "\n",
    "labelfont = FontProperties()\n",
    "labelfont.set_family('serif')\n",
    "labelfont.set_name('Times New Roman')\n",
    "labelfont.set_size(14)\n",
    "\n",
    "axislabelfont = FontProperties()\n",
    "axislabelfont.set_family('serif')\n",
    "axislabelfont.set_name('Times New Roman')\n",
    "axislabelfont.set_size(22)\n",
    "\n",
    "tickfont = FontProperties()\n",
    "tickfont.set_family('serif')\n",
    "tickfont.set_name('Times New Roman')\n",
    "tickfont.set_size(16)\n",
    "\n",
    "axisfontsize = 16\n",
    "labelfontsize = 16\n",
    "\n",
    "plt.rcParams[\"font.family\"] = \"Times New Roman\"\n",
    "plt.rcParams[\"mathtext.default\"] = \"rm\"\n",
    "plt.rcParams['text.usetex'] = True"
   ]
  },
  {
   "cell_type": "markdown",
   "metadata": {},
   "source": [
    "## Loading the data"
   ]
  },
  {
   "cell_type": "markdown",
   "metadata": {},
   "source": [
    "We can load the data from here:"
   ]
  },
  {
   "cell_type": "code",
   "execution_count": 7,
   "metadata": {},
   "outputs": [],
   "source": [
    "dy_trn_data = np.load( 'tutorial-11-data/dy_trn_data.npy' )\n",
    "dy_val_data = np.load( 'tutorial-11-data/dy_val_data.npy' )\n",
    "dy_tst_data = np.load( 'tutorial-11-data/dy_tst_data.npy' )"
   ]
  },
  {
   "cell_type": "code",
   "execution_count": 8,
   "metadata": {},
   "outputs": [
    {
     "data": {
      "text/plain": [
       "((1384081, 8), (296588, 8), (296588, 8))"
      ]
     },
     "execution_count": 8,
     "metadata": {},
     "output_type": "execute_result"
    }
   ],
   "source": [
    "dy_trn_data.shape, dy_val_data.shape, dy_tst_data.shape"
   ]
  },
  {
   "cell_type": "markdown",
   "metadata": {},
   "source": [
    "Each element of the data has 8 entries, corresponding to the 4-momenta of each muon in the process.\n",
    "\n",
    "Each entry has the form $[E_1, p_{x,1}, p_{y,1}, p_{z,1}, E_2, p_{x,2}, p_{y,2}, p_{z,2}]$."
   ]
  },
  {
   "cell_type": "markdown",
   "metadata": {},
   "source": [
    "## Study the data"
   ]
  },
  {
   "cell_type": "markdown",
   "metadata": {},
   "source": [
    "We need to be able to calculate the invariant mass of each event, and the $p_T$ of the event and the jets.\n",
    "\n",
    "Let's write a function for this:"
   ]
  },
  {
   "cell_type": "code",
   "execution_count": 9,
   "metadata": {},
   "outputs": [],
   "source": [
    "def get_obs( event ):\n",
    "    \n",
    "    jet1_4m = event[:,0:4]\n",
    "    jet2_4m = event[:,4:]\n",
    "    evnt_4m = np.sum( (jet1_4m,jet2_4m), axis=0 )\n",
    "    \n",
    "    evnt_im = np.sqrt( np.sum( ( evnt_4m[:,0]**2, -evnt_4m[:,1]**2, -evnt_4m[:,2]**2, -evnt_4m[:,3]**2 ), axis=0 ) )\n",
    "    \n",
    "    evnt_pt = np.sqrt( evnt_4m[:,1]**2 + evnt_4m[:,2]**2 )\n",
    "    jet1_pt = np.sqrt( jet1_4m[:,1]**2 + jet1_4m[:,2]**2 )\n",
    "    jet2_pt = np.sqrt( jet2_4m[:,1]**2 + jet2_4m[:,2]**2 )\n",
    "    \n",
    "    return evnt_im, evnt_pt, jet1_pt, jet2_pt"
   ]
  },
  {
   "cell_type": "markdown",
   "metadata": {},
   "source": [
    "Now test it:"
   ]
  },
  {
   "cell_type": "code",
   "execution_count": 10,
   "metadata": {},
   "outputs": [
    {
     "data": {
      "text/plain": [
       "(array([90.98955316, 91.3711254 ]),\n",
       " array([0., 0.]),\n",
       " array([44.32344982, 35.10745113]),\n",
       " array([44.32344982, 35.10745113]))"
      ]
     },
     "execution_count": 10,
     "metadata": {},
     "output_type": "execute_result"
    }
   ],
   "source": [
    "get_obs( dy_trn_data[0:2] )"
   ]
  },
  {
   "cell_type": "markdown",
   "metadata": {},
   "source": [
    "The $p_T$ of the events will always be zero here due to the fact that the initial incoming protons have no transverse momentum."
   ]
  },
  {
   "cell_type": "markdown",
   "metadata": {},
   "source": [
    "Let's get the observables for the whole dataset:"
   ]
  },
  {
   "cell_type": "code",
   "execution_count": 11,
   "metadata": {},
   "outputs": [],
   "source": [
    "trn_evnt_ims, trn_evnt_pts, trn_jet1_pts, trn_jet2_pts = get_obs( dy_trn_data )\n",
    "val_evnt_ims, val_evnt_pts, val_jet1_pts, val_jet2_pts = get_obs( dy_val_data )\n",
    "tst_evnt_ims, tst_evnt_pts, tst_jet1_pts, tst_jet2_pts = get_obs( dy_tst_data )"
   ]
  },
  {
   "cell_type": "code",
   "execution_count": 12,
   "metadata": {},
   "outputs": [
    {
     "data": {
      "text/plain": [
       "(1384081,)"
      ]
     },
     "execution_count": 12,
     "metadata": {},
     "output_type": "execute_result"
    }
   ],
   "source": [
    "trn_evnt_ims.shape"
   ]
  },
  {
   "cell_type": "markdown",
   "metadata": {},
   "source": [
    "Let's plot the invariant mass of the events:"
   ]
  },
  {
   "cell_type": "code",
   "execution_count": 13,
   "metadata": {},
   "outputs": [
    {
     "data": {
      "image/png": "[encoded data removed]",
      "text/plain": [
       "<Figure size 432x360 with 1 Axes>"
      ]
     },
     "metadata": {
      "needs_background": "light"
     },
     "output_type": "display_data"
    }
   ],
   "source": [
    "fig, axs = plt.subplots( figsize=(6,5) )\n",
    "\n",
    "axs.hist( trn_evnt_ims, alpha=0.5, density=True, bins=15 )\n",
    "\n",
    "axs.set_xlabel( \"$m_{\\mu\\mu}$ (GeV)\", fontproperties=axislabelfont )\n",
    "axs.set_ylabel( \"\\#events\", fontproperties=axislabelfont )\n",
    "\n",
    "yticks = [  ]\n",
    "axs.set_yticklabels( yticks, fontproperties=tickfont )\n",
    "\n",
    "xticks = [ int(x) for x in axs.get_xticks() ]\n",
    "axs.set_xticklabels( xticks, fontproperties=tickfont )\n",
    "\n",
    "fig.tight_layout()\n",
    "fig.show()"
   ]
  },
  {
   "cell_type": "markdown",
   "metadata": {},
   "source": [
    "Here we see the clear $Z$ mass peak at $\\simeq 90$ GeV."
   ]
  },
  {
   "cell_type": "markdown",
   "metadata": {},
   "source": [
    "Now let's look at $p_T$ distributions:"
   ]
  },
  {
   "cell_type": "code",
   "execution_count": 14,
   "metadata": {},
   "outputs": [
    {
     "data": {
      "image/png": "[encoded data removed]",
      "text/plain": [
       "<Figure size 432x360 with 1 Axes>"
      ]
     },
     "metadata": {
      "needs_background": "light"
     },
     "output_type": "display_data"
    }
   ],
   "source": [
    "fig, axs = plt.subplots( figsize=(6,5) )\n",
    "\n",
    "axs.hist( trn_jet1_pts, alpha=0.5, density=True, bins=15 )\n",
    "axs.hist( trn_jet2_pts, alpha=0.5, density=True, bins=15 )\n",
    "\n",
    "axs.set_xlabel( \"$p_{T}$ (GeV)\", fontproperties=axislabelfont )\n",
    "axs.set_ylabel( \"\\#events\", fontproperties=axislabelfont )\n",
    "\n",
    "yticks = [  ]\n",
    "axs.set_yticklabels( yticks, fontproperties=tickfont )\n",
    "\n",
    "xticks = [ int(x) for x in axs.get_xticks() ]\n",
    "axs.set_xticklabels( xticks, fontproperties=tickfont )\n",
    "\n",
    "fig.tight_layout()\n",
    "fig.show()"
   ]
  },
  {
   "cell_type": "markdown",
   "metadata": {},
   "source": [
    "These distributions are completely overlapping with a peak near $m_{\\mu\\mu}/2$."
   ]
  },
  {
   "cell_type": "markdown",
   "metadata": {},
   "source": [
    "# Datasets and dataloaders"
   ]
  },
  {
   "cell_type": "markdown",
   "metadata": {},
   "source": [
    "This time we only need the dataloader to return the data, no labels, so it's pretty simple."
   ]
  },
  {
   "cell_type": "code",
   "execution_count": 15,
   "metadata": {},
   "outputs": [],
   "source": [
    "class drell_yan_data( Dataset ):\n",
    "    \n",
    "    def __init__( self, data ):\n",
    "        self.data = data\n",
    "\n",
    "    def __len__(self):\n",
    "        return self.data.shape[0]\n",
    "\n",
    "    def __getitem__(self, idx):\n",
    "        return self.data[idx]"
   ]
  },
  {
   "cell_type": "markdown",
   "metadata": {},
   "source": [
    "Let's normalise the data a little bit by dividing all dimensionful quantities by $100$ GeV."
   ]
  },
  {
   "cell_type": "code",
   "execution_count": 16,
   "metadata": {},
   "outputs": [],
   "source": [
    "dy_trn_data_p = torch.Tensor( dy_trn_data / 100 )\n",
    "dy_val_data_p = torch.Tensor( dy_val_data / 100 )\n",
    "dy_tst_data_p = torch.Tensor( dy_tst_data / 100 )"
   ]
  },
  {
   "cell_type": "code",
   "execution_count": 17,
   "metadata": {},
   "outputs": [],
   "source": [
    "trn_dataset = drell_yan_data( dy_trn_data_p )\n",
    "val_dataset = drell_yan_data( dy_val_data_p )\n",
    "tst_dataset = drell_yan_data( dy_tst_data_p )"
   ]
  },
  {
   "cell_type": "markdown",
   "metadata": {},
   "source": [
    "Using a bigger batch size this time, this helps for generative networks."
   ]
  },
  {
   "cell_type": "code",
   "execution_count": 18,
   "metadata": {},
   "outputs": [],
   "source": [
    "trn_dataloader = DataLoader( trn_dataset, batch_size=2500, shuffle=True )\n",
    "val_dataloader = DataLoader( val_dataset, batch_size=2500, shuffle=True )\n",
    "tst_dataloader = DataLoader( tst_dataset, batch_size=2500, shuffle=True )"
   ]
  },
  {
   "cell_type": "markdown",
   "metadata": {},
   "source": [
    "## Building the INN"
   ]
  },
  {
   "cell_type": "code",
   "execution_count": 19,
   "metadata": {},
   "outputs": [],
   "source": [
    "def subnet_fc( dims_in, dims_out ):\n",
    "    return nn.Sequential( nn.Linear(dims_in, 100), \n",
    "                         nn.ReLU(),\n",
    "                         nn.Linear(100,  dims_out) )"
   ]
  },
  {
   "cell_type": "code",
   "execution_count": 20,
   "metadata": {},
   "outputs": [],
   "source": [
    "ndim = 8\n",
    "inn = Ff.SequenceINN( ndim )\n",
    "for k in range(8):\n",
    "    inn.append( Fm.AllInOneBlock, subnet_constructor=subnet_fc, permute_soft=True )"
   ]
  },
  {
   "cell_type": "markdown",
   "metadata": {},
   "source": [
    "## Optimising the INN"
   ]
  },
  {
   "cell_type": "markdown",
   "metadata": {},
   "source": [
    "First, we set the device."
   ]
  },
  {
   "cell_type": "code",
   "execution_count": 21,
   "metadata": {},
   "outputs": [
    {
     "name": "stdout",
     "output_type": "stream",
     "text": [
      "Using cpu device\n"
     ]
    }
   ],
   "source": [
    "device = \"cuda\" if torch.cuda.is_available() else \"cpu\"\n",
    "print(f\"Using {device} device\")"
   ]
  },
  {
   "cell_type": "code",
   "execution_count": 22,
   "metadata": {},
   "outputs": [],
   "source": [
    "def inn_loss( z, ndim, log_jac_det ):\n",
    "    l = 0.5*torch.sum( z**2, 1 ) - log_jac_det\n",
    "    l = l.mean() / ndim\n",
    "    return l"
   ]
  },
  {
   "cell_type": "code",
   "execution_count": 23,
   "metadata": {},
   "outputs": [],
   "source": [
    "def train_epoch( dataloader, model, optimizer ):\n",
    "    \n",
    "    size = len( dataloader.dataset )\n",
    "    \n",
    "    for batch, X in enumerate(dataloader):\n",
    "\n",
    "        # pass data through network\n",
    "        z, log_jac_det = model( X )\n",
    "        \n",
    "        # compute loss\n",
    "        loss = inn_loss( z, ndim, log_jac_det )\n",
    "\n",
    "        # reset gradients in optimizer\n",
    "        optimizer.zero_grad()\n",
    "        \n",
    "        # compute gradients\n",
    "        loss.backward()\n",
    "        \n",
    "        # update weights with optimizer\n",
    "        optimizer.step()\n",
    "        \n",
    "        # print the training loss every 100 updates\n",
    "        if batch % 100 == 0:\n",
    "            loss, current = loss.item(), batch * len(X)\n",
    "            print( f\"current batch loss: {loss:>7f}  [{current:>5d}/{size:>5d}]\" )"
   ]
  },
  {
   "cell_type": "code",
   "execution_count": 24,
   "metadata": {},
   "outputs": [],
   "source": [
    "def val_pass( dataloader, model ):\n",
    "    \n",
    "    size = len( dataloader.dataset )\n",
    "    num_batches = len( dataloader )\n",
    "    vl = 0.0\n",
    "\n",
    "    # we don't need gradients here since we only use the forward pass\n",
    "    with torch.no_grad():\n",
    "        for X in dataloader:\n",
    "            z, log_jac_det = model( X )\n",
    "            vl += inn_loss( z, ndim, log_jac_det ).item()\n",
    "\n",
    "    vl /= num_batches\n",
    "    print( f\"avg val loss per batch: {vl:>8f}\" )\n",
    "    \n",
    "    return vl\n",
    "\n",
    "def trn_pass( dataloader, model ):\n",
    "    \n",
    "    size = len( dataloader.dataset )\n",
    "    num_batches = len( dataloader )\n",
    "    tl = 0.0\n",
    "\n",
    "    # we don't need gradients here since we only use the forward pass\n",
    "    with torch.no_grad():\n",
    "        for X in dataloader:\n",
    "            z, log_jac_det = model( X )\n",
    "            tl += inn_loss( z, ndim, log_jac_det ).item()\n",
    "\n",
    "    tl /= num_batches\n",
    "    print( f\"avg trn loss per batch: {tl:>8f}\" )\n",
    "    \n",
    "    return tl"
   ]
  },
  {
   "cell_type": "markdown",
   "metadata": {},
   "source": [
    "To optimise the network we need separate optimizers for each model, and we also add a learning rate scheduler regulate the training further."
   ]
  },
  {
   "cell_type": "code",
   "execution_count": 36,
   "metadata": {
    "scrolled": true
   },
   "outputs": [
    {
     "name": "stdout",
     "output_type": "stream",
     "text": [
      "-----------------------------------------------\n",
      "model architecture \n",
      "-----------------------------------------------\n",
      "SequenceINN(\n",
      "  (module_list): ModuleList(\n",
      "    (0): AllInOneBlock(\n",
      "      (softplus): Softplus(beta=0.5, threshold=20)\n",
      "      (subnet): Sequential(\n",
      "        (0): Linear(in_features=4, out_features=128, bias=True)\n",
      "        (1): ReLU()\n",
      "        (2): Linear(in_features=128, out_features=8, bias=True)\n",
      "      )\n",
      "    )\n",
      "    (1): AllInOneBlock(\n",
      "      (softplus): Softplus(beta=0.5, threshold=20)\n",
      "      (subnet): Sequential(\n",
      "        (0): Linear(in_features=4, out_features=128, bias=True)\n",
      "        (1): ReLU()\n",
      "        (2): Linear(in_features=128, out_features=8, bias=True)\n",
      "      )\n",
      "    )\n",
      "    (2): AllInOneBlock(\n",
      "      (softplus): Softplus(beta=0.5, threshold=20)\n",
      "      (subnet): Sequential(\n",
      "        (0): Linear(in_features=4, out_features=128, bias=True)\n",
      "        (1): ReLU()\n",
      "        (2): Linear(in_features=128, out_features=8, bias=True)\n",
      "      )\n",
      "    )\n",
      "    (3): AllInOneBlock(\n",
      "      (softplus): Softplus(beta=0.5, threshold=20)\n",
      "      (subnet): Sequential(\n",
      "        (0): Linear(in_features=4, out_features=128, bias=True)\n",
      "        (1): ReLU()\n",
      "        (2): Linear(in_features=128, out_features=8, bias=True)\n",
      "      )\n",
      "    )\n",
      "    (4): AllInOneBlock(\n",
      "      (softplus): Softplus(beta=0.5, threshold=20)\n",
      "      (subnet): Sequential(\n",
      "        (0): Linear(in_features=4, out_features=128, bias=True)\n",
      "        (1): ReLU()\n",
      "        (2): Linear(in_features=128, out_features=8, bias=True)\n",
      "      )\n",
      "    )\n",
      "    (5): AllInOneBlock(\n",
      "      (softplus): Softplus(beta=0.5, threshold=20)\n",
      "      (subnet): Sequential(\n",
      "        (0): Linear(in_features=4, out_features=128, bias=True)\n",
      "        (1): ReLU()\n",
      "        (2): Linear(in_features=128, out_features=8, bias=True)\n",
      "      )\n",
      "    )\n",
      "    (6): AllInOneBlock(\n",
      "      (softplus): Softplus(beta=0.5, threshold=20)\n",
      "      (subnet): Sequential(\n",
      "        (0): Linear(in_features=4, out_features=128, bias=True)\n",
      "        (1): ReLU()\n",
      "        (2): Linear(in_features=128, out_features=8, bias=True)\n",
      "      )\n",
      "    )\n",
      "    (7): AllInOneBlock(\n",
      "      (softplus): Softplus(beta=0.5, threshold=20)\n",
      "      (subnet): Sequential(\n",
      "        (0): Linear(in_features=4, out_features=128, bias=True)\n",
      "        (1): ReLU()\n",
      "        (2): Linear(in_features=128, out_features=8, bias=True)\n",
      "      )\n",
      "    )\n",
      "  )\n",
      ")\n",
      "-----------------------------------------------\n",
      "Epoch 1\n",
      "-----------------------------------------------\n",
      "current batch loss: 0.231985  [    0/1384081]\n",
      "current batch loss: -1.081748  [250000/1384081]\n",
      "current batch loss: -1.651235  [500000/1384081]\n",
      "current batch loss: -1.902678  [750000/1384081]\n",
      "current batch loss: -2.075740  [1000000/1384081]\n",
      "current batch loss: -2.130662  [1250000/1384081]\n",
      "-----------------------------------------------\n",
      "avg trn loss per batch: -2.183281\n",
      "-----------------------------------------------\n",
      "avg val loss per batch: -2.184631\n",
      "-----------------------------------------------\n",
      "|\n",
      "-----------------------------------------------\n",
      "Epoch 2\n",
      "-----------------------------------------------\n",
      "current batch loss: -2.180350  [    0/1384081]\n",
      "current batch loss: -2.256068  [250000/1384081]\n",
      "current batch loss: -2.291788  [500000/1384081]\n",
      "current batch loss: 0.005531  [750000/1384081]\n",
      "current batch loss: -1.345792  [1000000/1384081]\n",
      "current batch loss: -1.561978  [1250000/1384081]\n",
      "-----------------------------------------------\n",
      "avg trn loss per batch: -1.645955\n",
      "-----------------------------------------------\n",
      "avg val loss per batch: -1.648267\n",
      "-----------------------------------------------\n",
      "|\n",
      "-----------------------------------------------\n",
      "Epoch 3\n",
      "-----------------------------------------------\n",
      "current batch loss: -1.644407  [    0/1384081]\n",
      "current batch loss: -1.749847  [250000/1384081]\n",
      "current batch loss: -1.820977  [500000/1384081]\n",
      "current batch loss: -1.891027  [750000/1384081]\n",
      "current batch loss: -1.936773  [1000000/1384081]\n",
      "current batch loss: -1.983249  [1250000/1384081]\n",
      "-----------------------------------------------\n",
      "avg trn loss per batch: -2.007133\n",
      "-----------------------------------------------\n",
      "avg val loss per batch: -2.008694\n",
      "-----------------------------------------------\n",
      "|\n",
      "-----------------------------------------------\n",
      "Epoch 4\n",
      "-----------------------------------------------\n",
      "current batch loss: -1.999900  [    0/1384081]\n",
      "current batch loss: -2.065438  [250000/1384081]\n",
      "current batch loss: -2.076976  [500000/1384081]\n",
      "current batch loss: -2.128079  [750000/1384081]\n",
      "current batch loss: -2.157328  [1000000/1384081]\n",
      "current batch loss: -2.188247  [1250000/1384081]\n",
      "-----------------------------------------------\n",
      "avg trn loss per batch: -2.208543\n",
      "-----------------------------------------------\n",
      "avg val loss per batch: -2.209735\n",
      "-----------------------------------------------\n",
      "|\n",
      "-----------------------------------------------\n",
      "Epoch 5\n",
      "-----------------------------------------------\n",
      "current batch loss: -2.214075  [    0/1384081]\n",
      "current batch loss: -2.238193  [250000/1384081]\n",
      "current batch loss: -2.277580  [500000/1384081]\n",
      "current batch loss: -2.294885  [750000/1384081]\n",
      "current batch loss: -2.314714  [1000000/1384081]\n",
      "current batch loss: -2.305255  [1250000/1384081]\n",
      "-----------------------------------------------\n",
      "avg trn loss per batch: -2.362539\n",
      "-----------------------------------------------\n",
      "avg val loss per batch: -2.363808\n",
      "-----------------------------------------------\n",
      "|\n",
      "-----------------------------------------------\n",
      "Epoch 6\n",
      "-----------------------------------------------\n",
      "current batch loss: -2.350904  [    0/1384081]\n",
      "current batch loss: -2.381031  [250000/1384081]\n",
      "current batch loss: -2.410593  [500000/1384081]\n",
      "current batch loss: -2.439334  [750000/1384081]\n",
      "current batch loss: -2.448137  [1000000/1384081]\n",
      "current batch loss: -2.474324  [1250000/1384081]\n",
      "-----------------------------------------------\n",
      "avg trn loss per batch: -2.424583\n",
      "-----------------------------------------------\n",
      "avg val loss per batch: -2.426151\n",
      "-----------------------------------------------\n",
      "|\n",
      "-----------------------------------------------\n",
      "Epoch 7\n",
      "-----------------------------------------------\n",
      "current batch loss: -2.420015  [    0/1384081]\n",
      "current batch loss: -2.499391  [250000/1384081]\n",
      "current batch loss: -2.523000  [500000/1384081]\n",
      "current batch loss: -2.529067  [750000/1384081]\n",
      "current batch loss: -2.548295  [1000000/1384081]\n",
      "current batch loss: -2.543315  [1250000/1384081]\n",
      "-----------------------------------------------\n",
      "avg trn loss per batch: -2.568747\n",
      "-----------------------------------------------\n",
      "avg val loss per batch: -2.569944\n",
      "-----------------------------------------------\n",
      "|\n",
      "-----------------------------------------------\n",
      "Epoch 8\n",
      "-----------------------------------------------\n",
      "current batch loss: -2.585439  [    0/1384081]\n",
      "current batch loss: -2.572483  [250000/1384081]\n",
      "current batch loss: -2.610960  [500000/1384081]\n",
      "current batch loss: -2.626713  [750000/1384081]\n",
      "current batch loss: -2.631003  [1000000/1384081]\n",
      "current batch loss: -2.624590  [1250000/1384081]\n",
      "-----------------------------------------------\n",
      "avg trn loss per batch: -2.638120\n",
      "-----------------------------------------------\n",
      "avg val loss per batch: -2.639258\n",
      "-----------------------------------------------\n",
      "|\n",
      "-----------------------------------------------\n",
      "Epoch 9\n",
      "-----------------------------------------------\n",
      "current batch loss: -2.630212  [    0/1384081]\n",
      "current batch loss: -2.649763  [250000/1384081]\n",
      "current batch loss: -2.689450  [500000/1384081]\n",
      "current batch loss: -2.623234  [750000/1384081]\n",
      "current batch loss: -2.691418  [1000000/1384081]\n",
      "current batch loss: -2.596520  [1250000/1384081]\n",
      "-----------------------------------------------\n",
      "avg trn loss per batch: -2.705959\n",
      "-----------------------------------------------\n",
      "avg val loss per batch: -2.707315\n",
      "-----------------------------------------------\n",
      "|\n",
      "-----------------------------------------------\n",
      "Epoch 10\n",
      "-----------------------------------------------\n",
      "current batch loss: -2.706512  [    0/1384081]\n",
      "current batch loss: -2.729004  [250000/1384081]\n",
      "current batch loss: -2.746777  [500000/1384081]\n",
      "current batch loss: -2.523885  [750000/1384081]\n",
      "current batch loss: -2.765216  [1000000/1384081]\n",
      "current batch loss: -2.746091  [1250000/1384081]\n",
      "-----------------------------------------------\n",
      "avg trn loss per batch: -2.773079\n",
      "-----------------------------------------------\n"
     ]
    },
    {
     "name": "stdout",
     "output_type": "stream",
     "text": [
      "avg val loss per batch: -2.774229\n",
      "-----------------------------------------------\n",
      "|\n",
      "-----------------------------------------------\n",
      "Epoch 11\n",
      "-----------------------------------------------\n",
      "current batch loss: -2.773338  [    0/1384081]\n",
      "current batch loss: -2.797142  [250000/1384081]\n",
      "current batch loss: -2.747659  [500000/1384081]\n",
      "current batch loss: -2.753408  [750000/1384081]\n",
      "current batch loss: -2.787023  [1000000/1384081]\n",
      "current batch loss: -2.823620  [1250000/1384081]\n",
      "-----------------------------------------------\n",
      "avg trn loss per batch: -2.829080\n",
      "-----------------------------------------------\n",
      "avg val loss per batch: -2.830124\n",
      "-----------------------------------------------\n",
      "|\n",
      "-----------------------------------------------\n",
      "Epoch 12\n",
      "-----------------------------------------------\n",
      "current batch loss: -2.833019  [    0/1384081]\n",
      "current batch loss: -2.797567  [250000/1384081]\n",
      "current batch loss: -2.842871  [500000/1384081]\n",
      "current batch loss: -2.754305  [750000/1384081]\n",
      "current batch loss: -2.847025  [1000000/1384081]\n",
      "current batch loss: -2.848840  [1250000/1384081]\n",
      "-----------------------------------------------\n",
      "avg trn loss per batch: -2.835865\n",
      "-----------------------------------------------\n",
      "avg val loss per batch: -2.836596\n",
      "-----------------------------------------------\n",
      "|\n",
      "-----------------------------------------------\n",
      "Epoch 13\n",
      "-----------------------------------------------\n",
      "current batch loss: -2.842775  [    0/1384081]\n",
      "current batch loss: -2.877844  [250000/1384081]\n",
      "current batch loss: -2.649658  [500000/1384081]\n",
      "current batch loss: -2.772044  [750000/1384081]\n",
      "current batch loss: -2.891755  [1000000/1384081]\n",
      "current batch loss: -2.862111  [1250000/1384081]\n",
      "-----------------------------------------------\n",
      "avg trn loss per batch: -2.320330\n",
      "-----------------------------------------------\n",
      "avg val loss per batch: -2.321473\n",
      "-----------------------------------------------\n",
      "|\n",
      "-----------------------------------------------\n",
      "Epoch 14\n",
      "-----------------------------------------------\n",
      "current batch loss: -2.297588  [    0/1384081]\n",
      "current batch loss: -2.878085  [250000/1384081]\n",
      "current batch loss: -2.874412  [500000/1384081]\n",
      "current batch loss: -2.881312  [750000/1384081]\n",
      "current batch loss: -2.841363  [1000000/1384081]\n",
      "current batch loss: -2.940028  [1250000/1384081]\n",
      "-----------------------------------------------\n",
      "avg trn loss per batch: -2.840790\n",
      "-----------------------------------------------\n",
      "avg val loss per batch: -2.842104\n",
      "-----------------------------------------------\n",
      "|\n",
      "-----------------------------------------------\n",
      "Epoch 15\n",
      "-----------------------------------------------\n",
      "current batch loss: -2.837676  [    0/1384081]\n",
      "current batch loss: -2.943333  [250000/1384081]\n",
      "current batch loss: -2.609443  [500000/1384081]\n",
      "current batch loss: -2.936083  [750000/1384081]\n",
      "current batch loss: -2.888166  [1000000/1384081]\n",
      "current batch loss: -2.953379  [1250000/1384081]\n",
      "-----------------------------------------------\n",
      "avg trn loss per batch: -2.816975\n",
      "-----------------------------------------------\n",
      "avg val loss per batch: -2.818525\n",
      "-----------------------------------------------\n",
      "|\n",
      "-----------------------------------------------\n",
      "Epoch 16\n",
      "-----------------------------------------------\n",
      "current batch loss: -2.829731  [    0/1384081]\n",
      "current batch loss: -2.943568  [250000/1384081]\n",
      "current batch loss: -2.821523  [500000/1384081]\n",
      "current batch loss: -2.886499  [750000/1384081]\n",
      "current batch loss: -2.952999  [1000000/1384081]\n",
      "current batch loss: -2.861999  [1250000/1384081]\n",
      "-----------------------------------------------\n",
      "avg trn loss per batch: -2.784335\n",
      "-----------------------------------------------\n",
      "avg val loss per batch: -2.785966\n",
      "-----------------------------------------------\n",
      "|\n",
      "-----------------------------------------------\n",
      "Epoch 17\n",
      "-----------------------------------------------\n",
      "current batch loss: -2.801996  [    0/1384081]\n",
      "current batch loss: -2.985845  [250000/1384081]\n",
      "current batch loss: -2.847946  [500000/1384081]\n",
      "current batch loss: -2.925025  [750000/1384081]\n",
      "current batch loss: -2.972458  [1000000/1384081]\n",
      "current batch loss: -3.011959  [1250000/1384081]\n",
      "-----------------------------------------------\n",
      "avg trn loss per batch: -2.891122\n",
      "-----------------------------------------------\n",
      "avg val loss per batch: -2.891984\n",
      "-----------------------------------------------\n",
      "|\n",
      "-----------------------------------------------\n",
      "Epoch 18\n",
      "-----------------------------------------------\n",
      "current batch loss: -2.889470  [    0/1384081]\n",
      "current batch loss: -3.029673  [250000/1384081]\n",
      "current batch loss: -3.040795  [500000/1384081]\n",
      "current batch loss: -2.974699  [750000/1384081]\n",
      "current batch loss: -2.911603  [1000000/1384081]\n",
      "current batch loss: -2.966144  [1250000/1384081]\n",
      "-----------------------------------------------\n",
      "avg trn loss per batch: -3.047804\n",
      "-----------------------------------------------\n",
      "avg val loss per batch: -3.048690\n",
      "-----------------------------------------------\n",
      "|\n",
      "-----------------------------------------------\n",
      "Epoch 19\n",
      "-----------------------------------------------\n",
      "current batch loss: -3.039985  [    0/1384081]\n",
      "current batch loss: -2.912832  [250000/1384081]\n",
      "current batch loss: -2.773801  [500000/1384081]\n",
      "current batch loss: -3.060719  [750000/1384081]\n",
      "current batch loss: -3.049971  [1000000/1384081]\n",
      "current batch loss: -3.018973  [1250000/1384081]\n",
      "-----------------------------------------------\n",
      "avg trn loss per batch: -3.017005\n",
      "-----------------------------------------------\n",
      "avg val loss per batch: -3.017932\n",
      "-----------------------------------------------\n",
      "|\n",
      "-----------------------------------------------\n",
      "Epoch 20\n",
      "-----------------------------------------------\n",
      "current batch loss: -3.018724  [    0/1384081]\n",
      "current batch loss: -3.078768  [250000/1384081]\n",
      "current batch loss: -3.009742  [500000/1384081]\n",
      "current batch loss: -2.821416  [750000/1384081]\n",
      "current batch loss: -3.054280  [1000000/1384081]\n",
      "current batch loss: -2.588013  [1250000/1384081]\n",
      "-----------------------------------------------\n",
      "avg trn loss per batch: -3.044198\n",
      "-----------------------------------------------\n",
      "avg val loss per batch: -3.044942\n",
      "-----------------------------------------------\n",
      "|\n",
      "-----------------------------------------------\n",
      "Epoch 21\n",
      "-----------------------------------------------\n",
      "current batch loss: -3.034838  [    0/1384081]\n",
      "current batch loss: -3.070353  [250000/1384081]\n",
      "current batch loss: -3.044272  [500000/1384081]\n",
      "current batch loss: -2.870930  [750000/1384081]\n",
      "current batch loss: -3.010283  [1000000/1384081]\n",
      "current batch loss: -3.106703  [1250000/1384081]\n",
      "-----------------------------------------------\n",
      "avg trn loss per batch: -3.013585\n",
      "-----------------------------------------------\n",
      "avg val loss per batch: -3.014776\n",
      "-----------------------------------------------\n",
      "|\n",
      "-----------------------------------------------\n",
      "Epoch 22\n",
      "-----------------------------------------------\n",
      "current batch loss: -3.006684  [    0/1384081]\n",
      "current batch loss: -3.075269  [250000/1384081]\n",
      "current batch loss: -3.115381  [500000/1384081]\n",
      "current batch loss: -3.068620  [750000/1384081]\n",
      "current batch loss: -3.111200  [1000000/1384081]\n",
      "current batch loss: -3.112614  [1250000/1384081]\n",
      "-----------------------------------------------\n",
      "avg trn loss per batch: -3.053713\n",
      "-----------------------------------------------\n",
      "avg val loss per batch: -3.054540\n",
      "-----------------------------------------------\n",
      "|\n",
      "-----------------------------------------------\n",
      "Epoch 23\n",
      "-----------------------------------------------\n",
      "current batch loss: -3.041779  [    0/1384081]\n",
      "current batch loss: -3.109170  [250000/1384081]\n",
      "current batch loss: -3.025210  [500000/1384081]\n",
      "current batch loss: -3.126895  [750000/1384081]\n",
      "current batch loss: -3.108176  [1000000/1384081]\n",
      "current batch loss: -2.898762  [1250000/1384081]\n",
      "-----------------------------------------------\n",
      "avg trn loss per batch: -3.098118\n",
      "-----------------------------------------------\n",
      "avg val loss per batch: -3.099005\n",
      "-----------------------------------------------\n",
      "|\n",
      "-----------------------------------------------\n",
      "Epoch 24\n",
      "-----------------------------------------------\n",
      "current batch loss: -3.100769  [    0/1384081]\n",
      "current batch loss: -3.142776  [250000/1384081]\n",
      "current batch loss: -3.071819  [500000/1384081]\n"
     ]
    },
    {
     "name": "stdout",
     "output_type": "stream",
     "text": [
      "current batch loss: -3.122562  [750000/1384081]\n",
      "current batch loss: -3.127491  [1000000/1384081]\n",
      "current batch loss: -3.056620  [1250000/1384081]\n",
      "-----------------------------------------------\n",
      "avg trn loss per batch: -3.145842\n",
      "-----------------------------------------------\n",
      "avg val loss per batch: -3.146621\n",
      "-----------------------------------------------\n",
      "|\n",
      "-----------------------------------------------\n",
      "Epoch 25\n",
      "-----------------------------------------------\n",
      "current batch loss: -3.152548  [    0/1384081]\n",
      "current batch loss: -3.108511  [250000/1384081]\n",
      "current batch loss: -3.129835  [500000/1384081]\n",
      "current batch loss: -3.046397  [750000/1384081]\n",
      "current batch loss: -3.128485  [1000000/1384081]\n",
      "current batch loss: -3.171121  [1250000/1384081]\n",
      "-----------------------------------------------\n",
      "avg trn loss per batch: -3.086923\n",
      "-----------------------------------------------\n",
      "avg val loss per batch: -3.087762\n",
      "-----------------------------------------------\n",
      "|\n",
      "-----------------------------------------------\n",
      "Epoch 26\n",
      "-----------------------------------------------\n",
      "current batch loss: -3.083434  [    0/1384081]\n",
      "current batch loss: -2.645260  [250000/1384081]\n",
      "current batch loss: -2.456795  [500000/1384081]\n",
      "current batch loss: -3.161803  [750000/1384081]\n",
      "current batch loss: -3.091547  [1000000/1384081]\n",
      "current batch loss: -3.063248  [1250000/1384081]\n",
      "-----------------------------------------------\n",
      "avg trn loss per batch: -3.176998\n",
      "-----------------------------------------------\n",
      "avg val loss per batch: -3.177631\n",
      "-----------------------------------------------\n",
      "|\n",
      "-----------------------------------------------\n",
      "Epoch 27\n",
      "-----------------------------------------------\n",
      "current batch loss: -3.184893  [    0/1384081]\n",
      "current batch loss: -3.163764  [250000/1384081]\n",
      "current batch loss: -3.176748  [500000/1384081]\n",
      "current batch loss: -3.135132  [750000/1384081]\n",
      "current batch loss: -3.141577  [1000000/1384081]\n",
      "current batch loss: -3.075098  [1250000/1384081]\n",
      "-----------------------------------------------\n",
      "avg trn loss per batch: -3.158617\n",
      "-----------------------------------------------\n",
      "avg val loss per batch: -3.159423\n",
      "-----------------------------------------------\n",
      "|\n",
      "-----------------------------------------------\n",
      "Epoch 28\n",
      "-----------------------------------------------\n",
      "current batch loss: -3.160229  [    0/1384081]\n",
      "current batch loss: -3.159568  [250000/1384081]\n",
      "current batch loss: -3.085428  [500000/1384081]\n",
      "current batch loss: -2.444984  [750000/1384081]\n",
      "current batch loss: -3.186843  [1000000/1384081]\n",
      "current batch loss: -3.183915  [1250000/1384081]\n",
      "-----------------------------------------------\n",
      "avg trn loss per batch: -3.066812\n",
      "-----------------------------------------------\n",
      "avg val loss per batch: -3.067356\n",
      "-----------------------------------------------\n",
      "|\n",
      "-----------------------------------------------\n",
      "Epoch 29\n",
      "-----------------------------------------------\n",
      "current batch loss: -3.058214  [    0/1384081]\n",
      "current batch loss: -3.129670  [250000/1384081]\n",
      "current batch loss: -2.854055  [500000/1384081]\n",
      "current batch loss: -3.156773  [750000/1384081]\n",
      "current batch loss: -3.106010  [1000000/1384081]\n",
      "current batch loss: -3.116184  [1250000/1384081]\n",
      "-----------------------------------------------\n",
      "avg trn loss per batch: -2.577366\n",
      "-----------------------------------------------\n",
      "avg val loss per batch: -2.577878\n",
      "-----------------------------------------------\n",
      "|\n",
      "-----------------------------------------------\n",
      "Epoch 30\n",
      "-----------------------------------------------\n",
      "current batch loss: -2.590313  [    0/1384081]\n",
      "current batch loss: -3.199728  [250000/1384081]\n",
      "current batch loss: -3.202960  [500000/1384081]\n",
      "current batch loss: -3.100303  [750000/1384081]\n",
      "current batch loss: -3.200184  [1000000/1384081]\n",
      "current batch loss: -2.844532  [1250000/1384081]\n",
      "-----------------------------------------------\n",
      "avg trn loss per batch: -3.208277\n",
      "-----------------------------------------------\n",
      "avg val loss per batch: -3.208985\n",
      "-----------------------------------------------\n",
      "|\n",
      "-----------------------------------------------\n",
      "Epoch 31\n",
      "-----------------------------------------------\n",
      "current batch loss: -3.212491  [    0/1384081]\n",
      "current batch loss: -3.163054  [250000/1384081]\n",
      "current batch loss: -3.139626  [500000/1384081]\n",
      "current batch loss: -3.204505  [750000/1384081]\n",
      "current batch loss: -3.167027  [1000000/1384081]\n",
      "current batch loss: -3.200759  [1250000/1384081]\n",
      "-----------------------------------------------\n",
      "avg trn loss per batch: -2.795880\n",
      "-----------------------------------------------\n",
      "avg val loss per batch: -2.797496\n",
      "-----------------------------------------------\n",
      "|\n",
      "-----------------------------------------------\n",
      "Epoch 32\n",
      "-----------------------------------------------\n",
      "current batch loss: -2.799401  [    0/1384081]\n",
      "current batch loss: -3.228410  [250000/1384081]\n",
      "current batch loss: -2.873073  [500000/1384081]\n",
      "current batch loss: -2.950341  [750000/1384081]\n",
      "current batch loss: -3.184716  [1000000/1384081]\n",
      "current batch loss: -3.199275  [1250000/1384081]\n",
      "-----------------------------------------------\n",
      "avg trn loss per batch: -3.182384\n",
      "-----------------------------------------------\n",
      "avg val loss per batch: -3.182826\n",
      "-----------------------------------------------\n",
      "|\n",
      "-----------------------------------------------\n",
      "Epoch 33\n",
      "-----------------------------------------------\n",
      "current batch loss: -3.182471  [    0/1384081]\n",
      "current batch loss: -2.849362  [250000/1384081]\n",
      "current batch loss: -3.221798  [500000/1384081]\n",
      "current batch loss: -3.153650  [750000/1384081]\n",
      "current batch loss: -3.207535  [1000000/1384081]\n",
      "current batch loss: -3.222010  [1250000/1384081]\n",
      "-----------------------------------------------\n",
      "avg trn loss per batch: -3.220360\n",
      "-----------------------------------------------\n",
      "avg val loss per batch: -3.221310\n",
      "-----------------------------------------------\n",
      "|\n",
      "-----------------------------------------------\n",
      "Epoch 34\n",
      "-----------------------------------------------\n",
      "current batch loss: -3.209417  [    0/1384081]\n",
      "current batch loss: -3.068606  [250000/1384081]\n",
      "current batch loss: -3.100294  [500000/1384081]\n",
      "current batch loss: -3.227387  [750000/1384081]\n",
      "current batch loss: -3.212973  [1000000/1384081]\n",
      "current batch loss: -3.242828  [1250000/1384081]\n",
      "-----------------------------------------------\n",
      "avg trn loss per batch: -3.251495\n",
      "-----------------------------------------------\n",
      "avg val loss per batch: -3.252117\n",
      "-----------------------------------------------\n",
      "|\n",
      "-----------------------------------------------\n",
      "Epoch 35\n",
      "-----------------------------------------------\n",
      "current batch loss: -3.240731  [    0/1384081]\n",
      "current batch loss: -3.241776  [250000/1384081]\n",
      "current batch loss: -3.248610  [500000/1384081]\n",
      "current batch loss: -2.987425  [750000/1384081]\n",
      "current batch loss: -3.226950  [1000000/1384081]\n",
      "current batch loss: -3.260057  [1250000/1384081]\n",
      "-----------------------------------------------\n",
      "avg trn loss per batch: -3.188575\n",
      "-----------------------------------------------\n",
      "avg val loss per batch: -3.189431\n",
      "-----------------------------------------------\n",
      "|\n",
      "-----------------------------------------------\n",
      "Epoch 36\n",
      "-----------------------------------------------\n",
      "current batch loss: -3.190220  [    0/1384081]\n",
      "current batch loss: -3.147385  [250000/1384081]\n",
      "current batch loss: -3.085547  [500000/1384081]\n",
      "current batch loss: -3.235549  [750000/1384081]\n",
      "current batch loss: -3.245234  [1000000/1384081]\n",
      "current batch loss: -3.229799  [1250000/1384081]\n",
      "-----------------------------------------------\n",
      "avg trn loss per batch: -3.154064\n",
      "-----------------------------------------------\n",
      "avg val loss per batch: -3.155271\n",
      "-----------------------------------------------\n",
      "|\n",
      "-----------------------------------------------\n",
      "Epoch 37\n",
      "-----------------------------------------------\n",
      "current batch loss: -3.153534  [    0/1384081]\n",
      "current batch loss: -3.264748  [250000/1384081]\n",
      "current batch loss: -3.141809  [500000/1384081]\n",
      "current batch loss: -3.148961  [750000/1384081]\n",
      "current batch loss: -3.139947  [1000000/1384081]\n",
      "current batch loss: -3.258090  [1250000/1384081]\n",
      "-----------------------------------------------\n",
      "avg trn loss per batch: -2.872944\n",
      "-----------------------------------------------\n",
      "avg val loss per batch: -2.876423\n",
      "-----------------------------------------------\n",
      "|\n",
      "-----------------------------------------------\n",
      "Epoch 38\n",
      "-----------------------------------------------\n",
      "current batch loss: -2.893716  [    0/1384081]\n"
     ]
    },
    {
     "name": "stdout",
     "output_type": "stream",
     "text": [
      "current batch loss: -3.174422  [250000/1384081]\n",
      "current batch loss: -3.213459  [500000/1384081]\n",
      "current batch loss: -3.241357  [750000/1384081]\n",
      "current batch loss: -2.868732  [1000000/1384081]\n",
      "current batch loss: -2.839727  [1250000/1384081]\n",
      "-----------------------------------------------\n",
      "avg trn loss per batch: -3.232143\n",
      "-----------------------------------------------\n",
      "avg val loss per batch: -3.232724\n",
      "-----------------------------------------------\n",
      "|\n",
      "-----------------------------------------------\n",
      "Epoch 39\n",
      "-----------------------------------------------\n",
      "current batch loss: -3.219747  [    0/1384081]\n",
      "current batch loss: -3.265328  [250000/1384081]\n",
      "current batch loss: -3.271748  [500000/1384081]\n",
      "current batch loss: -3.211043  [750000/1384081]\n",
      "current batch loss: -3.201252  [1000000/1384081]\n",
      "current batch loss: -3.186126  [1250000/1384081]\n",
      "-----------------------------------------------\n",
      "avg trn loss per batch: -3.275135\n",
      "-----------------------------------------------\n",
      "avg val loss per batch: -3.275856\n",
      "-----------------------------------------------\n",
      "|\n",
      "-----------------------------------------------\n",
      "Epoch 40\n",
      "-----------------------------------------------\n",
      "current batch loss: -3.274750  [    0/1384081]\n",
      "current batch loss: -3.262087  [250000/1384081]\n",
      "current batch loss: -3.257339  [500000/1384081]\n",
      "current batch loss: -3.238488  [750000/1384081]\n",
      "current batch loss: -3.067486  [1000000/1384081]\n",
      "current batch loss: -3.266923  [1250000/1384081]\n",
      "-----------------------------------------------\n",
      "avg trn loss per batch: -3.253363\n",
      "-----------------------------------------------\n",
      "avg val loss per batch: -3.254058\n",
      "-----------------------------------------------\n",
      "|\n",
      "-----------------------------------------------\n",
      "Epoch 41\n",
      "-----------------------------------------------\n",
      "current batch loss: -3.262241  [    0/1384081]\n",
      "current batch loss: -2.200576  [250000/1384081]\n",
      "current batch loss: -3.271425  [500000/1384081]\n",
      "current batch loss: -3.264055  [750000/1384081]\n",
      "current batch loss: -2.989060  [1000000/1384081]\n",
      "current batch loss: -3.252657  [1250000/1384081]\n",
      "-----------------------------------------------\n",
      "avg trn loss per batch: -2.944770\n",
      "-----------------------------------------------\n",
      "avg val loss per batch: -2.945721\n",
      "-----------------------------------------------\n",
      "|\n",
      "-----------------------------------------------\n",
      "Epoch 42\n",
      "-----------------------------------------------\n",
      "current batch loss: -2.922073  [    0/1384081]\n",
      "current batch loss: -3.267501  [250000/1384081]\n",
      "current batch loss: -3.276243  [500000/1384081]\n",
      "current batch loss: -3.292649  [750000/1384081]\n",
      "current batch loss: -3.259109  [1000000/1384081]\n",
      "current batch loss: -3.250027  [1250000/1384081]\n",
      "-----------------------------------------------\n",
      "avg trn loss per batch: -3.272828\n",
      "-----------------------------------------------\n",
      "avg val loss per batch: -3.273454\n",
      "-----------------------------------------------\n",
      "|\n",
      "-----------------------------------------------\n",
      "Epoch 43\n",
      "-----------------------------------------------\n",
      "current batch loss: -3.280181  [    0/1384081]\n",
      "current batch loss: -3.203177  [250000/1384081]\n",
      "current batch loss: -3.267819  [500000/1384081]\n",
      "current batch loss: -3.294055  [750000/1384081]\n",
      "current batch loss: -3.300631  [1000000/1384081]\n",
      "current batch loss: -3.269690  [1250000/1384081]\n",
      "-----------------------------------------------\n",
      "avg trn loss per batch: -3.256012\n",
      "-----------------------------------------------\n",
      "avg val loss per batch: -3.256472\n",
      "-----------------------------------------------\n",
      "|\n",
      "-----------------------------------------------\n",
      "Epoch 44\n",
      "-----------------------------------------------\n",
      "current batch loss: -3.246364  [    0/1384081]\n",
      "current batch loss: -3.263253  [250000/1384081]\n",
      "current batch loss: -3.248559  [500000/1384081]\n",
      "current batch loss: -3.274282  [750000/1384081]\n",
      "current batch loss: -3.301156  [1000000/1384081]\n",
      "current batch loss: -3.306496  [1250000/1384081]\n",
      "-----------------------------------------------\n",
      "avg trn loss per batch: -3.109776\n",
      "-----------------------------------------------\n",
      "avg val loss per batch: -3.111269\n",
      "-----------------------------------------------\n",
      "|\n",
      "-----------------------------------------------\n",
      "Epoch 45\n",
      "-----------------------------------------------\n",
      "current batch loss: -3.097981  [    0/1384081]\n",
      "current batch loss: -3.309278  [250000/1384081]\n",
      "current batch loss: -3.304300  [500000/1384081]\n",
      "current batch loss: -3.203913  [750000/1384081]\n",
      "current batch loss: -3.304897  [1000000/1384081]\n",
      "current batch loss: -3.179970  [1250000/1384081]\n",
      "-----------------------------------------------\n",
      "avg trn loss per batch: -3.313447\n",
      "-----------------------------------------------\n",
      "avg val loss per batch: -3.313953\n",
      "-----------------------------------------------\n",
      "|\n",
      "-----------------------------------------------\n",
      "Epoch 46\n",
      "-----------------------------------------------\n",
      "current batch loss: -3.308687  [    0/1384081]\n",
      "current batch loss: -3.038910  [250000/1384081]\n",
      "current batch loss: -1.653113  [500000/1384081]\n",
      "current batch loss: -3.317415  [750000/1384081]\n",
      "current batch loss: -3.307612  [1000000/1384081]\n",
      "current batch loss: -3.320395  [1250000/1384081]\n",
      "-----------------------------------------------\n",
      "avg trn loss per batch: -3.226677\n",
      "-----------------------------------------------\n",
      "avg val loss per batch: -3.227091\n",
      "-----------------------------------------------\n",
      "|\n",
      "-----------------------------------------------\n",
      "Epoch 47\n",
      "-----------------------------------------------\n",
      "current batch loss: -3.230610  [    0/1384081]\n",
      "current batch loss: -3.315480  [250000/1384081]\n",
      "current batch loss: -3.295780  [500000/1384081]\n",
      "current batch loss: -3.256956  [750000/1384081]\n",
      "current batch loss: -2.308258  [1000000/1384081]\n",
      "current batch loss: -3.154347  [1250000/1384081]\n",
      "-----------------------------------------------\n",
      "avg trn loss per batch: -3.116252\n",
      "-----------------------------------------------\n",
      "avg val loss per batch: -3.116864\n",
      "-----------------------------------------------\n",
      "|\n",
      "-----------------------------------------------\n",
      "Epoch 48\n",
      "-----------------------------------------------\n",
      "current batch loss: -3.109062  [    0/1384081]\n",
      "current batch loss: -3.312638  [250000/1384081]\n",
      "current batch loss: -3.143602  [500000/1384081]\n",
      "current batch loss: -3.194303  [750000/1384081]\n",
      "current batch loss: -3.299170  [1000000/1384081]\n",
      "current batch loss: -3.313245  [1250000/1384081]\n",
      "-----------------------------------------------\n",
      "avg trn loss per batch: -3.140806\n",
      "-----------------------------------------------\n",
      "avg val loss per batch: -3.141937\n",
      "-----------------------------------------------\n",
      "|\n",
      "-----------------------------------------------\n",
      "Epoch 49\n",
      "-----------------------------------------------\n",
      "current batch loss: -3.141011  [    0/1384081]\n",
      "current batch loss: -3.226717  [250000/1384081]\n",
      "current batch loss: -3.281295  [500000/1384081]\n",
      "current batch loss: -3.249214  [750000/1384081]\n",
      "current batch loss: -3.131913  [1000000/1384081]\n",
      "current batch loss: -3.194471  [1250000/1384081]\n",
      "-----------------------------------------------\n",
      "avg trn loss per batch: -3.314853\n",
      "-----------------------------------------------\n",
      "avg val loss per batch: -3.315261\n",
      "-----------------------------------------------\n",
      "|\n",
      "-----------------------------------------------\n",
      "Epoch 50\n",
      "-----------------------------------------------\n",
      "current batch loss: -3.318506  [    0/1384081]\n",
      "current batch loss: -3.285590  [250000/1384081]\n",
      "current batch loss: -3.303375  [500000/1384081]\n",
      "current batch loss: -3.125492  [750000/1384081]\n",
      "current batch loss: -3.306192  [1000000/1384081]\n",
      "current batch loss: -3.303763  [1250000/1384081]\n",
      "-----------------------------------------------\n",
      "avg trn loss per batch: -3.327331\n",
      "-----------------------------------------------\n",
      "avg val loss per batch: -3.327979\n",
      "-----------------------------------------------\n",
      "|\n",
      "Done!\n"
     ]
    }
   ],
   "source": [
    "# a useful function to present things clearer\n",
    "def separator():\n",
    "    print( \"-----------------------------------------------\" )\n",
    "\n",
    "epochs = 50\n",
    "\n",
    "# re-initialise the model and the optimizer\n",
    "def subnet_fc( dims_in, dims_out ):\n",
    "    return nn.Sequential( nn.Linear(dims_in, 128), \n",
    "                         nn.ReLU(),\n",
    "                         nn.Linear(128,  dims_out) )\n",
    "ndim = 8\n",
    "inn = Ff.SequenceINN( ndim )\n",
    "for k in range(8):\n",
    "    inn.append( Fm.AllInOneBlock, subnet_constructor=subnet_fc, permute_soft=True )\n",
    "learning_rate = 0.001\n",
    "optimizer = torch.optim.Adam( inn.parameters(), lr=learning_rate )\n",
    "separator()\n",
    "print( \"model architecture \")\n",
    "separator()\n",
    "print( inn )\n",
    "\n",
    "# track train and val losses\n",
    "trn_losses = []\n",
    "val_losses = []\n",
    "\n",
    "for t in range(epochs):\n",
    "    separator()\n",
    "    print( f\"Epoch {t+1}\" )\n",
    "    separator()\n",
    "    train_epoch( trn_dataloader, inn, optimizer )\n",
    "    separator()\n",
    "    trn_loss = trn_pass( trn_dataloader, inn )\n",
    "    trn_losses.append( trn_loss )\n",
    "    separator()\n",
    "    val_loss = val_pass( val_dataloader, inn )\n",
    "    val_losses.append( val_loss )\n",
    "    separator()\n",
    "    print( \"|\" )\n",
    "    \n",
    "print(\"Done!\")"
   ]
  },
  {
   "cell_type": "markdown",
   "metadata": {},
   "source": [
    "## Study the results"
   ]
  },
  {
   "cell_type": "markdown",
   "metadata": {},
   "source": [
    "First let's plot the training and validation losses to see how they look."
   ]
  },
  {
   "cell_type": "code",
   "execution_count": 37,
   "metadata": {},
   "outputs": [
    {
     "data": {
      "image/png": "[encoded data removed]",
      "text/plain": [
       "<Figure size 504x360 with 1 Axes>"
      ]
     },
     "metadata": {
      "needs_background": "light"
     },
     "output_type": "display_data"
    }
   ],
   "source": [
    "fig, axs = plt.subplots( 1, 1, figsize=(7,5) )\n",
    "\n",
    "c1 = 'tab:red'\n",
    "c2 = 'tab:green'\n",
    "\n",
    "axs.plot( trn_losses, label=\"train loss\", color=c1 )\n",
    "axs.plot( val_losses, label=\"val   loss\", color=c2 )\n",
    "\n",
    "#axs.set_yscale('log')\n",
    "\n",
    "axs.set_xlabel( \"epoch\", fontproperties=axislabelfont )\n",
    "axs.set_ylabel( \"Binary CE\", fontproperties=axislabelfont )\n",
    "\n",
    "xticks = [ int(x) for x in axs.get_xticks() ]\n",
    "axs.set_xticklabels( xticks, fontproperties=tickfont )\n",
    "\n",
    "yticks = axs.get_yticks()\n",
    "axs.set_yticklabels( yticks, fontproperties=tickfont )\n",
    "\n",
    "axs.legend( loc='best', prop=tickfont )\n",
    "\n",
    "fig.tight_layout()"
   ]
  },
  {
   "cell_type": "markdown",
   "metadata": {},
   "source": [
    "## Let's generate some events!"
   ]
  },
  {
   "cell_type": "markdown",
   "metadata": {},
   "source": [
    "We first need to generate random data from the unit normal distribution, the same used during training, with the correct shape.  Here we use $10$k samples."
   ]
  },
  {
   "cell_type": "code",
   "execution_count": 38,
   "metadata": {},
   "outputs": [],
   "source": [
    "z_gen = torch.randn( (10000, ndim) )\n",
    "x_gen, _ = inn( z_gen, rev=True )\n",
    "x_gen = x_gen*100.0"
   ]
  },
  {
   "cell_type": "code",
   "execution_count": 39,
   "metadata": {},
   "outputs": [
    {
     "data": {
      "text/plain": [
       "torch.Size([10000, 8])"
      ]
     },
     "execution_count": 39,
     "metadata": {},
     "output_type": "execute_result"
    }
   ],
   "source": [
    "x_gen.shape"
   ]
  },
  {
   "cell_type": "markdown",
   "metadata": {},
   "source": [
    "Plot the energy distribution of the first jet, for both real and generated data:"
   ]
  },
  {
   "cell_type": "code",
   "execution_count": 40,
   "metadata": {},
   "outputs": [
    {
     "data": {
      "image/png": "[encoded data removed]",
      "text/plain": [
       "<Figure size 432x360 with 1 Axes>"
      ]
     },
     "metadata": {
      "needs_background": "light"
     },
     "output_type": "display_data"
    }
   ],
   "source": [
    "fig, axs = plt.subplots( figsize=(6,5) )\n",
    "\n",
    "bins = np.arange( 0, 350, step=20 )\n",
    "axs.hist( x_gen.detach().numpy()[:,0], alpha=0.5, density=True, bins=bins, label='gen' )\n",
    "axs.hist( dy_trn_data[:,0], alpha=0.5, density=True, bins=bins, label='real' )\n",
    "\n",
    "axs.set_xlabel( \"$E_{1}$ (GeV)\", fontproperties=axislabelfont )\n",
    "axs.set_ylabel( \"\\#events\", fontproperties=axislabelfont )\n",
    "\n",
    "yticks = [  ]\n",
    "axs.set_yticklabels( yticks, fontproperties=tickfont )\n",
    "\n",
    "xticks = [ int(x) for x in axs.get_xticks() ]\n",
    "axs.set_xticklabels( xticks, fontproperties=tickfont )\n",
    "\n",
    "axs.legend( loc='best', prop=tickfont )\n",
    "\n",
    "fig.tight_layout()\n",
    "fig.show()"
   ]
  },
  {
   "cell_type": "markdown",
   "metadata": {},
   "source": [
    "Looks good!!"
   ]
  },
  {
   "cell_type": "markdown",
   "metadata": {},
   "source": [
    "We can do the same for $p_y$ of the first jet:"
   ]
  },
  {
   "cell_type": "code",
   "execution_count": 41,
   "metadata": {},
   "outputs": [
    {
     "data": {
      "image/png": "[encoded data removed]",
      "text/plain": [
       "<Figure size 432x360 with 1 Axes>"
      ]
     },
     "metadata": {
      "needs_background": "light"
     },
     "output_type": "display_data"
    }
   ],
   "source": [
    "fig, axs = plt.subplots( figsize=(6,5) )\n",
    "\n",
    "bins = np.arange( -100, +100, step=10 )\n",
    "axs.hist( x_gen.detach().numpy()[:,2], alpha=0.5, density=True, bins=bins, label='gen' )\n",
    "axs.hist( dy_trn_data[:,2], alpha=0.5, density=True, bins=bins, label='real' )\n",
    "\n",
    "axs.set_xlabel( \"$p_{y,1}$ (GeV)\", fontproperties=axislabelfont )\n",
    "axs.set_ylabel( \"\\#events\", fontproperties=axislabelfont )\n",
    "\n",
    "yticks = [  ]\n",
    "axs.set_yticklabels( yticks, fontproperties=tickfont )\n",
    "\n",
    "xticks = [ int(x) for x in axs.get_xticks() ]\n",
    "axs.set_xticklabels( xticks, fontproperties=tickfont )\n",
    "\n",
    "axs.legend( loc='best', prop=tickfont )\n",
    "\n",
    "fig.tight_layout()\n",
    "fig.show()"
   ]
  },
  {
   "cell_type": "code",
   "execution_count": 32,
   "metadata": {},
   "outputs": [],
   "source": [
    "x_gen_evnt_ims, x_gen_evnt_pts, x_gen_jet1_pts, x_gen_jet2_pts = get_obs( x_gen.detach().numpy() )"
   ]
  },
  {
   "cell_type": "markdown",
   "metadata": {},
   "source": [
    "The $p_T$ of the first jet:"
   ]
  },
  {
   "cell_type": "code",
   "execution_count": 42,
   "metadata": {},
   "outputs": [
    {
     "data": {
      "image/png": "[encoded data removed]",
      "text/plain": [
       "<Figure size 432x360 with 1 Axes>"
      ]
     },
     "metadata": {
      "needs_background": "light"
     },
     "output_type": "display_data"
    }
   ],
   "source": [
    "fig, axs = plt.subplots( figsize=(6,5) )\n",
    "\n",
    "bins = np.arange( 5, 85, step=5 )\n",
    "axs.hist( x_gen_jet1_pts, alpha=0.5, density=True, bins=bins, label='gen' )\n",
    "axs.hist( trn_jet1_pts, alpha=0.5, density=True, bins=bins, label='real' )\n",
    "\n",
    "axs.set_xlabel( \"$p_{T,1}$ (GeV)\", fontproperties=axislabelfont )\n",
    "axs.set_ylabel( \"\\#events\", fontproperties=axislabelfont )\n",
    "\n",
    "yticks = [  ]\n",
    "axs.set_yticklabels( yticks, fontproperties=tickfont )\n",
    "\n",
    "xticks = [ int(x) for x in axs.get_xticks() ]\n",
    "axs.set_xticklabels( xticks, fontproperties=tickfont )\n",
    "\n",
    "axs.legend( loc='best', prop=tickfont )\n",
    "\n",
    "fig.tight_layout()\n",
    "fig.show()"
   ]
  },
  {
   "cell_type": "markdown",
   "metadata": {},
   "source": [
    "Looks good!"
   ]
  },
  {
   "cell_type": "markdown",
   "metadata": {},
   "source": [
    "Now the invariant mass of the whole event:"
   ]
  },
  {
   "cell_type": "code",
   "execution_count": 43,
   "metadata": {},
   "outputs": [
    {
     "data": {
      "image/png": "[encoded data removed]",
      "text/plain": [
       "<Figure size 432x360 with 1 Axes>"
      ]
     },
     "metadata": {
      "needs_background": "light"
     },
     "output_type": "display_data"
    }
   ],
   "source": [
    "fig, axs = plt.subplots( figsize=(6,5) )\n",
    "\n",
    "bins = np.arange( 5, 165, step=10 )\n",
    "axs.hist( np.nan_to_num( x_gen_evnt_ims ), alpha=0.5, density=True, bins=bins, label='gen' )\n",
    "axs.hist( np.nan_to_num( trn_evnt_ims ), alpha=0.5, density=True, bins=bins, label='real' )\n",
    "\n",
    "axs.set_xlabel( \"$m_{\\mu\\mu}$ (GeV)\", fontproperties=axislabelfont )\n",
    "axs.set_ylabel( \"\\#events\", fontproperties=axislabelfont )\n",
    "\n",
    "yticks = [  ]\n",
    "axs.set_yticklabels( yticks, fontproperties=tickfont )\n",
    "\n",
    "xticks = [ int(x) for x in axs.get_xticks() ]\n",
    "axs.set_xticklabels( xticks, fontproperties=tickfont )\n",
    "\n",
    "axs.legend( loc='best', prop=tickfont )\n",
    "\n",
    "fig.tight_layout()\n",
    "fig.show()"
   ]
  },
  {
   "cell_type": "markdown",
   "metadata": {},
   "source": [
    "## Removing redundant degrees of freedom"
   ]
  },
  {
   "cell_type": "markdown",
   "metadata": {},
   "source": [
    "In the collider the incoming particles have no momentum in the $x$ or $y$ directions, therefore momentum conservation means that the final state should also not have any momentum in these directions.  This means that we have redundant degrees of freedom that can be removed from the data.\n",
    "\n",
    "We can check this:"
   ]
  },
  {
   "cell_type": "code",
   "execution_count": 44,
   "metadata": {},
   "outputs": [
    {
     "data": {
      "image/png": "[encoded data removed]",
      "text/plain": [
       "<Figure size 432x360 with 1 Axes>"
      ]
     },
     "metadata": {
      "needs_background": "light"
     },
     "output_type": "display_data"
    }
   ],
   "source": [
    "fig, axs = plt.subplots( figsize=(6,5) )\n",
    "\n",
    "bins = np.arange( -5, 5, step=0.1 )\n",
    "axs.hist( dy_trn_data[:,1]+dy_trn_data[:,5], alpha=0.5, density=True, bins=bins, label='$p_{x,1}+p_{x_2}$' )\n",
    "axs.hist( dy_trn_data[:,2]+dy_trn_data[:,6], alpha=0.5, density=True, bins=bins, label='$p_{y,1}+p_{y_2}$' )\n",
    "\n",
    "axs.set_xlabel( \"$p_T$ (GeV)\", fontproperties=axislabelfont )\n",
    "axs.set_ylabel( \"\\#events\", fontproperties=axislabelfont )\n",
    "\n",
    "yticks = [  ]\n",
    "axs.set_yticklabels( yticks, fontproperties=tickfont )\n",
    "\n",
    "xticks = [ int(x) for x in axs.get_xticks() ]\n",
    "axs.set_xticklabels( xticks, fontproperties=tickfont )\n",
    "\n",
    "axs.legend( loc='best', prop=tickfont )\n",
    "\n",
    "fig.tight_layout()\n",
    "fig.show()"
   ]
  },
  {
   "cell_type": "markdown",
   "metadata": {},
   "source": [
    "Muons have a mass of about $106$ MeV.  This is much smaller than the typical energy scales involved in the Drell-Yan process we are studying, so we can assume to a good approximation that the mass of the final state particles are zero.  These final state particles are on-shell, i.e. $p^2=m^2=0$, so we can also use this as a constraint.  We can check that this approximately holds:"
   ]
  },
  {
   "cell_type": "code",
   "execution_count": 45,
   "metadata": {},
   "outputs": [
    {
     "data": {
      "image/png": "[encoded data removed]",
      "text/plain": [
       "<Figure size 432x360 with 1 Axes>"
      ]
     },
     "metadata": {
      "needs_background": "light"
     },
     "output_type": "display_data"
    }
   ],
   "source": [
    "fig, axs = plt.subplots( figsize=(6,5) )\n",
    "\n",
    "bins = np.arange( -5, 5, step=0.1 )\n",
    "axs.hist( dy_trn_data[:,0]**2-dy_trn_data[:,1]**2-dy_trn_data[:,2]**2-dy_trn_data[:,3]**2, \n",
    "         alpha=0.5, density=True, bins=bins, label='$m_1^2$' )\n",
    "axs.hist( dy_trn_data[:,4]**2-dy_trn_data[:,5]**2-dy_trn_data[:,6]**2-dy_trn_data[:,7]**2, \n",
    "         alpha=0.5, density=True, bins=bins, label='$m_2^2$' )\n",
    "\n",
    "axs.set_xlabel( \"$m^2$ (GeV$^2$)\", fontproperties=axislabelfont )\n",
    "axs.set_ylabel( \"\\#events\", fontproperties=axislabelfont )\n",
    "\n",
    "yticks = [  ]\n",
    "axs.set_yticklabels( yticks, fontproperties=tickfont )\n",
    "\n",
    "xticks = [ int(x) for x in axs.get_xticks() ]\n",
    "axs.set_xticklabels( xticks, fontproperties=tickfont )\n",
    "\n",
    "axs.legend( loc='best', prop=tickfont )\n",
    "\n",
    "fig.tight_layout()\n",
    "fig.show()"
   ]
  },
  {
   "cell_type": "markdown",
   "metadata": {},
   "source": [
    "We can remove $p_{x,2}$, $p_{y,2}$, $E_{1}$, and $E_{2}$ by simply removing these from the data.  They can be calculated and re-introduced from:\n",
    "- $p_{x,2}=-p_{x,1}$\n",
    "- $p_{y,2}=-p_{y,1}$\n",
    "- $E_{1}=\\sqrt{p_{x,1}^2+p_{y,1}^2+p_{z,1}^2}$\n",
    "- $E_{2}=\\sqrt{p_{x,2}^2+p_{y,2}^2+p_{z,2}^2}=\\sqrt{p_{x,1}^2+p_{y,1}^2+p_{z,2}^2}$\n",
    "\n",
    "So we are left with $4$ degrees of freedom."
   ]
  },
  {
   "cell_type": "markdown",
   "metadata": {},
   "source": [
    "Let's re-do the data."
   ]
  },
  {
   "cell_type": "code",
   "execution_count": 46,
   "metadata": {},
   "outputs": [],
   "source": [
    "dy_trn_data_nr = np.delete( dy_trn_data, (0,1,2,4), axis=1 )\n",
    "dy_val_data_nr = np.delete( dy_val_data, (0,1,2,4), axis=1 )\n",
    "dy_tst_data_nr = np.delete( dy_tst_data, (0,1,2,4), axis=1 )"
   ]
  },
  {
   "cell_type": "code",
   "execution_count": 47,
   "metadata": {},
   "outputs": [
    {
     "data": {
      "text/plain": [
       "((1384081, 4), (296588, 4), (296588, 4))"
      ]
     },
     "execution_count": 47,
     "metadata": {},
     "output_type": "execute_result"
    }
   ],
   "source": [
    "dy_trn_data_nr.shape, dy_val_data_nr.shape, dy_tst_data_nr.shape"
   ]
  },
  {
   "cell_type": "code",
   "execution_count": 48,
   "metadata": {},
   "outputs": [],
   "source": [
    "dy_trn_data_nr_p = torch.Tensor( dy_trn_data_nr / 100 )\n",
    "dy_val_data_nr_p = torch.Tensor( dy_val_data_nr / 100 )\n",
    "dy_tst_data_nr_p = torch.Tensor( dy_tst_data_nr / 100 )"
   ]
  },
  {
   "cell_type": "code",
   "execution_count": 49,
   "metadata": {},
   "outputs": [],
   "source": [
    "trn_dataset_nr = drell_yan_data( dy_trn_data_nr_p )\n",
    "val_dataset_nr = drell_yan_data( dy_val_data_nr_p )\n",
    "tst_dataset_nr = drell_yan_data( dy_tst_data_nr_p )"
   ]
  },
  {
   "cell_type": "code",
   "execution_count": 50,
   "metadata": {},
   "outputs": [],
   "source": [
    "trn_dataloader_nr = DataLoader( trn_dataset_nr, batch_size=2500, shuffle=True )\n",
    "val_dataloader_nr = DataLoader( val_dataset_nr, batch_size=2500, shuffle=True )\n",
    "tst_dataloader_nr = DataLoader( tst_dataset_nr, batch_size=2500, shuffle=True )"
   ]
  },
  {
   "cell_type": "markdown",
   "metadata": {},
   "source": [
    "Now we need a new get_obs function:"
   ]
  },
  {
   "cell_type": "code",
   "execution_count": 51,
   "metadata": {},
   "outputs": [],
   "source": [
    "def get_events_nr( event ):\n",
    "    \n",
    "    pz1 = event[:,0]\n",
    "    px2 = event[:,1]\n",
    "    py2 = event[:,2]\n",
    "    pz2 = event[:,3]\n",
    "    px1 = -px2\n",
    "    py1 = -py2\n",
    "    E1 = np.sqrt( px1**2 + py1**2 + pz1**2 )\n",
    "    E2 = np.sqrt( px2**2 + py2**2 + pz2**2 )\n",
    "    \n",
    "    events = np.stack( ( E1,px1,py1,pz1,E2,px2,py2,pz2 ), axis=-1 )\n",
    "    \n",
    "    return events\n",
    "\n",
    "def get_obs_nr( event ):\n",
    "    \n",
    "    pz1 = event[:,0]\n",
    "    px2 = event[:,1]\n",
    "    py2 = event[:,2]\n",
    "    pz2 = event[:,3]\n",
    "    px1 = -px2\n",
    "    py1 = -py2\n",
    "    E1 = np.sqrt( px1**2 + py1**2 + pz1**2 )\n",
    "    E2 = np.sqrt( px2**2 + py2**2 + pz2**2 )\n",
    "    \n",
    "    jet1_4m = np.stack( ( E1,px1,py1,pz1 ), axis=-1 )\n",
    "    jet2_4m = np.stack( ( E2,px2,py2,pz2 ), axis=-1 )\n",
    "    \n",
    "    evnt_4m = np.sum( (jet1_4m,jet2_4m), axis=0 )\n",
    "    \n",
    "    evnt_im = np.sqrt( np.sum( ( evnt_4m[:,0]**2, -evnt_4m[:,1]**2, -evnt_4m[:,2]**2, -evnt_4m[:,3]**2 ), axis=0 ) )\n",
    "    \n",
    "    evnt_pt = np.sqrt( evnt_4m[:,1]**2 + evnt_4m[:,2]**2 )\n",
    "    jet1_pt = np.sqrt( jet1_4m[:,1]**2 + jet1_4m[:,2]**2 )\n",
    "    jet2_pt = np.sqrt( jet2_4m[:,1]**2 + jet2_4m[:,2]**2 )\n",
    "    \n",
    "    return evnt_im, evnt_pt, jet1_pt, jet2_pt"
   ]
  },
  {
   "cell_type": "markdown",
   "metadata": {},
   "source": [
    "Let's double check it:"
   ]
  },
  {
   "cell_type": "code",
   "execution_count": 52,
   "metadata": {},
   "outputs": [],
   "source": [
    "trn_evnt_nr_ims, trn_evnt_nr_pts, trn_jet1_nr_pts, trn_jet2_nr_pts = get_obs_nr( dy_trn_data_nr )\n",
    "val_evnt_nr_ims, val_evnt_nr_pts, val_jet1_nr_pts, val_jet2_nr_pts = get_obs_nr( dy_val_data_nr )\n",
    "tst_evnt_nr_ims, tst_evnt_nr_pts, tst_jet1_nr_pts, tst_jet2_nr_pts = get_obs_nr( dy_tst_data_nr )\n",
    "trn_events_nr = get_events_nr( dy_trn_data_nr )\n",
    "val_events_nr = get_events_nr( dy_val_data_nr )\n",
    "tst_events_nr = get_events_nr( dy_tst_data_nr )"
   ]
  },
  {
   "cell_type": "markdown",
   "metadata": {},
   "source": [
    "Plot $p_{y,1}$:"
   ]
  },
  {
   "cell_type": "code",
   "execution_count": 53,
   "metadata": {},
   "outputs": [
    {
     "data": {
      "image/png": "[encoded data removed]",
      "text/plain": [
       "<Figure size 432x360 with 1 Axes>"
      ]
     },
     "metadata": {
      "needs_background": "light"
     },
     "output_type": "display_data"
    }
   ],
   "source": [
    "fig, axs = plt.subplots( figsize=(6,5) )\n",
    "\n",
    "bins = np.arange( -100, +100, step=10 )\n",
    "axs.hist( trn_events_nr[:,2], alpha=0.5, density=True, bins=bins, label='gen' )\n",
    "axs.hist( dy_trn_data[:,2], alpha=0.5, density=True, bins=bins, label='real' )\n",
    "\n",
    "axs.set_xlabel( \"$p_{y,1}$ (GeV)\", fontproperties=axislabelfont )\n",
    "axs.set_ylabel( \"\\#events\", fontproperties=axislabelfont )\n",
    "\n",
    "yticks = [  ]\n",
    "axs.set_yticklabels( yticks, fontproperties=tickfont )\n",
    "\n",
    "xticks = [ int(x) for x in axs.get_xticks() ]\n",
    "axs.set_xticklabels( xticks, fontproperties=tickfont )\n",
    "\n",
    "axs.legend( loc='best', prop=tickfont )\n",
    "\n",
    "fig.tight_layout()\n",
    "fig.show()"
   ]
  },
  {
   "cell_type": "markdown",
   "metadata": {},
   "source": [
    "Let's plot the invariant mass of the events:"
   ]
  },
  {
   "cell_type": "code",
   "execution_count": 54,
   "metadata": {},
   "outputs": [
    {
     "data": {
      "image/png": "[encoded data removed]",
      "text/plain": [
       "<Figure size 432x360 with 1 Axes>"
      ]
     },
     "metadata": {
      "needs_background": "light"
     },
     "output_type": "display_data"
    }
   ],
   "source": [
    "fig, axs = plt.subplots( figsize=(6,5) )\n",
    "\n",
    "axs.hist( trn_evnt_nr_ims, alpha=0.5, density=True, bins=15 )\n",
    "\n",
    "axs.set_xlabel( \"$m_{\\mu\\mu}$ (GeV)\", fontproperties=axislabelfont )\n",
    "axs.set_ylabel( \"\\#events\", fontproperties=axislabelfont )\n",
    "\n",
    "yticks = [  ]\n",
    "axs.set_yticklabels( yticks, fontproperties=tickfont )\n",
    "\n",
    "xticks = [ int(x) for x in axs.get_xticks() ]\n",
    "axs.set_xticklabels( xticks, fontproperties=tickfont )\n",
    "\n",
    "fig.tight_layout()\n",
    "fig.show()"
   ]
  },
  {
   "cell_type": "markdown",
   "metadata": {},
   "source": [
    "Here we see the clear $Z$ mass peak at $\\simeq 90$ GeV."
   ]
  },
  {
   "cell_type": "markdown",
   "metadata": {},
   "source": [
    "Now let's look at $p_T$ distributions:"
   ]
  },
  {
   "cell_type": "code",
   "execution_count": 55,
   "metadata": {},
   "outputs": [
    {
     "data": {
      "image/png": "[encoded data removed]",
      "text/plain": [
       "<Figure size 432x360 with 1 Axes>"
      ]
     },
     "metadata": {
      "needs_background": "light"
     },
     "output_type": "display_data"
    }
   ],
   "source": [
    "fig, axs = plt.subplots( figsize=(6,5) )\n",
    "\n",
    "axs.hist( trn_jet1_nr_pts, alpha=0.5, density=True, bins=15 )\n",
    "axs.hist( trn_jet2_nr_pts, alpha=0.5, density=True, bins=15 )\n",
    "\n",
    "axs.set_xlabel( \"$p_{T}$ (GeV)\", fontproperties=axislabelfont )\n",
    "axs.set_ylabel( \"\\#events\", fontproperties=axislabelfont )\n",
    "\n",
    "yticks = [  ]\n",
    "axs.set_yticklabels( yticks, fontproperties=tickfont )\n",
    "\n",
    "xticks = [ int(x) for x in axs.get_xticks() ]\n",
    "axs.set_xticklabels( xticks, fontproperties=tickfont )\n",
    "\n",
    "fig.tight_layout()\n",
    "fig.show()"
   ]
  },
  {
   "cell_type": "markdown",
   "metadata": {},
   "source": [
    "So we can recover the original distributions.  Let's move on."
   ]
  },
  {
   "cell_type": "markdown",
   "metadata": {},
   "source": [
    "## Optimising the INN on the reduced data"
   ]
  },
  {
   "cell_type": "code",
   "execution_count": 59,
   "metadata": {
    "scrolled": true
   },
   "outputs": [
    {
     "name": "stdout",
     "output_type": "stream",
     "text": [
      "-----------------------------------------------\n",
      "model architecture \n",
      "-----------------------------------------------\n",
      "SequenceINN(\n",
      "  (module_list): ModuleList(\n",
      "    (0): AllInOneBlock(\n",
      "      (softplus): Softplus(beta=0.5, threshold=20)\n",
      "      (subnet): Sequential(\n",
      "        (0): Linear(in_features=2, out_features=128, bias=True)\n",
      "        (1): ReLU()\n",
      "        (2): Linear(in_features=128, out_features=4, bias=True)\n",
      "      )\n",
      "    )\n",
      "    (1): AllInOneBlock(\n",
      "      (softplus): Softplus(beta=0.5, threshold=20)\n",
      "      (subnet): Sequential(\n",
      "        (0): Linear(in_features=2, out_features=128, bias=True)\n",
      "        (1): ReLU()\n",
      "        (2): Linear(in_features=128, out_features=4, bias=True)\n",
      "      )\n",
      "    )\n",
      "    (2): AllInOneBlock(\n",
      "      (softplus): Softplus(beta=0.5, threshold=20)\n",
      "      (subnet): Sequential(\n",
      "        (0): Linear(in_features=2, out_features=128, bias=True)\n",
      "        (1): ReLU()\n",
      "        (2): Linear(in_features=128, out_features=4, bias=True)\n",
      "      )\n",
      "    )\n",
      "    (3): AllInOneBlock(\n",
      "      (softplus): Softplus(beta=0.5, threshold=20)\n",
      "      (subnet): Sequential(\n",
      "        (0): Linear(in_features=2, out_features=128, bias=True)\n",
      "        (1): ReLU()\n",
      "        (2): Linear(in_features=128, out_features=4, bias=True)\n",
      "      )\n",
      "    )\n",
      "    (4): AllInOneBlock(\n",
      "      (softplus): Softplus(beta=0.5, threshold=20)\n",
      "      (subnet): Sequential(\n",
      "        (0): Linear(in_features=2, out_features=128, bias=True)\n",
      "        (1): ReLU()\n",
      "        (2): Linear(in_features=128, out_features=4, bias=True)\n",
      "      )\n",
      "    )\n",
      "    (5): AllInOneBlock(\n",
      "      (softplus): Softplus(beta=0.5, threshold=20)\n",
      "      (subnet): Sequential(\n",
      "        (0): Linear(in_features=2, out_features=128, bias=True)\n",
      "        (1): ReLU()\n",
      "        (2): Linear(in_features=128, out_features=4, bias=True)\n",
      "      )\n",
      "    )\n",
      "    (6): AllInOneBlock(\n",
      "      (softplus): Softplus(beta=0.5, threshold=20)\n",
      "      (subnet): Sequential(\n",
      "        (0): Linear(in_features=2, out_features=128, bias=True)\n",
      "        (1): ReLU()\n",
      "        (2): Linear(in_features=128, out_features=4, bias=True)\n",
      "      )\n",
      "    )\n",
      "    (7): AllInOneBlock(\n",
      "      (softplus): Softplus(beta=0.5, threshold=20)\n",
      "      (subnet): Sequential(\n",
      "        (0): Linear(in_features=2, out_features=128, bias=True)\n",
      "        (1): ReLU()\n",
      "        (2): Linear(in_features=128, out_features=4, bias=True)\n",
      "      )\n",
      "    )\n",
      "  )\n",
      ")\n",
      "-----------------------------------------------\n",
      "Epoch 1\n",
      "-----------------------------------------------\n",
      "current batch loss: 0.108974  [    0/1384081]\n",
      "current batch loss: -0.157473  [250000/1384081]\n",
      "current batch loss: -0.197659  [500000/1384081]\n",
      "current batch loss: -0.210336  [750000/1384081]\n",
      "current batch loss: -0.221443  [1000000/1384081]\n",
      "current batch loss: -0.238656  [1250000/1384081]\n",
      "-----------------------------------------------\n",
      "avg trn loss per batch: -0.236689\n",
      "-----------------------------------------------\n",
      "avg val loss per batch: -0.236994\n",
      "-----------------------------------------------\n",
      "|\n",
      "-----------------------------------------------\n",
      "Epoch 2\n",
      "-----------------------------------------------\n",
      "current batch loss: -0.237469  [    0/1384081]\n",
      "current batch loss: -0.242861  [250000/1384081]\n",
      "current batch loss: -0.251201  [500000/1384081]\n",
      "current batch loss: -0.258773  [750000/1384081]\n",
      "current batch loss: -0.258000  [1000000/1384081]\n",
      "current batch loss: -0.258712  [1250000/1384081]\n",
      "-----------------------------------------------\n",
      "avg trn loss per batch: -0.261473\n",
      "-----------------------------------------------\n",
      "avg val loss per batch: -0.261525\n",
      "-----------------------------------------------\n",
      "|\n",
      "-----------------------------------------------\n",
      "Epoch 3\n",
      "-----------------------------------------------\n",
      "current batch loss: -0.264261  [    0/1384081]\n",
      "current batch loss: -0.266487  [250000/1384081]\n",
      "current batch loss: -0.270700  [500000/1384081]\n",
      "current batch loss: -0.273941  [750000/1384081]\n",
      "current batch loss: -0.278399  [1000000/1384081]\n",
      "current batch loss: -0.287050  [1250000/1384081]\n",
      "-----------------------------------------------\n",
      "avg trn loss per batch: -0.285278\n",
      "-----------------------------------------------\n",
      "avg val loss per batch: -0.285226\n",
      "-----------------------------------------------\n",
      "|\n",
      "-----------------------------------------------\n",
      "Epoch 4\n",
      "-----------------------------------------------\n",
      "current batch loss: -0.282615  [    0/1384081]\n",
      "current batch loss: -0.294237  [250000/1384081]\n",
      "current batch loss: -0.293141  [500000/1384081]\n",
      "current batch loss: -0.300909  [750000/1384081]\n",
      "current batch loss: -0.309025  [1000000/1384081]\n",
      "current batch loss: -0.313688  [1250000/1384081]\n",
      "-----------------------------------------------\n",
      "avg trn loss per batch: -0.313368\n",
      "-----------------------------------------------\n",
      "avg val loss per batch: -0.313907\n",
      "-----------------------------------------------\n",
      "|\n",
      "-----------------------------------------------\n",
      "Epoch 5\n",
      "-----------------------------------------------\n",
      "current batch loss: -0.303022  [    0/1384081]\n",
      "current batch loss: -0.318081  [250000/1384081]\n",
      "current batch loss: -0.322462  [500000/1384081]\n",
      "current batch loss: -0.319980  [750000/1384081]\n",
      "current batch loss: -0.324892  [1000000/1384081]\n",
      "current batch loss: -0.332659  [1250000/1384081]\n",
      "-----------------------------------------------\n",
      "avg trn loss per batch: -0.331971\n",
      "-----------------------------------------------\n",
      "avg val loss per batch: -0.331777\n",
      "-----------------------------------------------\n",
      "|\n",
      "-----------------------------------------------\n",
      "Epoch 6\n",
      "-----------------------------------------------\n",
      "current batch loss: -0.333209  [    0/1384081]\n",
      "current batch loss: -0.330811  [250000/1384081]\n",
      "current batch loss: -0.342022  [500000/1384081]\n",
      "current batch loss: -0.337055  [750000/1384081]\n",
      "current batch loss: -0.337607  [1000000/1384081]\n",
      "current batch loss: -0.327973  [1250000/1384081]\n",
      "-----------------------------------------------\n",
      "avg trn loss per batch: -0.342190\n",
      "-----------------------------------------------\n",
      "avg val loss per batch: -0.341744\n",
      "-----------------------------------------------\n",
      "|\n",
      "-----------------------------------------------\n",
      "Epoch 7\n",
      "-----------------------------------------------\n",
      "current batch loss: -0.338239  [    0/1384081]\n",
      "current batch loss: -0.342262  [250000/1384081]\n",
      "current batch loss: -0.349406  [500000/1384081]\n",
      "current batch loss: -0.343242  [750000/1384081]\n",
      "current batch loss: -0.350016  [1000000/1384081]\n",
      "current batch loss: -0.349859  [1250000/1384081]\n",
      "-----------------------------------------------\n",
      "avg trn loss per batch: -0.346300\n",
      "-----------------------------------------------\n",
      "avg val loss per batch: -0.344373\n",
      "-----------------------------------------------\n",
      "|\n",
      "-----------------------------------------------\n",
      "Epoch 8\n",
      "-----------------------------------------------\n",
      "current batch loss: -0.348933  [    0/1384081]\n",
      "current batch loss: -0.348280  [250000/1384081]\n",
      "current batch loss: -0.355937  [500000/1384081]\n",
      "current batch loss: -0.356455  [750000/1384081]\n",
      "current batch loss: -0.352232  [1000000/1384081]\n",
      "current batch loss: -0.340840  [1250000/1384081]\n",
      "-----------------------------------------------\n",
      "avg trn loss per batch: -0.350725\n",
      "-----------------------------------------------\n",
      "avg val loss per batch: -0.349612\n",
      "-----------------------------------------------\n",
      "|\n",
      "-----------------------------------------------\n",
      "Epoch 9\n",
      "-----------------------------------------------\n",
      "current batch loss: -0.351347  [    0/1384081]\n",
      "current batch loss: -0.354247  [250000/1384081]\n",
      "current batch loss: -0.355236  [500000/1384081]\n",
      "current batch loss: -0.348206  [750000/1384081]\n",
      "current batch loss: -0.350744  [1000000/1384081]\n",
      "current batch loss: -0.355948  [1250000/1384081]\n",
      "-----------------------------------------------\n",
      "avg trn loss per batch: -0.355271\n",
      "-----------------------------------------------\n",
      "avg val loss per batch: -0.352592\n",
      "-----------------------------------------------\n",
      "|\n",
      "-----------------------------------------------\n",
      "Epoch 10\n",
      "-----------------------------------------------\n",
      "current batch loss: -0.345571  [    0/1384081]\n",
      "current batch loss: -0.354219  [250000/1384081]\n",
      "current batch loss: -0.359908  [500000/1384081]\n",
      "current batch loss: -0.352738  [750000/1384081]\n",
      "current batch loss: -0.364662  [1000000/1384081]\n",
      "current batch loss: -0.360964  [1250000/1384081]\n",
      "-----------------------------------------------\n",
      "avg trn loss per batch: -0.355884\n",
      "-----------------------------------------------\n"
     ]
    },
    {
     "name": "stdout",
     "output_type": "stream",
     "text": [
      "avg val loss per batch: -0.355529\n",
      "-----------------------------------------------\n",
      "|\n",
      "-----------------------------------------------\n",
      "Epoch 11\n",
      "-----------------------------------------------\n",
      "current batch loss: -0.353461  [    0/1384081]\n",
      "current batch loss: -0.352750  [250000/1384081]\n",
      "current batch loss: -0.360214  [500000/1384081]\n",
      "current batch loss: -0.362345  [750000/1384081]\n",
      "current batch loss: -0.361354  [1000000/1384081]\n",
      "current batch loss: -0.350021  [1250000/1384081]\n",
      "-----------------------------------------------\n",
      "avg trn loss per batch: -0.358748\n",
      "-----------------------------------------------\n",
      "avg val loss per batch: -0.358519\n",
      "-----------------------------------------------\n",
      "|\n",
      "-----------------------------------------------\n",
      "Epoch 12\n",
      "-----------------------------------------------\n",
      "current batch loss: -0.348066  [    0/1384081]\n",
      "current batch loss: -0.357868  [250000/1384081]\n",
      "current batch loss: -0.363941  [500000/1384081]\n",
      "current batch loss: -0.367691  [750000/1384081]\n",
      "current batch loss: -0.356280  [1000000/1384081]\n",
      "current batch loss: -0.361081  [1250000/1384081]\n",
      "-----------------------------------------------\n",
      "avg trn loss per batch: -0.363728\n",
      "-----------------------------------------------\n",
      "avg val loss per batch: -0.363340\n",
      "-----------------------------------------------\n",
      "|\n",
      "-----------------------------------------------\n",
      "Epoch 13\n",
      "-----------------------------------------------\n",
      "current batch loss: -0.368770  [    0/1384081]\n",
      "current batch loss: -0.351036  [250000/1384081]\n",
      "current batch loss: -0.358398  [500000/1384081]\n",
      "current batch loss: -0.367383  [750000/1384081]\n",
      "current batch loss: -0.364856  [1000000/1384081]\n",
      "current batch loss: -0.366883  [1250000/1384081]\n",
      "-----------------------------------------------\n",
      "avg trn loss per batch: -0.364773\n",
      "-----------------------------------------------\n",
      "avg val loss per batch: -0.364497\n",
      "-----------------------------------------------\n",
      "|\n",
      "-----------------------------------------------\n",
      "Epoch 14\n",
      "-----------------------------------------------\n",
      "current batch loss: -0.368607  [    0/1384081]\n",
      "current batch loss: -0.365884  [250000/1384081]\n",
      "current batch loss: -0.368980  [500000/1384081]\n",
      "current batch loss: -0.364574  [750000/1384081]\n",
      "current batch loss: -0.368942  [1000000/1384081]\n",
      "current batch loss: -0.365769  [1250000/1384081]\n",
      "-----------------------------------------------\n",
      "avg trn loss per batch: -0.365989\n",
      "-----------------------------------------------\n",
      "avg val loss per batch: -0.365862\n",
      "-----------------------------------------------\n",
      "|\n",
      "-----------------------------------------------\n",
      "Epoch 15\n",
      "-----------------------------------------------\n",
      "current batch loss: -0.363159  [    0/1384081]\n",
      "current batch loss: -0.374019  [250000/1384081]\n",
      "current batch loss: -0.375459  [500000/1384081]\n",
      "current batch loss: -0.371443  [750000/1384081]\n",
      "current batch loss: -0.379918  [1000000/1384081]\n",
      "current batch loss: -0.367478  [1250000/1384081]\n",
      "-----------------------------------------------\n",
      "avg trn loss per batch: -0.370761\n",
      "-----------------------------------------------\n",
      "avg val loss per batch: -0.370375\n",
      "-----------------------------------------------\n",
      "|\n",
      "-----------------------------------------------\n",
      "Epoch 16\n",
      "-----------------------------------------------\n",
      "current batch loss: -0.364688  [    0/1384081]\n",
      "current batch loss: -0.375602  [250000/1384081]\n",
      "current batch loss: -0.371488  [500000/1384081]\n",
      "current batch loss: -0.371103  [750000/1384081]\n",
      "current batch loss: -0.378746  [1000000/1384081]\n",
      "current batch loss: -0.363474  [1250000/1384081]\n",
      "-----------------------------------------------\n",
      "avg trn loss per batch: -0.372333\n",
      "-----------------------------------------------\n",
      "avg val loss per batch: -0.372172\n",
      "-----------------------------------------------\n",
      "|\n",
      "-----------------------------------------------\n",
      "Epoch 17\n",
      "-----------------------------------------------\n",
      "current batch loss: -0.378945  [    0/1384081]\n",
      "current batch loss: -0.376682  [250000/1384081]\n",
      "current batch loss: -0.368569  [500000/1384081]\n",
      "current batch loss: -0.375595  [750000/1384081]\n",
      "current batch loss: -0.372901  [1000000/1384081]\n",
      "current batch loss: -0.372650  [1250000/1384081]\n",
      "-----------------------------------------------\n",
      "avg trn loss per batch: -0.374056\n",
      "-----------------------------------------------\n",
      "avg val loss per batch: -0.374116\n",
      "-----------------------------------------------\n",
      "|\n",
      "-----------------------------------------------\n",
      "Epoch 18\n",
      "-----------------------------------------------\n",
      "current batch loss: -0.378869  [    0/1384081]\n",
      "current batch loss: -0.372172  [250000/1384081]\n",
      "current batch loss: -0.377019  [500000/1384081]\n",
      "current batch loss: -0.379916  [750000/1384081]\n",
      "current batch loss: -0.376021  [1000000/1384081]\n",
      "current batch loss: -0.383511  [1250000/1384081]\n",
      "-----------------------------------------------\n",
      "avg trn loss per batch: -0.373573\n",
      "-----------------------------------------------\n",
      "avg val loss per batch: -0.373644\n",
      "-----------------------------------------------\n",
      "|\n",
      "-----------------------------------------------\n",
      "Epoch 19\n",
      "-----------------------------------------------\n",
      "current batch loss: -0.369478  [    0/1384081]\n",
      "current batch loss: -0.386637  [250000/1384081]\n",
      "current batch loss: -0.373653  [500000/1384081]\n",
      "current batch loss: -0.374328  [750000/1384081]\n",
      "current batch loss: -0.371783  [1000000/1384081]\n",
      "current batch loss: -0.381783  [1250000/1384081]\n",
      "-----------------------------------------------\n",
      "avg trn loss per batch: -0.377183\n",
      "-----------------------------------------------\n",
      "avg val loss per batch: -0.375292\n",
      "-----------------------------------------------\n",
      "|\n",
      "-----------------------------------------------\n",
      "Epoch 20\n",
      "-----------------------------------------------\n",
      "current batch loss: -0.377115  [    0/1384081]\n",
      "current batch loss: -0.376479  [250000/1384081]\n",
      "current batch loss: -0.375908  [500000/1384081]\n",
      "current batch loss: -0.380430  [750000/1384081]\n",
      "current batch loss: -0.378499  [1000000/1384081]\n",
      "current batch loss: -0.375390  [1250000/1384081]\n",
      "-----------------------------------------------\n",
      "avg trn loss per batch: -0.380053\n",
      "-----------------------------------------------\n",
      "avg val loss per batch: -0.379859\n",
      "-----------------------------------------------\n",
      "|\n",
      "-----------------------------------------------\n",
      "Epoch 21\n",
      "-----------------------------------------------\n",
      "current batch loss: -0.387128  [    0/1384081]\n",
      "current batch loss: -0.380199  [250000/1384081]\n",
      "current batch loss: -0.381124  [500000/1384081]\n",
      "current batch loss: -0.384685  [750000/1384081]\n",
      "current batch loss: -0.374272  [1000000/1384081]\n",
      "current batch loss: -0.381249  [1250000/1384081]\n",
      "-----------------------------------------------\n",
      "avg trn loss per batch: -0.381277\n",
      "-----------------------------------------------\n",
      "avg val loss per batch: -0.380944\n",
      "-----------------------------------------------\n",
      "|\n",
      "-----------------------------------------------\n",
      "Epoch 22\n",
      "-----------------------------------------------\n",
      "current batch loss: -0.373663  [    0/1384081]\n",
      "current batch loss: -0.384519  [250000/1384081]\n",
      "current batch loss: -0.391397  [500000/1384081]\n",
      "current batch loss: -0.382427  [750000/1384081]\n",
      "current batch loss: -0.385398  [1000000/1384081]\n",
      "current batch loss: -0.379659  [1250000/1384081]\n",
      "-----------------------------------------------\n",
      "avg trn loss per batch: -0.381133\n",
      "-----------------------------------------------\n",
      "avg val loss per batch: -0.380944\n",
      "-----------------------------------------------\n",
      "|\n",
      "-----------------------------------------------\n",
      "Epoch 23\n",
      "-----------------------------------------------\n",
      "current batch loss: -0.381006  [    0/1384081]\n",
      "current batch loss: -0.382844  [250000/1384081]\n",
      "current batch loss: -0.390616  [500000/1384081]\n",
      "current batch loss: -0.382839  [750000/1384081]\n",
      "current batch loss: -0.379513  [1000000/1384081]\n",
      "current batch loss: -0.385849  [1250000/1384081]\n",
      "-----------------------------------------------\n",
      "avg trn loss per batch: -0.384550\n",
      "-----------------------------------------------\n",
      "avg val loss per batch: -0.384325\n",
      "-----------------------------------------------\n",
      "|\n",
      "-----------------------------------------------\n",
      "Epoch 24\n",
      "-----------------------------------------------\n",
      "current batch loss: -0.390888  [    0/1384081]\n",
      "current batch loss: -0.386957  [250000/1384081]\n",
      "current batch loss: -0.385854  [500000/1384081]\n"
     ]
    },
    {
     "name": "stdout",
     "output_type": "stream",
     "text": [
      "current batch loss: -0.388538  [750000/1384081]\n",
      "current batch loss: -0.376996  [1000000/1384081]\n",
      "current batch loss: -0.389585  [1250000/1384081]\n",
      "-----------------------------------------------\n",
      "avg trn loss per batch: -0.385392\n",
      "-----------------------------------------------\n",
      "avg val loss per batch: -0.385200\n",
      "-----------------------------------------------\n",
      "|\n",
      "-----------------------------------------------\n",
      "Epoch 25\n",
      "-----------------------------------------------\n",
      "current batch loss: -0.385954  [    0/1384081]\n",
      "current batch loss: -0.391432  [250000/1384081]\n",
      "current batch loss: -0.378470  [500000/1384081]\n",
      "current batch loss: -0.393149  [750000/1384081]\n",
      "current batch loss: -0.386555  [1000000/1384081]\n",
      "current batch loss: -0.382388  [1250000/1384081]\n",
      "-----------------------------------------------\n",
      "avg trn loss per batch: -0.385825\n",
      "-----------------------------------------------\n",
      "avg val loss per batch: -0.385633\n",
      "-----------------------------------------------\n",
      "|\n",
      "-----------------------------------------------\n",
      "Epoch 26\n",
      "-----------------------------------------------\n",
      "current batch loss: -0.382919  [    0/1384081]\n",
      "current batch loss: -0.382292  [250000/1384081]\n",
      "current batch loss: -0.388154  [500000/1384081]\n",
      "current batch loss: -0.388164  [750000/1384081]\n",
      "current batch loss: -0.381793  [1000000/1384081]\n",
      "current batch loss: -0.386724  [1250000/1384081]\n",
      "-----------------------------------------------\n",
      "avg trn loss per batch: -0.387727\n",
      "-----------------------------------------------\n",
      "avg val loss per batch: -0.387548\n",
      "-----------------------------------------------\n",
      "|\n",
      "-----------------------------------------------\n",
      "Epoch 27\n",
      "-----------------------------------------------\n",
      "current batch loss: -0.390758  [    0/1384081]\n",
      "current batch loss: -0.397208  [250000/1384081]\n",
      "current batch loss: -0.379750  [500000/1384081]\n",
      "current batch loss: -0.387261  [750000/1384081]\n",
      "current batch loss: -0.384073  [1000000/1384081]\n",
      "current batch loss: -0.387365  [1250000/1384081]\n",
      "-----------------------------------------------\n",
      "avg trn loss per batch: -0.388528\n",
      "-----------------------------------------------\n",
      "avg val loss per batch: -0.388342\n",
      "-----------------------------------------------\n",
      "|\n",
      "-----------------------------------------------\n",
      "Epoch 28\n",
      "-----------------------------------------------\n",
      "current batch loss: -0.384107  [    0/1384081]\n",
      "current batch loss: -0.390709  [250000/1384081]\n",
      "current batch loss: -0.389903  [500000/1384081]\n",
      "current batch loss: -0.388118  [750000/1384081]\n",
      "current batch loss: -0.397838  [1000000/1384081]\n",
      "current batch loss: -0.392656  [1250000/1384081]\n",
      "-----------------------------------------------\n",
      "avg trn loss per batch: -0.387984\n",
      "-----------------------------------------------\n",
      "avg val loss per batch: -0.387823\n",
      "-----------------------------------------------\n",
      "|\n",
      "-----------------------------------------------\n",
      "Epoch 29\n",
      "-----------------------------------------------\n",
      "current batch loss: -0.384866  [    0/1384081]\n",
      "current batch loss: -0.384895  [250000/1384081]\n",
      "current batch loss: -0.390150  [500000/1384081]\n",
      "current batch loss: -0.391648  [750000/1384081]\n",
      "current batch loss: -0.394565  [1000000/1384081]\n",
      "current batch loss: -0.392722  [1250000/1384081]\n",
      "-----------------------------------------------\n",
      "avg trn loss per batch: -0.389540\n",
      "-----------------------------------------------\n",
      "avg val loss per batch: -0.389255\n",
      "-----------------------------------------------\n",
      "|\n",
      "-----------------------------------------------\n",
      "Epoch 30\n",
      "-----------------------------------------------\n",
      "current batch loss: -0.395559  [    0/1384081]\n",
      "current batch loss: -0.386498  [250000/1384081]\n",
      "current batch loss: -0.398993  [500000/1384081]\n",
      "current batch loss: -0.396940  [750000/1384081]\n",
      "current batch loss: -0.398081  [1000000/1384081]\n",
      "current batch loss: -0.388049  [1250000/1384081]\n",
      "-----------------------------------------------\n",
      "avg trn loss per batch: -0.391054\n",
      "-----------------------------------------------\n",
      "avg val loss per batch: -0.390779\n",
      "-----------------------------------------------\n",
      "|\n",
      "-----------------------------------------------\n",
      "Epoch 31\n",
      "-----------------------------------------------\n",
      "current batch loss: -0.384126  [    0/1384081]\n",
      "current batch loss: -0.388615  [250000/1384081]\n",
      "current batch loss: -0.393188  [500000/1384081]\n",
      "current batch loss: -0.396713  [750000/1384081]\n",
      "current batch loss: -0.392577  [1000000/1384081]\n",
      "current batch loss: -0.385576  [1250000/1384081]\n",
      "-----------------------------------------------\n",
      "avg trn loss per batch: -0.391456\n",
      "-----------------------------------------------\n",
      "avg val loss per batch: -0.391275\n",
      "-----------------------------------------------\n",
      "|\n",
      "-----------------------------------------------\n",
      "Epoch 32\n",
      "-----------------------------------------------\n",
      "current batch loss: -0.399551  [    0/1384081]\n",
      "current batch loss: -0.388113  [250000/1384081]\n",
      "current batch loss: -0.393112  [500000/1384081]\n",
      "current batch loss: -0.380532  [750000/1384081]\n",
      "current batch loss: -0.392754  [1000000/1384081]\n",
      "current batch loss: -0.397438  [1250000/1384081]\n",
      "-----------------------------------------------\n",
      "avg trn loss per batch: -0.391153\n",
      "-----------------------------------------------\n",
      "avg val loss per batch: -0.391033\n",
      "-----------------------------------------------\n",
      "|\n",
      "-----------------------------------------------\n",
      "Epoch 33\n",
      "-----------------------------------------------\n",
      "current batch loss: -0.386295  [    0/1384081]\n",
      "current batch loss: -0.390952  [250000/1384081]\n",
      "current batch loss: -0.396670  [500000/1384081]\n",
      "current batch loss: -0.393573  [750000/1384081]\n",
      "current batch loss: -0.402202  [1000000/1384081]\n",
      "current batch loss: -0.398945  [1250000/1384081]\n",
      "-----------------------------------------------\n",
      "avg trn loss per batch: -0.392513\n",
      "-----------------------------------------------\n",
      "avg val loss per batch: -0.392336\n",
      "-----------------------------------------------\n",
      "|\n",
      "-----------------------------------------------\n",
      "Epoch 34\n",
      "-----------------------------------------------\n",
      "current batch loss: -0.389631  [    0/1384081]\n",
      "current batch loss: -0.388559  [250000/1384081]\n",
      "current batch loss: -0.389808  [500000/1384081]\n",
      "current batch loss: -0.383193  [750000/1384081]\n",
      "current batch loss: -0.388261  [1000000/1384081]\n",
      "current batch loss: -0.395765  [1250000/1384081]\n",
      "-----------------------------------------------\n",
      "avg trn loss per batch: -0.391354\n",
      "-----------------------------------------------\n",
      "avg val loss per batch: -0.391181\n",
      "-----------------------------------------------\n",
      "|\n",
      "-----------------------------------------------\n",
      "Epoch 35\n",
      "-----------------------------------------------\n",
      "current batch loss: -0.387710  [    0/1384081]\n",
      "current batch loss: -0.394705  [250000/1384081]\n",
      "current batch loss: -0.394210  [500000/1384081]\n",
      "current batch loss: -0.396752  [750000/1384081]\n",
      "current batch loss: -0.385011  [1000000/1384081]\n",
      "current batch loss: -0.387324  [1250000/1384081]\n",
      "-----------------------------------------------\n",
      "avg trn loss per batch: -0.393689\n",
      "-----------------------------------------------\n",
      "avg val loss per batch: -0.393631\n",
      "-----------------------------------------------\n",
      "|\n",
      "-----------------------------------------------\n",
      "Epoch 36\n",
      "-----------------------------------------------\n",
      "current batch loss: -0.392311  [    0/1384081]\n",
      "current batch loss: -0.390039  [250000/1384081]\n",
      "current batch loss: -0.394470  [500000/1384081]\n",
      "current batch loss: -0.392567  [750000/1384081]\n",
      "current batch loss: -0.395800  [1000000/1384081]\n",
      "current batch loss: -0.389227  [1250000/1384081]\n",
      "-----------------------------------------------\n",
      "avg trn loss per batch: -0.393757\n",
      "-----------------------------------------------\n",
      "avg val loss per batch: -0.393620\n",
      "-----------------------------------------------\n",
      "|\n",
      "-----------------------------------------------\n",
      "Epoch 37\n",
      "-----------------------------------------------\n",
      "current batch loss: -0.392864  [    0/1384081]\n",
      "current batch loss: -0.386935  [250000/1384081]\n",
      "current batch loss: -0.393396  [500000/1384081]\n",
      "current batch loss: -0.391009  [750000/1384081]\n",
      "current batch loss: -0.387767  [1000000/1384081]\n",
      "current batch loss: -0.388094  [1250000/1384081]\n",
      "-----------------------------------------------\n",
      "avg trn loss per batch: -0.394277\n",
      "-----------------------------------------------\n",
      "avg val loss per batch: -0.394024\n",
      "-----------------------------------------------\n",
      "|\n",
      "-----------------------------------------------\n",
      "Epoch 38\n",
      "-----------------------------------------------\n",
      "current batch loss: -0.396479  [    0/1384081]\n"
     ]
    },
    {
     "name": "stdout",
     "output_type": "stream",
     "text": [
      "current batch loss: -0.403490  [250000/1384081]\n",
      "current batch loss: -0.397028  [500000/1384081]\n",
      "current batch loss: -0.399180  [750000/1384081]\n",
      "current batch loss: -0.391414  [1000000/1384081]\n",
      "current batch loss: -0.398318  [1250000/1384081]\n",
      "-----------------------------------------------\n",
      "avg trn loss per batch: -0.396090\n",
      "-----------------------------------------------\n",
      "avg val loss per batch: -0.389952\n",
      "-----------------------------------------------\n",
      "|\n",
      "-----------------------------------------------\n",
      "Epoch 39\n",
      "-----------------------------------------------\n",
      "current batch loss: -0.396029  [    0/1384081]\n",
      "current batch loss: -0.390531  [250000/1384081]\n",
      "current batch loss: -0.394067  [500000/1384081]\n",
      "current batch loss: -0.393951  [750000/1384081]\n",
      "current batch loss: -0.393287  [1000000/1384081]\n",
      "current batch loss: -0.399321  [1250000/1384081]\n",
      "-----------------------------------------------\n",
      "avg trn loss per batch: -0.396799\n",
      "-----------------------------------------------\n",
      "avg val loss per batch: -0.390676\n",
      "-----------------------------------------------\n",
      "|\n",
      "-----------------------------------------------\n",
      "Epoch 40\n",
      "-----------------------------------------------\n",
      "current batch loss: -0.398299  [    0/1384081]\n",
      "current batch loss: -0.396054  [250000/1384081]\n",
      "current batch loss: -0.398049  [500000/1384081]\n",
      "current batch loss: -0.386783  [750000/1384081]\n",
      "current batch loss: -0.396360  [1000000/1384081]\n",
      "current batch loss: -0.394653  [1250000/1384081]\n",
      "-----------------------------------------------\n",
      "avg trn loss per batch: -0.396706\n",
      "-----------------------------------------------\n",
      "avg val loss per batch: -0.393947\n",
      "-----------------------------------------------\n",
      "|\n",
      "-----------------------------------------------\n",
      "Epoch 41\n",
      "-----------------------------------------------\n",
      "current batch loss: -0.392079  [    0/1384081]\n",
      "current batch loss: -0.396633  [250000/1384081]\n",
      "current batch loss: -0.390924  [500000/1384081]\n",
      "current batch loss: -0.396543  [750000/1384081]\n",
      "current batch loss: -0.394816  [1000000/1384081]\n",
      "current batch loss: -0.400415  [1250000/1384081]\n",
      "-----------------------------------------------\n",
      "avg trn loss per batch: -0.396292\n",
      "-----------------------------------------------\n",
      "avg val loss per batch: -0.396031\n",
      "-----------------------------------------------\n",
      "|\n",
      "-----------------------------------------------\n",
      "Epoch 42\n",
      "-----------------------------------------------\n",
      "current batch loss: -0.400820  [    0/1384081]\n",
      "current batch loss: -0.401008  [250000/1384081]\n",
      "current batch loss: -0.393114  [500000/1384081]\n",
      "current batch loss: -0.394089  [750000/1384081]\n",
      "current batch loss: -0.389497  [1000000/1384081]\n",
      "current batch loss: -0.400597  [1250000/1384081]\n",
      "-----------------------------------------------\n",
      "avg trn loss per batch: -0.396153\n",
      "-----------------------------------------------\n",
      "avg val loss per batch: -0.390700\n",
      "-----------------------------------------------\n",
      "|\n",
      "-----------------------------------------------\n",
      "Epoch 43\n",
      "-----------------------------------------------\n",
      "current batch loss: -0.403169  [    0/1384081]\n",
      "current batch loss: -0.395387  [250000/1384081]\n",
      "current batch loss: -0.402243  [500000/1384081]\n",
      "current batch loss: -0.392138  [750000/1384081]\n",
      "current batch loss: -0.406464  [1000000/1384081]\n",
      "current batch loss: -0.404012  [1250000/1384081]\n",
      "-----------------------------------------------\n",
      "avg trn loss per batch: -0.397776\n",
      "-----------------------------------------------\n",
      "avg val loss per batch: -0.397638\n",
      "-----------------------------------------------\n",
      "|\n",
      "-----------------------------------------------\n",
      "Epoch 44\n",
      "-----------------------------------------------\n",
      "current batch loss: -0.398947  [    0/1384081]\n",
      "current batch loss: -0.397014  [250000/1384081]\n",
      "current batch loss: -0.401115  [500000/1384081]\n",
      "current batch loss: -0.401878  [750000/1384081]\n",
      "current batch loss: -0.400889  [1000000/1384081]\n",
      "current batch loss: -0.405692  [1250000/1384081]\n",
      "-----------------------------------------------\n",
      "avg trn loss per batch: -0.397502\n",
      "-----------------------------------------------\n",
      "avg val loss per batch: -0.393271\n",
      "-----------------------------------------------\n",
      "|\n",
      "-----------------------------------------------\n",
      "Epoch 45\n",
      "-----------------------------------------------\n",
      "current batch loss: -0.394301  [    0/1384081]\n",
      "current batch loss: -0.394642  [250000/1384081]\n",
      "current batch loss: -0.403895  [500000/1384081]\n",
      "current batch loss: -0.397062  [750000/1384081]\n",
      "current batch loss: -0.397684  [1000000/1384081]\n",
      "current batch loss: -0.405385  [1250000/1384081]\n",
      "-----------------------------------------------\n",
      "avg trn loss per batch: -0.397662\n",
      "-----------------------------------------------\n",
      "avg val loss per batch: -0.397568\n",
      "-----------------------------------------------\n",
      "|\n",
      "-----------------------------------------------\n",
      "Epoch 46\n",
      "-----------------------------------------------\n",
      "current batch loss: -0.400071  [    0/1384081]\n",
      "current batch loss: -0.398985  [250000/1384081]\n",
      "current batch loss: -0.402716  [500000/1384081]\n",
      "current batch loss: -0.400045  [750000/1384081]\n",
      "current batch loss: -0.394820  [1000000/1384081]\n",
      "current batch loss: -0.399884  [1250000/1384081]\n",
      "-----------------------------------------------\n",
      "avg trn loss per batch: -0.399134\n",
      "-----------------------------------------------\n",
      "avg val loss per batch: -0.398774\n",
      "-----------------------------------------------\n",
      "|\n",
      "-----------------------------------------------\n",
      "Epoch 47\n",
      "-----------------------------------------------\n",
      "current batch loss: -0.386752  [    0/1384081]\n",
      "current batch loss: -0.401114  [250000/1384081]\n",
      "current batch loss: -0.400853  [500000/1384081]\n",
      "current batch loss: -0.397388  [750000/1384081]\n",
      "current batch loss: -0.392258  [1000000/1384081]\n",
      "current batch loss: -0.395346  [1250000/1384081]\n",
      "-----------------------------------------------\n",
      "avg trn loss per batch: -0.397149\n",
      "-----------------------------------------------\n",
      "avg val loss per batch: -0.397075\n",
      "-----------------------------------------------\n",
      "|\n",
      "-----------------------------------------------\n",
      "Epoch 48\n",
      "-----------------------------------------------\n",
      "current batch loss: -0.394420  [    0/1384081]\n",
      "current batch loss: -0.403277  [250000/1384081]\n",
      "current batch loss: -0.402587  [500000/1384081]\n",
      "current batch loss: -0.397314  [750000/1384081]\n",
      "current batch loss: -0.407241  [1000000/1384081]\n",
      "current batch loss: -0.398615  [1250000/1384081]\n",
      "-----------------------------------------------\n",
      "avg trn loss per batch: -0.399153\n",
      "-----------------------------------------------\n",
      "avg val loss per batch: -0.399085\n",
      "-----------------------------------------------\n",
      "|\n",
      "-----------------------------------------------\n",
      "Epoch 49\n",
      "-----------------------------------------------\n",
      "current batch loss: -0.399075  [    0/1384081]\n",
      "current batch loss: -0.409186  [250000/1384081]\n",
      "current batch loss: -0.401461  [500000/1384081]\n",
      "current batch loss: -0.402980  [750000/1384081]\n",
      "current batch loss: -0.407409  [1000000/1384081]\n",
      "current batch loss: -0.398784  [1250000/1384081]\n",
      "-----------------------------------------------\n",
      "avg trn loss per batch: -0.399259\n",
      "-----------------------------------------------\n",
      "avg val loss per batch: -0.399219\n",
      "-----------------------------------------------\n",
      "|\n",
      "-----------------------------------------------\n",
      "Epoch 50\n",
      "-----------------------------------------------\n",
      "current batch loss: -0.401206  [    0/1384081]\n",
      "current batch loss: -0.400816  [250000/1384081]\n",
      "current batch loss: -0.394532  [500000/1384081]\n",
      "current batch loss: -0.407213  [750000/1384081]\n",
      "current batch loss: -0.395978  [1000000/1384081]\n",
      "current batch loss: -0.389401  [1250000/1384081]\n",
      "-----------------------------------------------\n",
      "avg trn loss per batch: -0.400013\n",
      "-----------------------------------------------\n",
      "avg val loss per batch: -0.399934\n",
      "-----------------------------------------------\n",
      "|\n",
      "Done!\n"
     ]
    }
   ],
   "source": [
    "# a useful function to present things clearer\n",
    "def separator():\n",
    "    print( \"-----------------------------------------------\" )\n",
    "\n",
    "epochs = 50\n",
    "\n",
    "# re-initialise the model and the optimizer\n",
    "def subnet_fc( dims_in, dims_out ):\n",
    "    return nn.Sequential( nn.Linear(dims_in, 128), \n",
    "                         nn.ReLU(),\n",
    "                         nn.Linear(128,  dims_out) )\n",
    "ndim_nr = 4\n",
    "inn_nr = Ff.SequenceINN( ndim_nr )\n",
    "for k in range(8):\n",
    "    inn_nr.append( Fm.AllInOneBlock, subnet_constructor=subnet_fc, permute_soft=True )\n",
    "learning_rate = 0.001\n",
    "optimizer_nr = torch.optim.Adam( inn_nr.parameters(), lr=learning_rate )\n",
    "separator()\n",
    "print( \"model architecture \")\n",
    "separator()\n",
    "print( inn_nr )\n",
    "\n",
    "# track train and val losses\n",
    "trn_losses_nr = []\n",
    "val_losses_nr = []\n",
    "\n",
    "for t in range(epochs):\n",
    "    separator()\n",
    "    print( f\"Epoch {t+1}\" )\n",
    "    separator()\n",
    "    train_epoch( trn_dataloader_nr, inn_nr, optimizer_nr )\n",
    "    separator()\n",
    "    trn_loss = trn_pass( trn_dataloader_nr, inn_nr )\n",
    "    trn_losses_nr.append( trn_loss )\n",
    "    separator()\n",
    "    val_loss = val_pass( val_dataloader_nr, inn_nr )\n",
    "    val_losses_nr.append( val_loss )\n",
    "    separator()\n",
    "    print( \"|\" )\n",
    "    \n",
    "print(\"Done!\")"
   ]
  },
  {
   "cell_type": "markdown",
   "metadata": {},
   "source": [
    "## Study the new results"
   ]
  },
  {
   "cell_type": "markdown",
   "metadata": {},
   "source": [
    "We now generate data and recover the original observables."
   ]
  },
  {
   "cell_type": "code",
   "execution_count": 61,
   "metadata": {},
   "outputs": [],
   "source": [
    "z_gen_nr = torch.randn( (10000, ndim_nr) )\n",
    "x_gen_nr, _ = inn_nr( z_gen_nr, rev=True )\n",
    "x_gen_nr = x_gen_nr*100.0\n",
    "x_gen_nr = get_events_nr( x_gen_nr.detach().numpy() )"
   ]
  },
  {
   "cell_type": "markdown",
   "metadata": {},
   "source": [
    "Plot the energy distribution of the first jet, for both real and generated data:"
   ]
  },
  {
   "cell_type": "code",
   "execution_count": 62,
   "metadata": {},
   "outputs": [
    {
     "data": {
      "image/png": "[encoded data removed]",
      "text/plain": [
       "<Figure size 432x360 with 1 Axes>"
      ]
     },
     "metadata": {
      "needs_background": "light"
     },
     "output_type": "display_data"
    }
   ],
   "source": [
    "fig, axs = plt.subplots( figsize=(6,5) )\n",
    "\n",
    "bins = np.arange( 0, 350, step=20 )\n",
    "axs.hist( x_gen_nr[:,0], alpha=0.5, density=True, bins=bins, label='gen' )\n",
    "axs.hist( dy_trn_data[:,0], alpha=0.5, density=True, bins=bins, label='real' )\n",
    "\n",
    "axs.set_xlabel( \"$E_{1}$ (GeV)\", fontproperties=axislabelfont )\n",
    "axs.set_ylabel( \"\\#events\", fontproperties=axislabelfont )\n",
    "\n",
    "yticks = [  ]\n",
    "axs.set_yticklabels( yticks, fontproperties=tickfont )\n",
    "\n",
    "xticks = [ int(x) for x in axs.get_xticks() ]\n",
    "axs.set_xticklabels( xticks, fontproperties=tickfont )\n",
    "\n",
    "axs.legend( loc='best', prop=tickfont )\n",
    "\n",
    "fig.tight_layout()\n",
    "fig.show()"
   ]
  },
  {
   "cell_type": "markdown",
   "metadata": {},
   "source": [
    "We can do the same for $p_y$ of the first jet:"
   ]
  },
  {
   "cell_type": "code",
   "execution_count": 63,
   "metadata": {},
   "outputs": [
    {
     "data": {
      "image/png": "[encoded data removed]",
      "text/plain": [
       "<Figure size 432x360 with 1 Axes>"
      ]
     },
     "metadata": {
      "needs_background": "light"
     },
     "output_type": "display_data"
    }
   ],
   "source": [
    "fig, axs = plt.subplots( figsize=(6,5) )\n",
    "\n",
    "bins = np.arange( -100, +100, step=10 )\n",
    "axs.hist( x_gen_nr[:,6], alpha=0.5, density=True, bins=bins, label='gen' )\n",
    "axs.hist( dy_trn_data[:,6], alpha=0.5, density=True, bins=bins, label='real' )\n",
    "\n",
    "axs.set_xlabel( \"$p_{y,1}$ (GeV)\", fontproperties=axislabelfont )\n",
    "axs.set_ylabel( \"\\#events\", fontproperties=axislabelfont )\n",
    "\n",
    "yticks = [  ]\n",
    "axs.set_yticklabels( yticks, fontproperties=tickfont )\n",
    "\n",
    "xticks = [ int(x) for x in axs.get_xticks() ]\n",
    "axs.set_xticklabels( xticks, fontproperties=tickfont )\n",
    "\n",
    "axs.legend( loc='best', prop=tickfont )\n",
    "\n",
    "fig.tight_layout()\n",
    "fig.show()"
   ]
  },
  {
   "cell_type": "markdown",
   "metadata": {},
   "source": [
    "Now we can look at more complicated observables which involve correlations between the different inputs.\n",
    "\n",
    "first we need to calucate them from the generated data:"
   ]
  },
  {
   "cell_type": "code",
   "execution_count": 64,
   "metadata": {},
   "outputs": [],
   "source": [
    "x_gen_evnt_nr_ims, x_gen_evnt_nr_pts, x_gen_jet1_nr_pts, x_gen_jet2_nr_pts = get_obs_nr( x_gen.detach().numpy() )"
   ]
  },
  {
   "cell_type": "markdown",
   "metadata": {},
   "source": [
    "The $p_T$ of the first jet:"
   ]
  },
  {
   "cell_type": "code",
   "execution_count": 65,
   "metadata": {},
   "outputs": [
    {
     "data": {
      "image/png": "[encoded data removed]",
      "text/plain": [
       "<Figure size 432x360 with 1 Axes>"
      ]
     },
     "metadata": {
      "needs_background": "light"
     },
     "output_type": "display_data"
    }
   ],
   "source": [
    "fig, axs = plt.subplots( figsize=(6,5) )\n",
    "\n",
    "bins = np.arange( 5, 85, step=5 )\n",
    "axs.hist( x_gen_jet1_nr_pts, alpha=0.5, density=True, bins=bins, label='gen' )\n",
    "axs.hist( trn_jet1_nr_pts, alpha=0.5, density=True, bins=bins, label='real' )\n",
    "\n",
    "axs.set_xlabel( \"$p_{T,1}$ (GeV)\", fontproperties=axislabelfont )\n",
    "axs.set_ylabel( \"\\#events\", fontproperties=axislabelfont )\n",
    "\n",
    "yticks = [  ]\n",
    "axs.set_yticklabels( yticks, fontproperties=tickfont )\n",
    "\n",
    "xticks = [ int(x) for x in axs.get_xticks() ]\n",
    "axs.set_xticklabels( xticks, fontproperties=tickfont )\n",
    "\n",
    "axs.legend( loc='best', prop=tickfont )\n",
    "\n",
    "fig.tight_layout()\n",
    "fig.show()"
   ]
  },
  {
   "cell_type": "markdown",
   "metadata": {},
   "source": [
    "Looks good!"
   ]
  },
  {
   "cell_type": "markdown",
   "metadata": {},
   "source": [
    "Now the invariant mass of the whole event:"
   ]
  },
  {
   "cell_type": "code",
   "execution_count": 66,
   "metadata": {},
   "outputs": [
    {
     "data": {
      "image/png": "[encoded data removed]",
      "text/plain": [
       "<Figure size 432x360 with 1 Axes>"
      ]
     },
     "metadata": {
      "needs_background": "light"
     },
     "output_type": "display_data"
    }
   ],
   "source": [
    "fig, axs = plt.subplots( figsize=(6,5) )\n",
    "\n",
    "bins = np.arange( 5, 165, step=10 )\n",
    "axs.hist( np.nan_to_num( x_gen_evnt_nr_ims ), alpha=0.5, density=True, bins=bins, label='gen' )\n",
    "axs.hist( np.nan_to_num( trn_evnt_ims ), alpha=0.5, density=True, bins=bins, label='real' )\n",
    "\n",
    "axs.set_xlabel( \"$m_{\\mu\\mu}$ (GeV)\", fontproperties=axislabelfont )\n",
    "axs.set_ylabel( \"\\#events\", fontproperties=axislabelfont )\n",
    "\n",
    "yticks = [  ]\n",
    "axs.set_yticklabels( yticks, fontproperties=tickfont )\n",
    "\n",
    "xticks = [ int(x) for x in axs.get_xticks() ]\n",
    "axs.set_xticklabels( xticks, fontproperties=tickfont )\n",
    "\n",
    "axs.legend( loc='best', prop=tickfont )\n",
    "\n",
    "fig.tight_layout()\n",
    "fig.show()"
   ]
  },
  {
   "cell_type": "markdown",
   "metadata": {},
   "source": [
    "Again this is not perfect, but the peak of the generated distribution is at the correct place."
   ]
  }
 ],
 "metadata": {
  "kernelspec": {
   "display_name": "Python 3",
   "language": "python",
   "name": "python3"
  },
  "language_info": {
   "codemirror_mode": {
    "name": "ipython",
    "version": 3
   },
   "file_extension": ".py",
   "mimetype": "text/x-python",
   "name": "python",
   "nbconvert_exporter": "python",
   "pygments_lexer": "ipython3",
   "version": "3.8.2"
  }
 },
 "nbformat": 4,
 "nbformat_minor": 4
}
