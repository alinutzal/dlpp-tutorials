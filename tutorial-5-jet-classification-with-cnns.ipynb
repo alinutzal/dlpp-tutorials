{
 "cells": [
  {
   "cell_type": "markdown",
   "metadata": {},
   "source": [
    "# Jet Classification with CNNs"
   ]
  },
  {
   "cell_type": "markdown",
   "metadata": {},
   "source": [
    "For this tutorial you should use a combination of your lecture notes and the pytorch tutorial at:\n",
    "\n",
    "https://pytorch.org/tutorials/beginner/blitz/cifar10_tutorial.html?highlight=convolutional"
   ]
  },
  {
   "cell_type": "markdown",
   "metadata": {},
   "source": [
    "Outline:\n",
    " - Imports and plotting set-up\n",
    " - Preprocessing jet images\n",
    " - Visualising the data\n",
    " - Datasets and dataloaders\n",
    " - Building the CNN\n",
    " - Training the CNN\n",
    " - Plot train and validation losses\n",
    " - Study the results\n",
    " - CNNs and translation invariance\n",
    " - Why are CNNs better than fully connected networks here?\n",
    "     - how many trainable parameters does the CNN have?\n",
    "     - if you like, build a fully connected network with approximately the same number of parameters as your CNN, train it, and compare the performance to the CNN.\n",
    " - How could we improve the results we have here?"
   ]
  },
  {
   "cell_type": "markdown",
   "metadata": {},
   "source": [
    "### Imports"
   ]
  },
  {
   "cell_type": "code",
   "execution_count": 1,
   "metadata": {},
   "outputs": [],
   "source": [
    "import os\n",
    "import sys\n",
    "import random\n",
    "import time\n",
    "import numpy as np\n",
    "import torch\n",
    "from torch.utils.data import Dataset\n",
    "from torch.utils.data import DataLoader\n",
    "from torch import nn\n",
    "\n",
    "from helper_preprocessing import constit_to_img"
   ]
  },
  {
   "cell_type": "markdown",
   "metadata": {},
   "source": [
    "#### Plotting set-up"
   ]
  },
  {
   "cell_type": "code",
   "execution_count": 2,
   "metadata": {},
   "outputs": [],
   "source": [
    "from matplotlib import pyplot as plt\n",
    "import matplotlib\n",
    "import warnings\n",
    "warnings.filterwarnings(\"ignore\")\n",
    "from matplotlib.lines import Line2D\n",
    "from matplotlib.font_manager import FontProperties\n",
    "import matplotlib.colors as mcolors\n",
    "import colorsys\n",
    "\n",
    "labelfont = FontProperties()\n",
    "labelfont.set_family('serif')\n",
    "labelfont.set_name('Times New Roman')\n",
    "labelfont.set_size(14)\n",
    "\n",
    "axislabelfont = FontProperties()\n",
    "axislabelfont.set_family('serif')\n",
    "axislabelfont.set_name('Times New Roman')\n",
    "axislabelfont.set_size(22)\n",
    "\n",
    "tickfont = FontProperties()\n",
    "tickfont.set_family('serif')\n",
    "tickfont.set_name('Times New Roman')\n",
    "tickfont.set_size(16)\n",
    "\n",
    "axisfontsize = 16\n",
    "labelfontsize = 16\n",
    "\n",
    "plt.rcParams[\"font.family\"] = \"Times New Roman\"\n",
    "plt.rcParams[\"mathtext.default\"] = \"rm\"\n",
    "plt.rcParams['text.usetex'] = True"
   ]
  },
  {
   "cell_type": "markdown",
   "metadata": {},
   "source": [
    "## Loading the data"
   ]
  },
  {
   "cell_type": "markdown",
   "metadata": {},
   "source": [
    "To load the data we'll use the erum-data framework outline is this paper:\n",
    "\n",
    "https://arxiv.org/pdf/2107.00656.pdf\n",
    "\n",
    "The erum data python package can be installed using the command below:\n",
    "\n",
    "`python3 -m pip install git+https://github.com/erum-data-idt/pd4ml`\n",
    "\n",
    "A notebook showing how to load the top-tagging data using this package can be found here:\n",
    "\n",
    "https://github.com/erum-data-idt/pd4ml/blob/main/examples/1_top_plots.ipynb"
   ]
  },
  {
   "cell_type": "code",
   "execution_count": 3,
   "metadata": {},
   "outputs": [],
   "source": [
    "from pd4ml import TopTagging"
   ]
  },
  {
   "cell_type": "markdown",
   "metadata": {},
   "source": [
    "Erum data includes a desription of the dataset:"
   ]
  },
  {
   "cell_type": "code",
   "execution_count": 4,
   "metadata": {},
   "outputs": [
    {
     "name": "stdout",
     "output_type": "stream",
     "text": [
      "\n",
      "    Top tagging dataset.\n",
      "\n",
      "    Description:\n",
      "    14 TeV, hadronic tops for signal, QCD djets background, Delphes ATLAS detector card with Pythia. No MPI/pile-up included\n",
      "    Particle-flow entries (produced by Delphes E-flow) have been clustered into anti-kT 0.8 jets in the pT range [550,650].\n",
      "    All top jets are matched to a parton-level top within ∆R = 0.8, and to all top decay partons within 0.8. Also,|eta|_jet < 2 has been required.\n",
      "\n",
      "    Ref:\n",
      "    Deep-learned Top Tagging with a Lorentz Layer by A Butter, G Kasieczka, T and M Russell (arXiv: 1707.08966)\n",
      "\n",
      "    Dataset shape:\n",
      "    ~2M events have been stored divided between training (~1.6M) and test (~400k)) and the shape of the dataset is (# of events, 200, 4).\n",
      "    The feature represent the leading 200 jet constituent four-momenta, with zero-padding for jets that have less than 200.\n",
      "    Constituents are sorted by pT, with the highest pT one first.\n",
      "\n",
      "    The second dataset that is included is just a flag \"ttv\" to identify what the event was before the reshaping operated by us. Here a legenda:\n",
      "        0 = training event;\n",
      "        1 = test event;\n",
      "        2 = validation event;\n",
      "\n",
      "    Note that in the current splitting of the dataset, training and validation events have been merged together as a unique training dataset. So for most intents and purposes one should just train the model on the first dataset and omit the second 'ttv' dataset altogether.\n",
      "\n",
      "    The set label are 0 for QCD and 1 for top.\n",
      "    \n"
     ]
    }
   ],
   "source": [
    "TopTagging.print_description()"
   ]
  },
  {
   "cell_type": "markdown",
   "metadata": {},
   "source": [
    "The command below loads the dataset, downloading it if it is not already there.\n",
    "\n",
    "Warning: these files are large ($\\simeq1.5$gb) and downloading them takes some time."
   ]
  },
  {
   "cell_type": "code",
   "execution_count": 5,
   "metadata": {},
   "outputs": [],
   "source": [
    "path = '/fs/scratch/PLS0151/particle/dlpp-data/tutorial-3-data/'\n",
    "X_train_f, y_train_f = TopTagging.load('train', path = path)\n",
    "X_test_f, y_test_f = TopTagging.load('test', path = path)"
   ]
  },
  {
   "cell_type": "code",
   "execution_count": 6,
   "metadata": {},
   "outputs": [],
   "source": [
    "X_train_f = X_train_f[0]\n",
    "X_test_f = X_test_f[0]"
   ]
  },
  {
   "cell_type": "code",
   "execution_count": 7,
   "metadata": {},
   "outputs": [
    {
     "name": "stdout",
     "output_type": "stream",
     "text": [
      "shapes:\n",
      "X_train - (1614000, 200, 4)\n",
      "y_train - (1614000,)\n",
      "X_test  - (404000, 200, 4)\n",
      "y_test  - (404000,)\n"
     ]
    }
   ],
   "source": [
    "print( \"shapes:\" )\n",
    "print( \"X_train - \" + str( np.shape( X_train_f ) ) )\n",
    "print( \"y_train - \" + str( np.shape( y_train_f ) ) )\n",
    "print( \"X_test  - \" + str( np.shape( X_test_f ) ) )\n",
    "print( \"y_test  - \" + str( np.shape( y_test_f ) ) )"
   ]
  },
  {
   "cell_type": "markdown",
   "metadata": {},
   "source": [
    "This is too much for us, let's cut it down."
   ]
  },
  {
   "cell_type": "code",
   "execution_count": 8,
   "metadata": {},
   "outputs": [],
   "source": [
    "nj = 30000\n",
    "X_train = X_train_f[ 0:nj ]\n",
    "y_train = y_train_f[ 0:nj ]\n",
    "X_test = X_test_f[ 0:nj ]\n",
    "y_test = y_test_f[ 0:nj ]\n",
    "X_val = X_train_f[ -nj: ]\n",
    "y_val = y_train_f[ -nj: ]"
   ]
  },
  {
   "cell_type": "code",
   "execution_count": 9,
   "metadata": {},
   "outputs": [
    {
     "name": "stdout",
     "output_type": "stream",
     "text": [
      "shapes:\n",
      "X_train - (30000, 200, 4)\n",
      "y_train - (30000,)\n",
      "X_test  - (30000, 200, 4)\n",
      "y_test  - (30000,)\n",
      "X_val  - (30000, 200, 4)\n",
      "y_val  - (30000,)\n"
     ]
    }
   ],
   "source": [
    "print( \"shapes:\" )\n",
    "print( \"X_train - \" + str( np.shape( X_train ) ) )\n",
    "print( \"y_train - \" + str( np.shape( y_train ) ) )\n",
    "print( \"X_test  - \" + str( np.shape( X_test ) ) )\n",
    "print( \"y_test  - \" + str( np.shape( y_test ) ) )\n",
    "print( \"X_val  - \" + str( np.shape( X_val ) ) )\n",
    "print( \"y_val  - \" + str( np.shape( y_val ) ) )"
   ]
  },
  {
   "cell_type": "markdown",
   "metadata": {},
   "source": [
    "Let's save this out so we have the shorter versions in future."
   ]
  },
  {
   "cell_type": "raw",
   "metadata": {},
   "source": [
    "np.save( path + 'TopTagging/x_train_short.npy', X_train )\n",
    "np.save( path + 'TopTagging/y_train_short.npy', y_train )\n",
    "np.save( path + 'TopTagging/x_test_short.npy', X_test )\n",
    "np.save( path + 'TopTagging/y_test_short.npy', y_test )\n",
    "np.save( path + 'TopTagging/x_val_short.npy', X_val )\n",
    "np.save( path + 'TopTagging/y_val_short.npy', y_val )"
   ]
  },
  {
   "cell_type": "code",
   "execution_count": 10,
   "metadata": {},
   "outputs": [],
   "source": [
    "X_train = np.load( path + 'TopTagging/x_train_short.npy')\n",
    "y_train = np.load( path + 'TopTagging/y_train_short.npy')\n",
    "X_test = np.load( path + 'TopTagging/x_test_short.npy')\n",
    "y_test = np.load(path + 'TopTagging/y_test_short.npy')\n",
    "X_val = np.load( path + 'TopTagging/x_val_short.npy')\n",
    "y_val = np.load( path + 'TopTagging/y_val_short.npy')"
   ]
  },
  {
   "cell_type": "markdown",
   "metadata": {},
   "source": [
    "## Preprocessing jet images"
   ]
  },
  {
   "cell_type": "markdown",
   "metadata": {},
   "source": [
    "We need to convert the jets to $(p_T,\\eta,\\phi)$ format, preprocessing them with rotations and translations, and convert them to an image format.\n",
    "\n",
    "We will preprocess the data such that:\n",
    "- the jets are centred at $(\\eta,\\phi)=(0.0,0.0)$\n",
    "- the principle axis of each jet points in the same direction\n",
    "- the quadrant of the jets with the most $p_T$ is the same for each jet\n",
    "- the jet $p_T$'s are normalised.\n",
    "\n",
    "We need some functions for that. Check helper_preprocessing.py for the constit_to_img function."
   ]
  },
  {
   "cell_type": "markdown",
   "metadata": {},
   "source": [
    "Now let's run the preprocessing:"
   ]
  },
  {
   "cell_type": "code",
   "execution_count": 11,
   "metadata": {},
   "outputs": [
    {
     "name": "stdout",
     "output_type": "stream",
     "text": [
      "Crop constituents\n",
      "Calculating pT\n",
      "Calculating eta\n",
      "Calculating phi\n",
      "Calculating the mass\n",
      "Pre-shifting the phis\n",
      "Using pT as weight\n",
      "Preprocessing\n",
      "Creating images\n",
      "Cropping and normalising\n",
      "Reshaping\n"
     ]
    }
   ],
   "source": [
    "z_train = constit_to_img( X_train, 50, True, True, True )"
   ]
  },
  {
   "cell_type": "code",
   "execution_count": 12,
   "metadata": {},
   "outputs": [
    {
     "data": {
      "text/plain": [
       "(30000, 1600)"
      ]
     },
     "execution_count": 12,
     "metadata": {},
     "output_type": "execute_result"
    }
   ],
   "source": [
    "np.shape( z_train )"
   ]
  },
  {
   "cell_type": "code",
   "execution_count": 13,
   "metadata": {},
   "outputs": [
    {
     "data": {
      "text/plain": [
       "1.0"
      ]
     },
     "execution_count": 13,
     "metadata": {},
     "output_type": "execute_result"
    }
   ],
   "source": [
    "z_train[0].sum()"
   ]
  },
  {
   "cell_type": "code",
   "execution_count": 14,
   "metadata": {},
   "outputs": [
    {
     "data": {
      "text/plain": [
       "29999.999999999964"
      ]
     },
     "execution_count": 14,
     "metadata": {},
     "output_type": "execute_result"
    }
   ],
   "source": [
    "z_train.sum()"
   ]
  },
  {
   "cell_type": "code",
   "execution_count": 15,
   "metadata": {},
   "outputs": [
    {
     "name": "stdout",
     "output_type": "stream",
     "text": [
      "Crop constituents\n",
      "Calculating pT\n",
      "Calculating eta\n",
      "Calculating phi\n",
      "Calculating the mass\n",
      "Pre-shifting the phis\n",
      "Using pT as weight\n",
      "Preprocessing\n",
      "Creating images\n",
      "Cropping and normalising\n",
      "Reshaping\n"
     ]
    }
   ],
   "source": [
    "z_test = constit_to_img( X_test, 50, True, True, True )"
   ]
  },
  {
   "cell_type": "code",
   "execution_count": 16,
   "metadata": {},
   "outputs": [
    {
     "data": {
      "text/plain": [
       "(30000, 1600)"
      ]
     },
     "execution_count": 16,
     "metadata": {},
     "output_type": "execute_result"
    }
   ],
   "source": [
    "np.shape( z_test )"
   ]
  },
  {
   "cell_type": "code",
   "execution_count": 17,
   "metadata": {},
   "outputs": [
    {
     "data": {
      "text/plain": [
       "1.0"
      ]
     },
     "execution_count": 17,
     "metadata": {},
     "output_type": "execute_result"
    }
   ],
   "source": [
    "z_test[0].sum()"
   ]
  },
  {
   "cell_type": "code",
   "execution_count": 18,
   "metadata": {},
   "outputs": [
    {
     "data": {
      "text/plain": [
       "30000.000000000065"
      ]
     },
     "execution_count": 18,
     "metadata": {},
     "output_type": "execute_result"
    }
   ],
   "source": [
    "z_test.sum()"
   ]
  },
  {
   "cell_type": "code",
   "execution_count": 19,
   "metadata": {},
   "outputs": [
    {
     "name": "stdout",
     "output_type": "stream",
     "text": [
      "Crop constituents\n",
      "Calculating pT\n",
      "Calculating eta\n",
      "Calculating phi\n",
      "Calculating the mass\n",
      "Pre-shifting the phis\n",
      "Using pT as weight\n",
      "Preprocessing\n",
      "Creating images\n",
      "Cropping and normalising\n",
      "Reshaping\n"
     ]
    }
   ],
   "source": [
    "z_val = constit_to_img( X_val, 50, True, True, True )"
   ]
  },
  {
   "cell_type": "markdown",
   "metadata": {},
   "source": [
    "## Visualizing the data"
   ]
  },
  {
   "cell_type": "markdown",
   "metadata": {},
   "source": [
    "Now let's plot these jet images."
   ]
  },
  {
   "cell_type": "code",
   "execution_count": 20,
   "metadata": {},
   "outputs": [],
   "source": [
    "sig = z_train[ np.where(y_train==1) ]\n",
    "bkg = z_train[ np.where(y_train==0) ]"
   ]
  },
  {
   "cell_type": "code",
   "execution_count": 21,
   "metadata": {},
   "outputs": [
    {
     "data": {
      "text/plain": [
       "<matplotlib.image.AxesImage at 0x2b361f215060>"
      ]
     },
     "execution_count": 21,
     "metadata": {},
     "output_type": "execute_result"
    },
    {
     "data": {
      "image/png": "[encoded data removed]",
      "text/plain": [
       "<Figure size 640x480 with 1 Axes>"
      ]
     },
     "metadata": {},
     "output_type": "display_data"
    }
   ],
   "source": [
    "plt.imshow( sig[0].reshape( (40,40) ), cmap=\"gist_heat_r\" )"
   ]
  },
  {
   "cell_type": "code",
   "execution_count": 22,
   "metadata": {},
   "outputs": [
    {
     "data": {
      "image/png": "[encoded data removed]",
      "text/plain": [
       "<Figure size 900x500 with 2 Axes>"
      ]
     },
     "metadata": {},
     "output_type": "display_data"
    }
   ],
   "source": [
    "fig, axs = plt.subplots( 1, 2, figsize=(9,5) )\n",
    "\n",
    "axs[0].imshow( sig[0].reshape( (40,40) ), cmap=\"gist_heat_r\" )\n",
    "axs[0].set_xlabel( \"$\\eta$\", fontproperties=axislabelfont )\n",
    "axs[0].set_ylabel( \"$\\phi$\", fontproperties=axislabelfont )\n",
    "ticks0 = [ int(x) for x in axs[0].get_yticks() ]\n",
    "axs[0].set_yticklabels( ticks0, fontproperties=tickfont )\n",
    "axs[0].set_xticklabels( ticks0, fontproperties=tickfont )\n",
    "\n",
    "axs[1].imshow( bkg[0].reshape( (40,40) ), cmap=\"gist_heat_r\" )\n",
    "axs[1].set_xlabel( \"$\\eta$\", fontproperties=axislabelfont )\n",
    "axs[1].set_ylabel( \"$\\phi$\", fontproperties=axislabelfont )\n",
    "ticks1 = [ int(x) for x in axs[1].get_yticks() ]\n",
    "axs[1].set_yticklabels( ticks1, fontproperties=tickfont )\n",
    "axs[1].set_xticklabels( ticks1, fontproperties=tickfont )\n",
    "\n",
    "fig.tight_layout()\n",
    "\n",
    "fig.show()"
   ]
  },
  {
   "cell_type": "code",
   "execution_count": 23,
   "metadata": {},
   "outputs": [
    {
     "data": {
      "image/png": "[encoded data removed]",
      "text/plain": [
       "<Figure size 900x500 with 2 Axes>"
      ]
     },
     "metadata": {},
     "output_type": "display_data"
    }
   ],
   "source": [
    "fig, axs = plt.subplots( 1, 2, figsize=(9,5) )\n",
    "\n",
    "axs[0].imshow( sig.mean(0).reshape( (40,40) ), cmap=\"gist_heat_r\" )\n",
    "axs[0].set_xlabel( \"$\\eta$\", fontproperties=axislabelfont )\n",
    "axs[0].set_ylabel( \"$\\phi$\", fontproperties=axislabelfont )\n",
    "ticks0 = [ int(x) for x in axs[0].get_yticks() ]\n",
    "axs[0].set_yticklabels( ticks0, fontproperties=tickfont )\n",
    "axs[0].set_xticklabels( ticks0, fontproperties=tickfont )\n",
    "\n",
    "axs[1].imshow( bkg.mean(0).reshape( (40,40) ), cmap=\"gist_heat_r\" )\n",
    "axs[1].set_xlabel( \"$\\eta$\", fontproperties=axislabelfont )\n",
    "axs[1].set_ylabel( \"$\\phi$\", fontproperties=axislabelfont )\n",
    "ticks1 = [ int(x) for x in axs[1].get_yticks() ]\n",
    "axs[1].set_yticklabels( ticks1, fontproperties=tickfont )\n",
    "axs[1].set_xticklabels( ticks1, fontproperties=tickfont )\n",
    "\n",
    "fig.tight_layout()\n",
    "\n",
    "fig.show()"
   ]
  },
  {
   "cell_type": "markdown",
   "metadata": {},
   "source": [
    "## Datasets and dataloaders"
   ]
  },
  {
   "cell_type": "markdown",
   "metadata": {},
   "source": [
    "Let's define a minimal dataset similar to the last we have seen."
   ]
  },
  {
   "cell_type": "code",
   "execution_count": 24,
   "metadata": {},
   "outputs": [],
   "source": [
    "class cnn_data( Dataset ):\n",
    "    \n",
    "    def __init__( self, imgs, labels ):\n",
    "        self.imgs = imgs\n",
    "        self.labels = labels\n",
    "\n",
    "    def __len__(self):\n",
    "        return len(self.labels)\n",
    "\n",
    "    def __getitem__(self, idx):\n",
    "        return self.imgs[idx], self.labels[idx]"
   ]
  },
  {
   "cell_type": "markdown",
   "metadata": {},
   "source": [
    "Define images and labels as pytorch Tensors, we'll need to call them later."
   ]
  },
  {
   "cell_type": "code",
   "execution_count": 25,
   "metadata": {},
   "outputs": [],
   "source": [
    "z_train = torch.Tensor(z_train.reshape(-1, 1, 40,40).astype('float32'))\n",
    "z_test = torch.Tensor(z_test.reshape(-1, 1, 40,40).astype('float32'))\n",
    "z_val = torch.Tensor(z_val.reshape(-1, 1, 40,40).astype('float32'))"
   ]
  },
  {
   "cell_type": "code",
   "execution_count": 26,
   "metadata": {},
   "outputs": [],
   "source": [
    "y_train = torch.Tensor(y_train).unsqueeze(-1)\n",
    "y_test = torch.Tensor(y_test).unsqueeze(-1)\n",
    "y_val = torch.Tensor(y_val).unsqueeze(-1)"
   ]
  },
  {
   "cell_type": "markdown",
   "metadata": {},
   "source": [
    "Finally, create the datasets and the dataloaders:"
   ]
  },
  {
   "cell_type": "code",
   "execution_count": 27,
   "metadata": {},
   "outputs": [],
   "source": [
    "train_cnn_dataset = cnn_data(z_train, y_train.float())\n",
    "test_cnn_dataset = cnn_data(z_test, y_test.float())\n",
    "val_cnn_dataset = cnn_data(z_val, y_val.float())"
   ]
  },
  {
   "cell_type": "code",
   "execution_count": 28,
   "metadata": {},
   "outputs": [],
   "source": [
    "train_cnn_dataloader = DataLoader( train_cnn_dataset, batch_size=64, shuffle=True )\n",
    "test_cnn_dataloader = DataLoader( test_cnn_dataset, batch_size=64, shuffle=True )\n",
    "val_cnn_dataloader = DataLoader( val_cnn_dataset, batch_size=64, shuffle=True)"
   ]
  },
  {
   "cell_type": "markdown",
   "metadata": {},
   "source": [
    "## Building the CNN"
   ]
  },
  {
   "cell_type": "markdown",
   "metadata": {},
   "source": [
    "Let's build a simple CNN. We'll use two convolutions with a small number of channels. Two max-pooling layers are introduced to reduce the dimensionality of the images and the parameters of the linear layer."
   ]
  },
  {
   "cell_type": "code",
   "execution_count": 29,
   "metadata": {},
   "outputs": [],
   "source": [
    "class ConvNet2D(nn.Module):\n",
    "    \n",
    "    def __init__(self, in_ch=1, ch=4, out_dim=1, img_sz=40):\n",
    "        super().__init__()\n",
    "        self.conv1 = nn.Conv2d(in_ch, ch, kernel_size=5, bias=True, stride=1, padding=2)\n",
    "        self.conv2 = nn.Conv2d(ch, 1, kernel_size=5, bias=True, stride=1, padding=2)\n",
    "        self.max = nn.MaxPool2d(kernel_size=2)\n",
    "        self.flatten = nn.Flatten()\n",
    "        self.out = nn.Linear(int(img_sz*img_sz/16), out_dim, bias=True)\n",
    "        \n",
    "    def forward(self, x):\n",
    "        self.net = nn.Sequential(\n",
    "            self.conv1,\n",
    "            nn.ReLU(),\n",
    "            self.max,\n",
    "            nn.ReLU(),\n",
    "            self.conv2,\n",
    "            self.max,\n",
    "            self.flatten,\n",
    "            self.out,\n",
    "            nn.Sigmoid()\n",
    "        )\n",
    "        return self.net(x)\n",
    "    "
   ]
  },
  {
   "cell_type": "markdown",
   "metadata": {},
   "source": [
    "Check available device, use GPU if possible:"
   ]
  },
  {
   "cell_type": "code",
   "execution_count": 30,
   "metadata": {},
   "outputs": [
    {
     "name": "stdout",
     "output_type": "stream",
     "text": [
      "Using cuda device\n"
     ]
    }
   ],
   "source": [
    "device = \"cuda\" if torch.cuda.is_available() else \"cpu\"\n",
    "print(f\"Using {device} device\")"
   ]
  },
  {
   "cell_type": "markdown",
   "metadata": {},
   "source": [
    "## Training the CNN"
   ]
  },
  {
   "cell_type": "markdown",
   "metadata": {},
   "source": [
    "Since our problem is two-class classification problem, we can use the Binary Cross-Entropy as a loss function:\n",
    "\n",
    "- BCE = $y_i \\log p(y_i) + (1-y_i) \\log (1-p(y_i)) $\n",
    "\n",
    "where $y_i$ is the true label, and $p(y_i)$ is the predicted probability of the event being a top jet.\n",
    "\n",
    "In the loss function we add the log-probability for the correct class. Therefore, increasing the fidelity of a pediction lowers the loss function as desired for an optimization problem."
   ]
  },
  {
   "cell_type": "code",
   "execution_count": 31,
   "metadata": {},
   "outputs": [],
   "source": [
    "loss_fn = nn.BCELoss()"
   ]
  },
  {
   "cell_type": "code",
   "execution_count": 32,
   "metadata": {},
   "outputs": [],
   "source": [
    "def train_epoch( dataloader, model, loss_fn, optimizer ):\n",
    "    \n",
    "    size = len( dataloader.dataset )\n",
    "\n",
    "    for batch, (X, y) in enumerate(dataloader):\n",
    "\n",
    "        # pass data through network\n",
    "        pred = model(X.to(device))\n",
    "        \n",
    "        # compute loss\n",
    "        loss = loss_fn( pred, y.to(device) )\n",
    "\n",
    "        # reset gradients in optimizer\n",
    "        optimizer.zero_grad()\n",
    "        \n",
    "        # compute gradients\n",
    "        loss.backward()\n",
    "        \n",
    "        # update weights with optimizer\n",
    "        optimizer.step()\n",
    "        \n",
    "        # print the training loss every 100 updates\n",
    "        if batch % 100 == 0:\n",
    "            loss, current = loss.item(), batch * len(X)\n",
    "            print( f\"current batch loss: {loss:>7f}  [{current:>5d}/{size:>5d}]\" )"
   ]
  },
  {
   "cell_type": "code",
   "execution_count": 33,
   "metadata": {},
   "outputs": [],
   "source": [
    "def val_pass( dataloader, model, loss_fn ):\n",
    "    \n",
    "    size = len( dataloader.dataset )\n",
    "    num_batches = len( dataloader )\n",
    "    vl = 0.0\n",
    "\n",
    "    # we don't need gradients here since we only use the forward pass\n",
    "    with torch.no_grad():\n",
    "        for X, y in dataloader:\n",
    "            pred = model( X.to(device) )\n",
    "            vl += loss_fn( pred, y.to(device) ).item()\n",
    "\n",
    "    vl /= num_batches\n",
    "    print( f\"avg val loss per batch: {vl:>8f}\" )\n",
    "    \n",
    "    return vl\n",
    "\n",
    "def trn_pass( dataloader, model, loss_fn ):\n",
    "    \n",
    "    size = len( dataloader.dataset )\n",
    "    num_batches = len( dataloader )\n",
    "    tl = 0.0\n",
    "\n",
    "    # we don't need gradients here since we only use the forward pass\n",
    "    with torch.no_grad():\n",
    "        for X, y in dataloader:\n",
    "            pred = model( X.to(device) )\n",
    "            tl += loss_fn( pred, y.to(device) ).item()\n",
    "\n",
    "    tl /= num_batches\n",
    "    print( f\"avg trn loss per batch: {tl:>8f}\" )\n",
    "    \n",
    "    return tl"
   ]
  },
  {
   "cell_type": "code",
   "execution_count": 34,
   "metadata": {
    "scrolled": true
   },
   "outputs": [
    {
     "name": "stdout",
     "output_type": "stream",
     "text": [
      "-----------------------------------------------\n",
      "model architecture \n",
      "-----------------------------------------------\n",
      "ConvNet2D(\n",
      "  (conv1): Conv2d(1, 4, kernel_size=(5, 5), stride=(1, 1), padding=(2, 2))\n",
      "  (conv2): Conv2d(4, 1, kernel_size=(5, 5), stride=(1, 1), padding=(2, 2))\n",
      "  (max): MaxPool2d(kernel_size=2, stride=2, padding=0, dilation=1, ceil_mode=False)\n",
      "  (flatten): Flatten(start_dim=1, end_dim=-1)\n",
      "  (out): Linear(in_features=100, out_features=1, bias=True)\n",
      ")\n",
      "-----------------------------------------------\n",
      "Epoch 1\n",
      "-----------------------------------------------\n",
      "current batch loss: 0.706895  [    0/30000]\n",
      "current batch loss: 0.672328  [ 6400/30000]\n",
      "current batch loss: 0.501871  [12800/30000]\n",
      "current batch loss: 0.359631  [19200/30000]\n",
      "current batch loss: 0.393357  [25600/30000]\n",
      "-----------------------------------------------\n",
      "avg trn loss per batch: 0.362982\n",
      "-----------------------------------------------\n",
      "avg val loss per batch: 0.358609\n",
      "-----------------------------------------------\n",
      "|\n",
      "-----------------------------------------------\n",
      "Epoch 2\n",
      "-----------------------------------------------\n",
      "current batch loss: 0.362925  [    0/30000]\n",
      "current batch loss: 0.397791  [ 6400/30000]\n",
      "current batch loss: 0.378831  [12800/30000]\n",
      "current batch loss: 0.245750  [19200/30000]\n",
      "current batch loss: 0.421748  [25600/30000]\n",
      "-----------------------------------------------\n",
      "avg trn loss per batch: 0.352370\n",
      "-----------------------------------------------\n",
      "avg val loss per batch: 0.349008\n",
      "-----------------------------------------------\n",
      "|\n",
      "-----------------------------------------------\n",
      "Epoch 3\n",
      "-----------------------------------------------\n",
      "current batch loss: 0.469087  [    0/30000]\n",
      "current batch loss: 0.324933  [ 6400/30000]\n",
      "current batch loss: 0.339214  [12800/30000]\n",
      "current batch loss: 0.363063  [19200/30000]\n",
      "current batch loss: 0.308145  [25600/30000]\n",
      "-----------------------------------------------\n",
      "avg trn loss per batch: 0.348134\n",
      "-----------------------------------------------\n",
      "avg val loss per batch: 0.342793\n",
      "-----------------------------------------------\n",
      "|\n",
      "-----------------------------------------------\n",
      "Epoch 4\n",
      "-----------------------------------------------\n",
      "current batch loss: 0.451930  [    0/30000]\n",
      "current batch loss: 0.328052  [ 6400/30000]\n",
      "current batch loss: 0.346420  [12800/30000]\n",
      "current batch loss: 0.309784  [19200/30000]\n",
      "current batch loss: 0.339828  [25600/30000]\n",
      "-----------------------------------------------\n",
      "avg trn loss per batch: 0.340934\n",
      "-----------------------------------------------\n",
      "avg val loss per batch: 0.337801\n",
      "-----------------------------------------------\n",
      "|\n",
      "-----------------------------------------------\n",
      "Epoch 5\n",
      "-----------------------------------------------\n",
      "current batch loss: 0.327652  [    0/30000]\n",
      "current batch loss: 0.503975  [ 6400/30000]\n",
      "current batch loss: 0.242951  [12800/30000]\n",
      "current batch loss: 0.304787  [19200/30000]\n",
      "current batch loss: 0.380653  [25600/30000]\n",
      "-----------------------------------------------\n",
      "avg trn loss per batch: 0.336883\n",
      "-----------------------------------------------\n",
      "avg val loss per batch: 0.334544\n",
      "-----------------------------------------------\n",
      "|\n",
      "-----------------------------------------------\n",
      "Epoch 6\n",
      "-----------------------------------------------\n",
      "current batch loss: 0.394800  [    0/30000]\n",
      "current batch loss: 0.440487  [ 6400/30000]\n",
      "current batch loss: 0.363908  [12800/30000]\n",
      "current batch loss: 0.438746  [19200/30000]\n",
      "current batch loss: 0.481115  [25600/30000]\n",
      "-----------------------------------------------\n",
      "avg trn loss per batch: 0.332155\n",
      "-----------------------------------------------\n",
      "avg val loss per batch: 0.328868\n",
      "-----------------------------------------------\n",
      "|\n",
      "-----------------------------------------------\n",
      "Epoch 7\n",
      "-----------------------------------------------\n",
      "current batch loss: 0.340968  [    0/30000]\n",
      "current batch loss: 0.229811  [ 6400/30000]\n",
      "current batch loss: 0.377870  [12800/30000]\n",
      "current batch loss: 0.289258  [19200/30000]\n",
      "current batch loss: 0.276544  [25600/30000]\n",
      "-----------------------------------------------\n",
      "avg trn loss per batch: 0.328603\n",
      "-----------------------------------------------\n",
      "avg val loss per batch: 0.326618\n",
      "-----------------------------------------------\n",
      "|\n",
      "-----------------------------------------------\n",
      "Epoch 8\n",
      "-----------------------------------------------\n",
      "current batch loss: 0.290112  [    0/30000]\n",
      "current batch loss: 0.511618  [ 6400/30000]\n",
      "current batch loss: 0.409744  [12800/30000]\n",
      "current batch loss: 0.290902  [19200/30000]\n",
      "current batch loss: 0.332690  [25600/30000]\n",
      "-----------------------------------------------\n",
      "avg trn loss per batch: 0.325244\n",
      "-----------------------------------------------\n",
      "avg val loss per batch: 0.323378\n",
      "-----------------------------------------------\n",
      "|\n",
      "-----------------------------------------------\n",
      "Epoch 9\n",
      "-----------------------------------------------\n",
      "current batch loss: 0.299144  [    0/30000]\n",
      "current batch loss: 0.390397  [ 6400/30000]\n",
      "current batch loss: 0.438819  [12800/30000]\n",
      "current batch loss: 0.363266  [19200/30000]\n",
      "current batch loss: 0.262702  [25600/30000]\n",
      "-----------------------------------------------\n",
      "avg trn loss per batch: 0.324208\n",
      "-----------------------------------------------\n",
      "avg val loss per batch: 0.323901\n",
      "-----------------------------------------------\n",
      "|\n",
      "-----------------------------------------------\n",
      "Epoch 10\n",
      "-----------------------------------------------\n",
      "current batch loss: 0.321338  [    0/30000]\n",
      "current batch loss: 0.358507  [ 6400/30000]\n",
      "current batch loss: 0.241144  [12800/30000]\n",
      "current batch loss: 0.247762  [19200/30000]\n",
      "current batch loss: 0.259748  [25600/30000]\n",
      "-----------------------------------------------\n",
      "avg trn loss per batch: 0.319975\n",
      "-----------------------------------------------\n",
      "avg val loss per batch: 0.318907\n",
      "-----------------------------------------------\n",
      "|\n",
      "-----------------------------------------------\n",
      "Epoch 11\n",
      "-----------------------------------------------\n",
      "current batch loss: 0.403286  [    0/30000]\n",
      "current batch loss: 0.279816  [ 6400/30000]\n",
      "current batch loss: 0.304310  [12800/30000]\n",
      "current batch loss: 0.213192  [19200/30000]\n",
      "current batch loss: 0.219009  [25600/30000]\n",
      "-----------------------------------------------\n",
      "avg trn loss per batch: 0.322506\n",
      "-----------------------------------------------\n",
      "avg val loss per batch: 0.323608\n",
      "-----------------------------------------------\n",
      "|\n",
      "-----------------------------------------------\n",
      "Epoch 12\n",
      "-----------------------------------------------\n",
      "current batch loss: 0.510555  [    0/30000]\n",
      "current batch loss: 0.293726  [ 6400/30000]\n",
      "current batch loss: 0.370236  [12800/30000]\n",
      "current batch loss: 0.395881  [19200/30000]\n",
      "current batch loss: 0.253040  [25600/30000]\n",
      "-----------------------------------------------\n",
      "avg trn loss per batch: 0.315452\n",
      "-----------------------------------------------\n",
      "avg val loss per batch: 0.313990\n",
      "-----------------------------------------------\n",
      "|\n",
      "-----------------------------------------------\n",
      "Epoch 13\n",
      "-----------------------------------------------\n",
      "current batch loss: 0.314812  [    0/30000]\n",
      "current batch loss: 0.453998  [ 6400/30000]\n",
      "current batch loss: 0.330180  [12800/30000]\n",
      "current batch loss: 0.362472  [19200/30000]\n",
      "current batch loss: 0.444937  [25600/30000]\n",
      "-----------------------------------------------\n",
      "avg trn loss per batch: 0.314066\n",
      "-----------------------------------------------\n",
      "avg val loss per batch: 0.313400\n",
      "-----------------------------------------------\n",
      "|\n",
      "-----------------------------------------------\n",
      "Epoch 14\n",
      "-----------------------------------------------\n",
      "current batch loss: 0.249712  [    0/30000]\n",
      "current batch loss: 0.376499  [ 6400/30000]\n",
      "current batch loss: 0.399941  [12800/30000]\n",
      "current batch loss: 0.456809  [19200/30000]\n",
      "current batch loss: 0.341308  [25600/30000]\n",
      "-----------------------------------------------\n",
      "avg trn loss per batch: 0.313005\n",
      "-----------------------------------------------\n",
      "avg val loss per batch: 0.312662\n",
      "-----------------------------------------------\n",
      "|\n",
      "-----------------------------------------------\n",
      "Epoch 15\n",
      "-----------------------------------------------\n",
      "current batch loss: 0.251750  [    0/30000]\n",
      "current batch loss: 0.322050  [ 6400/30000]\n",
      "current batch loss: 0.361997  [12800/30000]\n",
      "current batch loss: 0.274626  [19200/30000]\n",
      "current batch loss: 0.378471  [25600/30000]\n",
      "-----------------------------------------------\n",
      "avg trn loss per batch: 0.312946\n",
      "-----------------------------------------------\n",
      "avg val loss per batch: 0.313593\n",
      "-----------------------------------------------\n",
      "|\n",
      "-----------------------------------------------\n",
      "Epoch 16\n",
      "-----------------------------------------------\n",
      "current batch loss: 0.284886  [    0/30000]\n",
      "current batch loss: 0.275495  [ 6400/30000]\n",
      "current batch loss: 0.318733  [12800/30000]\n",
      "current batch loss: 0.283875  [19200/30000]\n",
      "current batch loss: 0.319649  [25600/30000]\n",
      "-----------------------------------------------\n",
      "avg trn loss per batch: 0.310576\n",
      "-----------------------------------------------\n",
      "avg val loss per batch: 0.310530\n",
      "-----------------------------------------------\n",
      "|\n",
      "-----------------------------------------------\n",
      "Epoch 17\n",
      "-----------------------------------------------\n",
      "current batch loss: 0.323966  [    0/30000]\n",
      "current batch loss: 0.241744  [ 6400/30000]\n",
      "current batch loss: 0.411574  [12800/30000]\n",
      "current batch loss: 0.396994  [19200/30000]\n",
      "current batch loss: 0.267848  [25600/30000]\n",
      "-----------------------------------------------\n",
      "avg trn loss per batch: 0.309904\n",
      "-----------------------------------------------\n",
      "avg val loss per batch: 0.309247\n",
      "-----------------------------------------------\n",
      "|\n",
      "-----------------------------------------------\n",
      "Epoch 18\n",
      "-----------------------------------------------\n",
      "current batch loss: 0.442428  [    0/30000]\n",
      "current batch loss: 0.404847  [ 6400/30000]\n",
      "current batch loss: 0.278133  [12800/30000]\n",
      "current batch loss: 0.233468  [19200/30000]\n",
      "current batch loss: 0.340813  [25600/30000]\n",
      "-----------------------------------------------\n",
      "avg trn loss per batch: 0.312458\n",
      "-----------------------------------------------\n",
      "avg val loss per batch: 0.313985\n",
      "-----------------------------------------------\n",
      "|\n",
      "-----------------------------------------------\n",
      "Epoch 19\n",
      "-----------------------------------------------\n",
      "current batch loss: 0.434198  [    0/30000]\n",
      "current batch loss: 0.367699  [ 6400/30000]\n",
      "current batch loss: 0.341245  [12800/30000]\n",
      "current batch loss: 0.226900  [19200/30000]\n",
      "current batch loss: 0.273547  [25600/30000]\n",
      "-----------------------------------------------\n",
      "avg trn loss per batch: 0.308176\n",
      "-----------------------------------------------\n",
      "avg val loss per batch: 0.307815\n",
      "-----------------------------------------------\n",
      "|\n",
      "-----------------------------------------------\n",
      "Epoch 20\n",
      "-----------------------------------------------\n",
      "current batch loss: 0.245250  [    0/30000]\n",
      "current batch loss: 0.402950  [ 6400/30000]\n",
      "current batch loss: 0.258749  [12800/30000]\n",
      "current batch loss: 0.238880  [19200/30000]\n",
      "current batch loss: 0.431490  [25600/30000]\n",
      "-----------------------------------------------\n",
      "avg trn loss per batch: 0.310907\n",
      "-----------------------------------------------\n",
      "avg val loss per batch: 0.309058\n",
      "-----------------------------------------------\n",
      "|\n",
      "-----------------------------------------------\n",
      "Epoch 21\n",
      "-----------------------------------------------\n",
      "current batch loss: 0.269204  [    0/30000]\n",
      "current batch loss: 0.407088  [ 6400/30000]\n",
      "current batch loss: 0.296653  [12800/30000]\n",
      "current batch loss: 0.256994  [19200/30000]\n",
      "current batch loss: 0.263893  [25600/30000]\n",
      "-----------------------------------------------\n",
      "avg trn loss per batch: 0.308044\n",
      "-----------------------------------------------\n",
      "avg val loss per batch: 0.309517\n",
      "-----------------------------------------------\n",
      "|\n",
      "-----------------------------------------------\n",
      "Epoch 22\n",
      "-----------------------------------------------\n",
      "current batch loss: 0.278479  [    0/30000]\n",
      "current batch loss: 0.210879  [ 6400/30000]\n",
      "current batch loss: 0.304665  [12800/30000]\n",
      "current batch loss: 0.224907  [19200/30000]\n",
      "current batch loss: 0.421153  [25600/30000]\n",
      "-----------------------------------------------\n",
      "avg trn loss per batch: 0.308522\n",
      "-----------------------------------------------\n",
      "avg val loss per batch: 0.310476\n",
      "-----------------------------------------------\n",
      "|\n",
      "-----------------------------------------------\n",
      "Epoch 23\n",
      "-----------------------------------------------\n",
      "current batch loss: 0.282238  [    0/30000]\n",
      "current batch loss: 0.173770  [ 6400/30000]\n",
      "current batch loss: 0.258030  [12800/30000]\n",
      "current batch loss: 0.307668  [19200/30000]\n",
      "current batch loss: 0.311862  [25600/30000]\n",
      "-----------------------------------------------\n",
      "avg trn loss per batch: 0.306223\n",
      "-----------------------------------------------\n",
      "avg val loss per batch: 0.305789\n",
      "-----------------------------------------------\n",
      "|\n",
      "-----------------------------------------------\n",
      "Epoch 24\n",
      "-----------------------------------------------\n",
      "current batch loss: 0.335674  [    0/30000]\n",
      "current batch loss: 0.212751  [ 6400/30000]\n",
      "current batch loss: 0.212128  [12800/30000]\n",
      "current batch loss: 0.279584  [19200/30000]\n",
      "current batch loss: 0.223598  [25600/30000]\n",
      "-----------------------------------------------\n",
      "avg trn loss per batch: 0.307745\n",
      "-----------------------------------------------\n",
      "avg val loss per batch: 0.306424\n",
      "-----------------------------------------------\n",
      "|\n",
      "-----------------------------------------------\n",
      "Epoch 25\n",
      "-----------------------------------------------\n",
      "current batch loss: 0.271281  [    0/30000]\n",
      "current batch loss: 0.277449  [ 6400/30000]\n",
      "current batch loss: 0.304268  [12800/30000]\n",
      "current batch loss: 0.315653  [19200/30000]\n",
      "current batch loss: 0.334454  [25600/30000]\n",
      "-----------------------------------------------\n",
      "avg trn loss per batch: 0.306346\n",
      "-----------------------------------------------\n",
      "avg val loss per batch: 0.305551\n",
      "-----------------------------------------------\n",
      "|\n",
      "Done!\n"
     ]
    }
   ],
   "source": [
    "# a useful function to present things clearer\n",
    "def separator():\n",
    "    print( \"-----------------------------------------------\" )\n",
    "\n",
    "epochs = 25\n",
    "\n",
    "# re-initialise the model and the optimizer\n",
    "model = ConvNet2D(ch=4).to(device)\n",
    "learning_rate = 0.001\n",
    "optimizer = torch.optim.Adam( model.parameters(), lr=learning_rate )\n",
    "separator()\n",
    "print( \"model architecture \")\n",
    "separator()\n",
    "print( model )\n",
    "\n",
    "# track train and val losses\n",
    "trn_losses = []\n",
    "val_losses = []\n",
    "\n",
    "for t in range(epochs):\n",
    "    separator()\n",
    "    print( f\"Epoch {t+1}\" )\n",
    "    separator()\n",
    "    train_epoch( train_cnn_dataloader, model, loss_fn, optimizer )\n",
    "    separator()\n",
    "    trn_loss = trn_pass( train_cnn_dataloader, model, loss_fn )\n",
    "    trn_losses.append( trn_loss )\n",
    "    separator()\n",
    "    val_loss = val_pass( val_cnn_dataloader, model, loss_fn )\n",
    "    val_losses.append( val_loss )\n",
    "    separator()\n",
    "    print( \"|\" )\n",
    "    \n",
    "print(\"Done!\")"
   ]
  },
  {
   "cell_type": "markdown",
   "metadata": {},
   "source": [
    "## Plot train and validation losses"
   ]
  },
  {
   "cell_type": "markdown",
   "metadata": {},
   "source": [
    "To study the results let's start by looking at the loss functions."
   ]
  },
  {
   "cell_type": "code",
   "execution_count": 35,
   "metadata": {},
   "outputs": [
    {
     "data": {
      "image/png": "[encoded data removed]",
      "text/plain": [
       "<Figure size 700x500 with 1 Axes>"
      ]
     },
     "metadata": {},
     "output_type": "display_data"
    }
   ],
   "source": [
    "fig, axs = plt.subplots( 1, 1, figsize=(7,5) )\n",
    "\n",
    "c1 = 'tab:red'\n",
    "c2 = 'tab:green'\n",
    "\n",
    "axs.plot( trn_losses, label=\"train loss\", color=c1 )\n",
    "axs.plot( val_losses, label=\"val   loss\", color=c2 )\n",
    "\n",
    "axs.set_yscale('log')\n",
    "\n",
    "axs.set_xlabel( \"epoch\", fontproperties=axislabelfont )\n",
    "axs.set_ylabel( \"Binary CE\", fontproperties=axislabelfont )\n",
    "\n",
    "xticks = [ int(x) for x in axs.get_xticks() ]\n",
    "axs.set_xticklabels( xticks, fontproperties=tickfont )\n",
    "\n",
    "yticks = axs.get_yticks()\n",
    "axs.set_yticklabels( yticks, fontproperties=tickfont )\n",
    "\n",
    "axs.legend( loc='best', prop=tickfont )\n",
    "\n",
    "fig.tight_layout()"
   ]
  },
  {
   "cell_type": "code",
   "execution_count": 36,
   "metadata": {},
   "outputs": [
    {
     "name": "stdout",
     "output_type": "stream",
     "text": [
      "avg trn loss per batch: 0.306328\n",
      "avg val loss per batch: 0.312994\n",
      "avg val loss per batch: 0.305620\n",
      "-----------------------------------------------\n",
      "Final evaluation of performance:\n",
      "MSE-loss on train dataset: 0.30632780276254806\n",
      "MSE-loss on validation dataset: 0.3129940018026051\n",
      "MSE-loss on test dataset: 0.3056195008475135\n",
      "-----------------------------------------------\n"
     ]
    }
   ],
   "source": [
    "trn_loss = trn_pass( train_cnn_dataloader, model, loss_fn )\n",
    "val_loss = val_pass( test_cnn_dataloader, model, loss_fn )\n",
    "test_loss = val_pass( val_cnn_dataloader, model, loss_fn )\n",
    "\n",
    "separator()\n",
    "print(\"Final evaluation of performance:\")\n",
    "print(\"MSE-loss on train dataset: {}\".format(trn_loss))\n",
    "print(\"MSE-loss on validation dataset: {}\".format(val_loss))\n",
    "print(\"MSE-loss on test dataset: {}\".format(test_loss))\n",
    "separator()"
   ]
  },
  {
   "cell_type": "markdown",
   "metadata": {},
   "source": [
    "However, these numbers don't show clearly what's the performance of our model.\n",
    "\n",
    "Let's try with the accuracy: $\\frac{\\mathbf{correct}}{\\mathbf{total}}\\cdot100$"
   ]
  },
  {
   "cell_type": "code",
   "execution_count": 37,
   "metadata": {},
   "outputs": [],
   "source": [
    "samp_size = 10000\n",
    "\n",
    "train_pred = model(z_train[:samp_size].to(device)).detach()\n",
    "test_pred = model(z_test[:samp_size].to(device)).detach()\n",
    "val_pred = model(z_val[:samp_size].to(device)).detach()\n",
    "\n",
    "train_pred_lab = torch.round(train_pred[:samp_size])\n",
    "test_pred_lab = torch.round(test_pred[:samp_size])\n",
    "val_pred_lab = torch.round(val_pred[:samp_size])\n",
    "\n",
    "train_correct = (train_pred_lab==y_train[:samp_size].to(device)).sum().item()\n",
    "test_correct = (test_pred_lab==y_test[:samp_size].to(device)).sum().item()\n",
    "val_correct = (val_pred_lab==y_val[:samp_size].to(device)).sum().item()"
   ]
  },
  {
   "cell_type": "code",
   "execution_count": 38,
   "metadata": {},
   "outputs": [
    {
     "name": "stdout",
     "output_type": "stream",
     "text": [
      "-----------------------------------------------\n",
      "Evaluation of accuracy: \n",
      "Accuracy on training dataset: 87.0 %\n",
      "Accuracy on validation dataset: 88.0 %\n",
      "Accuracy on test dataset: 86.9 %\n",
      "-----------------------------------------------\n"
     ]
    }
   ],
   "source": [
    "separator()\n",
    "print('Evaluation of accuracy: ')\n",
    "print('Accuracy on training dataset: {:.1f} %'.format(train_correct*100/len(train_pred)))\n",
    "print('Accuracy on validation dataset: {:.1f} %'.format(val_correct*100/len(val_pred)))\n",
    "print('Accuracy on test dataset: {:.1f} %'.format(test_correct*100/len(test_pred)))\n",
    "separator()"
   ]
  },
  {
   "cell_type": "markdown",
   "metadata": {},
   "source": [
    "Good accuracy for a really simple model!"
   ]
  },
  {
   "cell_type": "markdown",
   "metadata": {},
   "source": [
    "## Study the results - plot the ROC curve"
   ]
  },
  {
   "cell_type": "markdown",
   "metadata": {},
   "source": [
    "One possible way to study our results is to plot a ROC curve. This is created by plotting the True Positive Rate against the False Positive Rate at different thresholds.TPR and FPR are defined by:\n",
    "\n",
    "- TPR = $\\frac{TP}{TP+FN}$;\n",
    "- FPR = $\\frac{FP}{FP+TN}$,\n",
    "\n",
    "namely the probability of correctly identyfing a signal against the probability of falsely rejecting a background event.\n",
    "\n",
    "When dealing with a background/signal test, it's usual to call the TPR signal efficiency and the FPR background rejection.\n",
    "\n",
    "Once we plot the ROC curve, we would like to quantify the performance according to some criteria.\n",
    "Two indices are mainly used:\n",
    "- AUC score, which is the Area Under the Curve;\n",
    "- Inverse mistag at low efficiency (e.g. 0.3)\n",
    "\n",
    "The AUC represents the probability of a random signal sample to have higher score than a background event.\n",
    "The inverse mistag hasn't a probabilistic interpretation, but higher values denote a better sensitivity to signal events."
   ]
  },
  {
   "cell_type": "code",
   "execution_count": 39,
   "metadata": {},
   "outputs": [],
   "source": [
    "from sklearn.metrics import roc_curve, roc_auc_score\n",
    "\n",
    "def closest_point(array, tpr_p=0.3):\n",
    "    dist = ((array-tpr_p)**2)\n",
    "    return np.argmin(dist)"
   ]
  },
  {
   "cell_type": "code",
   "execution_count": 40,
   "metadata": {},
   "outputs": [
    {
     "data": {
      "image/png": "[encoded data removed]",
      "text/plain": [
       "<Figure size 1400x500 with 2 Axes>"
      ]
     },
     "metadata": {},
     "output_type": "display_data"
    }
   ],
   "source": [
    "fig, ax = plt.subplots(1, 2, figsize=(14,5))\n",
    "test_true_lab=y_test[:samp_size]\n",
    "\n",
    "fpr, tpr, th = roc_curve(test_true_lab, test_pred.to('cpu'))#[:,1])\n",
    "auc_score = roc_auc_score(test_true_lab, test_pred.to('cpu'))\n",
    "rnd_class = np.linspace(0, 1, 100)\n",
    "\n",
    "ax[0].plot(fpr, tpr, label='AUC = {:.2f}'.format(auc_score) )\n",
    "ax[0].plot(rnd_class, rnd_class, '--', label='Rnd classifier')\n",
    "ax[1].plot(tpr, 1/fpr, label='AUC = {:.2f}\\n $1/\\epsilon_{{bkg}}$(0.3) = {:.0f}'.format(auc_score, 1/fpr[closest_point(tpr, tpr_p=0.3)]))\n",
    "ax[1].plot(rnd_class, 1/rnd_class, '--', label='Rnd classifier')\n",
    "ax[1].set_yscale('log')\n",
    "\n",
    "ax[0].set_xlabel('$\\epsilon_{bkg}$ - FPR', fontproperties=axislabelfont)\n",
    "ax[0].set_ylabel('$\\epsilon_{s}$ - TPR', fontproperties=axislabelfont)\n",
    "\n",
    "ax[1].set_xlabel('$\\epsilon_{s}$ - TPR', fontproperties=axislabelfont)\n",
    "ax[1].set_ylabel('1/$\\epsilon_{bkg}$ - Inverse FPR', fontproperties=axislabelfont)\n",
    "for i in range(len(ax)):\n",
    "    ax[i].legend(prop=axislabelfont)\n",
    "    ax[i].tick_params(labelsize=axisfontsize)\n",
    "    ax[i].grid('on')"
   ]
  },
  {
   "cell_type": "code",
   "execution_count": 41,
   "metadata": {},
   "outputs": [
    {
     "data": {
      "image/png": "[encoded data removed]",
      "text/plain": [
       "<Figure size 700x500 with 1 Axes>"
      ]
     },
     "metadata": {},
     "output_type": "display_data"
    }
   ],
   "source": [
    "fig, ax = plt.subplots(1,1, figsize=(7,5))\n",
    "ax.hist(test_pred[:,0].cpu())\n",
    "plt.show()"
   ]
  },
  {
   "cell_type": "markdown",
   "metadata": {},
   "source": [
    "## CNNs and translation invariance"
   ]
  },
  {
   "cell_type": "markdown",
   "metadata": {},
   "source": [
    "The convolution operation is <ins>**not**</ins> translation invariant but **equivariant**. what does that mean?\n",
    "Translation equivariant means that a translated input is mapped to the translated output, in formula:\n",
    "\n",
    "$f(x(t)) = y(t)$ &#10230; $f(x(t+s)) = y(t+s)$,\n",
    "\n",
    "while a translation invariant operation implies:\n",
    "\n",
    "$f(x(t)) = y(t)$ &#10230; $f(x(t+s)) = y(t)$.\n",
    "\n",
    "Nevertheless, we can check that the network is still invariant to small translation of the input datasets. Let's shift the test dataset in the vertical and horizontal axis:"
   ]
  },
  {
   "cell_type": "code",
   "execution_count": 42,
   "metadata": {},
   "outputs": [],
   "source": [
    "test_h = torch.roll(z_test, 3, dims=3)\n",
    "test_v = torch.roll(z_test, 3, dims=2)"
   ]
  },
  {
   "cell_type": "markdown",
   "metadata": {},
   "source": [
    "Now check the accuracy of the previously trained model:"
   ]
  },
  {
   "cell_type": "code",
   "execution_count": 43,
   "metadata": {},
   "outputs": [],
   "source": [
    "samp_size = 10000\n",
    "\n",
    "test_pred = model(z_test[:samp_size].to(device)).detach()\n",
    "test_pred_h = model(test_h[:samp_size].to(device)).detach()\n",
    "test_pred_v = model(test_v[:samp_size].to(device)).detach()\n",
    "\n",
    "test_pred_lab = torch.round(test_pred[:samp_size])\n",
    "test_pred_lab_h = torch.round(test_pred_h[:samp_size])\n",
    "test_pred_lab_v = torch.round(test_pred_v[:samp_size])\n",
    "\n",
    "test_cor = (test_pred_lab==y_test[:samp_size].to(device)).sum().item()\n",
    "test_cor_h = (test_pred_lab_h==y_test[:samp_size].to(device)).sum().item()\n",
    "test_cor_v = (test_pred_lab_v==y_test[:samp_size].to(device)).sum().item()"
   ]
  },
  {
   "cell_type": "code",
   "execution_count": 44,
   "metadata": {},
   "outputs": [
    {
     "name": "stdout",
     "output_type": "stream",
     "text": [
      "-----------------------------------------------\n",
      "Accuracy on shifted datasets:\n",
      "No-shifts: 86.9 %\n",
      "Vertical shift: 60.7 %\n",
      "Horizontal shift: 80.2 %\n",
      "-----------------------------------------------\n"
     ]
    }
   ],
   "source": [
    "separator()\n",
    "print('Accuracy on shifted datasets:')\n",
    "print('No-shifts: {:.1f} %'.format(test_cor*100/len(test_pred)))\n",
    "print('Vertical shift: {:.1f} %'.format(test_cor_h*100/len(test_pred_h)))\n",
    "print('Horizontal shift: {:.1f} %'.format(test_cor_v*100/len(test_pred_v)))\n",
    "separator()"
   ]
  },
  {
   "cell_type": "markdown",
   "metadata": {},
   "source": [
    "- #### Why there's some translation invariance? Why will it be broken at some point?\n",
    "\n",
    "max-pooling layer reduces the dependence on the spatial positioning. \n",
    "\n",
    "At large shifts we'll drastically change the physics of the jet (especially for tops), pooling doesn't help anymore, and linear layers are definitely not translation invariant.\n"
   ]
  },
  {
   "cell_type": "markdown",
   "metadata": {},
   "source": [
    "## CNNs vs FCNs"
   ]
  },
  {
   "cell_type": "markdown",
   "metadata": {},
   "source": [
    "How many parameters does a CNN have?\n",
    "\n",
    "*output_channels* * (*input_channels* * *kernel_width* * *kernel_height* + 1)\n",
    "\n",
    "How many parameters does a FCN have?\n",
    "\n",
    "*output_nodes* * (input_nodes + 1)\n",
    "\n",
    "In our case we have 104 parameters from the first convolution, 100 from the second one, and 101 from the linear layer (no learnable weights in max-pooling and flattening), thus:\n",
    "\n",
    "**CNN parameters**: ~300\n",
    "\n",
    "Let's try to build a FCN with similar number of weights. The simplest network has just one layer that maps the pixels into a probability output.\n",
    "So, in the simplest case, we already have a number of parameters equal to the number of pixels.\n",
    "\n",
    "**FCN parameters** (simplest case): ~1600\n",
    "\n",
    "Let's try to train this FCN."
   ]
  },
  {
   "cell_type": "code",
   "execution_count": 45,
   "metadata": {},
   "outputs": [],
   "source": [
    "#cnn parameters:  104, 100, 101 -> 300\n",
    "#smallest fcn has at least 1600 params\n",
    "\n",
    "class FullyConnected(nn.Module):\n",
    "    \n",
    "    def __init__(self, img_pixels=1600, out_dim=1):\n",
    "        super().__init__()\n",
    "        self.linear1 = nn.Linear(img_pixels, out_dim, bias=True)\n",
    "    \n",
    "    def forward(self, x):\n",
    "        self.net = nn.Sequential(\n",
    "            nn.Flatten(),\n",
    "            self.linear1,\n",
    "            nn.Softmax()\n",
    "        )\n",
    "        return self.net(x)"
   ]
  },
  {
   "cell_type": "code",
   "execution_count": 46,
   "metadata": {},
   "outputs": [
    {
     "name": "stdout",
     "output_type": "stream",
     "text": [
      "-----------------------------------------------\n",
      "model architecture \n",
      "-----------------------------------------------\n",
      "FullyConnected(\n",
      "  (linear1): Linear(in_features=1600, out_features=1, bias=True)\n",
      ")\n",
      "-----------------------------------------------\n",
      "Epoch 1\n",
      "-----------------------------------------------\n",
      "current batch loss: 56.250000  [    0/30000]\n",
      "current batch loss: 62.500000  [ 6400/30000]\n",
      "current batch loss: 56.250000  [12800/30000]\n",
      "current batch loss: 51.562500  [19200/30000]\n",
      "current batch loss: 53.125000  [25600/30000]\n",
      "-----------------------------------------------\n",
      "avg trn loss per batch: 49.872290\n",
      "-----------------------------------------------\n",
      "avg val loss per batch: 48.204291\n",
      "-----------------------------------------------\n",
      "|\n",
      "-----------------------------------------------\n",
      "Epoch 2\n",
      "-----------------------------------------------\n",
      "current batch loss: 51.562500  [    0/30000]\n",
      "current batch loss: 51.562500  [ 6400/30000]\n",
      "current batch loss: 46.875000  [12800/30000]\n",
      "current batch loss: 59.375000  [19200/30000]\n",
      "current batch loss: 50.000000  [25600/30000]\n",
      "-----------------------------------------------\n",
      "avg trn loss per batch: 49.870069\n",
      "-----------------------------------------------\n",
      "avg val loss per batch: 48.197628\n",
      "-----------------------------------------------\n",
      "|\n",
      "-----------------------------------------------\n",
      "Epoch 3\n",
      "-----------------------------------------------\n",
      "current batch loss: 53.125000  [    0/30000]\n",
      "current batch loss: 51.562500  [ 6400/30000]\n",
      "current batch loss: 45.312500  [12800/30000]\n",
      "current batch loss: 50.000000  [19200/30000]\n",
      "current batch loss: 42.187500  [25600/30000]\n",
      "-----------------------------------------------\n",
      "avg trn loss per batch: 49.865627\n",
      "-----------------------------------------------\n",
      "avg val loss per batch: 48.194296\n",
      "-----------------------------------------------\n",
      "|\n",
      "-----------------------------------------------\n",
      "Epoch 4\n",
      "-----------------------------------------------\n",
      "current batch loss: 51.562500  [    0/30000]\n",
      "current batch loss: 39.062500  [ 6400/30000]\n",
      "current batch loss: 54.687500  [12800/30000]\n",
      "current batch loss: 43.750000  [19200/30000]\n",
      "current batch loss: 53.125000  [25600/30000]\n",
      "-----------------------------------------------\n",
      "avg trn loss per batch: 49.870069\n",
      "-----------------------------------------------\n",
      "avg val loss per batch: 48.202070\n",
      "-----------------------------------------------\n",
      "|\n",
      "-----------------------------------------------\n",
      "Epoch 5\n",
      "-----------------------------------------------\n",
      "current batch loss: 48.437500  [    0/30000]\n",
      "current batch loss: 46.875000  [ 6400/30000]\n",
      "current batch loss: 57.812500  [12800/30000]\n",
      "current batch loss: 48.437500  [19200/30000]\n",
      "current batch loss: 51.562500  [25600/30000]\n",
      "-----------------------------------------------\n",
      "avg trn loss per batch: 49.871180\n",
      "-----------------------------------------------\n",
      "avg val loss per batch: 48.192075\n",
      "-----------------------------------------------\n",
      "|\n",
      "-----------------------------------------------\n",
      "Epoch 6\n",
      "-----------------------------------------------\n",
      "current batch loss: 48.437500  [    0/30000]\n",
      "current batch loss: 56.250000  [ 6400/30000]\n",
      "current batch loss: 39.062500  [12800/30000]\n",
      "current batch loss: 35.937500  [19200/30000]\n",
      "current batch loss: 56.250000  [25600/30000]\n",
      "-----------------------------------------------\n",
      "avg trn loss per batch: 49.866738\n",
      "-----------------------------------------------\n",
      "avg val loss per batch: 48.200959\n",
      "-----------------------------------------------\n",
      "|\n",
      "-----------------------------------------------\n",
      "Epoch 7\n",
      "-----------------------------------------------\n",
      "current batch loss: 45.312500  [    0/30000]\n",
      "current batch loss: 45.312500  [ 6400/30000]\n",
      "current batch loss: 45.312500  [12800/30000]\n",
      "current batch loss: 56.250000  [19200/30000]\n",
      "current batch loss: 51.562500  [25600/30000]\n",
      "-----------------------------------------------\n",
      "avg trn loss per batch: 49.865627\n",
      "-----------------------------------------------\n",
      "avg val loss per batch: 48.202070\n",
      "-----------------------------------------------\n",
      "|\n",
      "-----------------------------------------------\n",
      "Epoch 8\n",
      "-----------------------------------------------\n",
      "current batch loss: 31.250000  [    0/30000]\n",
      "current batch loss: 45.312500  [ 6400/30000]\n",
      "current batch loss: 50.000000  [12800/30000]\n",
      "current batch loss: 56.250000  [19200/30000]\n",
      "current batch loss: 59.375000  [25600/30000]\n",
      "-----------------------------------------------\n",
      "avg trn loss per batch: 49.866738\n",
      "-----------------------------------------------\n",
      "avg val loss per batch: 48.209844\n",
      "-----------------------------------------------\n",
      "|\n",
      "-----------------------------------------------\n",
      "Epoch 9\n",
      "-----------------------------------------------\n",
      "current batch loss: 50.000000  [    0/30000]\n",
      "current batch loss: 51.562500  [ 6400/30000]\n",
      "current batch loss: 48.437500  [12800/30000]\n",
      "current batch loss: 48.437500  [19200/30000]\n",
      "current batch loss: 46.875000  [25600/30000]\n",
      "-----------------------------------------------\n",
      "avg trn loss per batch: 49.868959\n",
      "-----------------------------------------------\n",
      "avg val loss per batch: 48.188744\n",
      "-----------------------------------------------\n",
      "|\n",
      "-----------------------------------------------\n",
      "Epoch 10\n",
      "-----------------------------------------------\n",
      "current batch loss: 50.000000  [    0/30000]\n",
      "current batch loss: 53.125000  [ 6400/30000]\n",
      "current batch loss: 51.562500  [12800/30000]\n",
      "current batch loss: 48.437500  [19200/30000]\n",
      "current batch loss: 50.000000  [25600/30000]\n",
      "-----------------------------------------------\n",
      "avg trn loss per batch: 49.868959\n",
      "-----------------------------------------------\n",
      "avg val loss per batch: 48.198738\n",
      "-----------------------------------------------\n",
      "|\n",
      "-----------------------------------------------\n",
      "Epoch 11\n",
      "-----------------------------------------------\n",
      "current batch loss: 45.312500  [    0/30000]\n",
      "current batch loss: 50.000000  [ 6400/30000]\n",
      "current batch loss: 54.687500  [12800/30000]\n",
      "current batch loss: 42.187500  [19200/30000]\n",
      "current batch loss: 59.375000  [25600/30000]\n",
      "-----------------------------------------------\n",
      "avg trn loss per batch: 49.864517\n",
      "-----------------------------------------------\n",
      "avg val loss per batch: 48.190965\n",
      "-----------------------------------------------\n",
      "|\n",
      "-----------------------------------------------\n",
      "Epoch 12\n",
      "-----------------------------------------------\n",
      "current batch loss: 53.125000  [    0/30000]\n",
      "current batch loss: 46.875000  [ 6400/30000]\n",
      "current batch loss: 46.875000  [12800/30000]\n",
      "current batch loss: 51.562500  [19200/30000]\n",
      "current batch loss: 62.500000  [25600/30000]\n",
      "-----------------------------------------------\n",
      "avg trn loss per batch: 49.862296\n",
      "-----------------------------------------------\n",
      "avg val loss per batch: 48.209844\n",
      "-----------------------------------------------\n",
      "|\n",
      "-----------------------------------------------\n",
      "Epoch 13\n",
      "-----------------------------------------------\n",
      "current batch loss: 50.000000  [    0/30000]\n",
      "current batch loss: 45.312500  [ 6400/30000]\n",
      "current batch loss: 56.250000  [12800/30000]\n",
      "current batch loss: 56.250000  [19200/30000]\n",
      "current batch loss: 56.250000  [25600/30000]\n",
      "-----------------------------------------------\n",
      "avg trn loss per batch: 49.865627\n",
      "-----------------------------------------------\n",
      "avg val loss per batch: 48.204291\n",
      "-----------------------------------------------\n",
      "|\n",
      "-----------------------------------------------\n",
      "Epoch 14\n",
      "-----------------------------------------------\n",
      "current batch loss: 40.625000  [    0/30000]\n",
      "current batch loss: 56.250000  [ 6400/30000]\n",
      "current batch loss: 45.312500  [12800/30000]\n",
      "current batch loss: 53.125000  [19200/30000]\n",
      "current batch loss: 54.687500  [25600/30000]\n",
      "-----------------------------------------------\n",
      "avg trn loss per batch: 49.865627\n",
      "-----------------------------------------------\n",
      "avg val loss per batch: 48.208733\n",
      "-----------------------------------------------\n",
      "|\n",
      "-----------------------------------------------\n",
      "Epoch 15\n",
      "-----------------------------------------------\n",
      "current batch loss: 48.437500  [    0/30000]\n",
      "current batch loss: 42.187500  [ 6400/30000]\n",
      "current batch loss: 48.437500  [12800/30000]\n",
      "current batch loss: 46.875000  [19200/30000]\n",
      "current batch loss: 46.875000  [25600/30000]\n",
      "-----------------------------------------------\n",
      "avg trn loss per batch: 49.864517\n",
      "-----------------------------------------------\n",
      "avg val loss per batch: 48.197628\n",
      "-----------------------------------------------\n",
      "|\n",
      "-----------------------------------------------\n",
      "Epoch 16\n",
      "-----------------------------------------------\n",
      "current batch loss: 45.312500  [    0/30000]\n",
      "current batch loss: 50.000000  [ 6400/30000]\n",
      "current batch loss: 45.312500  [12800/30000]\n",
      "current batch loss: 35.937500  [19200/30000]\n",
      "current batch loss: 59.375000  [25600/30000]\n",
      "-----------------------------------------------\n",
      "avg trn loss per batch: 49.861185\n",
      "-----------------------------------------------\n",
      "avg val loss per batch: 48.196517\n",
      "-----------------------------------------------\n",
      "|\n",
      "-----------------------------------------------\n",
      "Epoch 17\n",
      "-----------------------------------------------\n",
      "current batch loss: 45.312500  [    0/30000]\n",
      "current batch loss: 42.187500  [ 6400/30000]\n",
      "current batch loss: 42.187500  [12800/30000]\n",
      "current batch loss: 48.437500  [19200/30000]\n",
      "current batch loss: 56.250000  [25600/30000]\n",
      "-----------------------------------------------\n",
      "avg trn loss per batch: 49.863406\n",
      "-----------------------------------------------\n",
      "avg val loss per batch: 48.200959\n",
      "-----------------------------------------------\n",
      "|\n",
      "-----------------------------------------------\n",
      "Epoch 18\n",
      "-----------------------------------------------\n",
      "current batch loss: 48.437500  [    0/30000]\n",
      "current batch loss: 60.937500  [ 6400/30000]\n",
      "current batch loss: 56.250000  [12800/30000]\n",
      "current batch loss: 53.125000  [19200/30000]\n",
      "current batch loss: 29.687500  [25600/30000]\n",
      "-----------------------------------------------\n",
      "avg trn loss per batch: 49.870069\n",
      "-----------------------------------------------\n",
      "avg val loss per batch: 48.198738\n",
      "-----------------------------------------------\n",
      "|\n",
      "-----------------------------------------------\n",
      "Epoch 19\n",
      "-----------------------------------------------\n",
      "current batch loss: 54.687500  [    0/30000]\n",
      "current batch loss: 46.875000  [ 6400/30000]\n",
      "current batch loss: 46.875000  [12800/30000]\n",
      "current batch loss: 57.812500  [19200/30000]\n",
      "current batch loss: 43.750000  [25600/30000]\n",
      "-----------------------------------------------\n",
      "avg trn loss per batch: 49.863406\n",
      "-----------------------------------------------\n",
      "avg val loss per batch: 48.199849\n",
      "-----------------------------------------------\n",
      "|\n",
      "-----------------------------------------------\n",
      "Epoch 20\n",
      "-----------------------------------------------\n",
      "current batch loss: 53.125000  [    0/30000]\n",
      "current batch loss: 50.000000  [ 6400/30000]\n",
      "current batch loss: 51.562500  [12800/30000]\n",
      "current batch loss: 42.187500  [19200/30000]\n",
      "current batch loss: 53.125000  [25600/30000]\n",
      "-----------------------------------------------\n",
      "avg trn loss per batch: 49.863406\n",
      "-----------------------------------------------\n",
      "avg val loss per batch: 48.197628\n",
      "-----------------------------------------------\n",
      "|\n",
      "-----------------------------------------------\n",
      "Epoch 21\n",
      "-----------------------------------------------\n",
      "current batch loss: 46.875000  [    0/30000]\n",
      "current batch loss: 56.250000  [ 6400/30000]\n",
      "current batch loss: 46.875000  [12800/30000]\n",
      "current batch loss: 54.687500  [19200/30000]\n",
      "current batch loss: 60.937500  [25600/30000]\n",
      "-----------------------------------------------\n",
      "avg trn loss per batch: 49.868959\n",
      "-----------------------------------------------\n",
      "avg val loss per batch: 48.204291\n",
      "-----------------------------------------------\n",
      "|\n",
      "-----------------------------------------------\n",
      "Epoch 22\n",
      "-----------------------------------------------\n",
      "current batch loss: 53.125000  [    0/30000]\n",
      "current batch loss: 42.187500  [ 6400/30000]\n",
      "current batch loss: 51.562500  [12800/30000]\n",
      "current batch loss: 45.312500  [19200/30000]\n",
      "current batch loss: 42.187500  [25600/30000]\n",
      "-----------------------------------------------\n",
      "avg trn loss per batch: 49.863406\n",
      "-----------------------------------------------\n",
      "avg val loss per batch: 48.196517\n",
      "-----------------------------------------------\n",
      "|\n",
      "-----------------------------------------------\n",
      "Epoch 23\n",
      "-----------------------------------------------\n",
      "current batch loss: 45.312500  [    0/30000]\n",
      "current batch loss: 51.562500  [ 6400/30000]\n",
      "current batch loss: 57.812500  [12800/30000]\n",
      "current batch loss: 54.687500  [19200/30000]\n",
      "current batch loss: 54.687500  [25600/30000]\n",
      "-----------------------------------------------\n",
      "avg trn loss per batch: 49.867848\n",
      "-----------------------------------------------\n",
      "avg val loss per batch: 48.197628\n",
      "-----------------------------------------------\n",
      "|\n",
      "-----------------------------------------------\n",
      "Epoch 24\n",
      "-----------------------------------------------\n",
      "current batch loss: 51.562500  [    0/30000]\n",
      "current batch loss: 46.875000  [ 6400/30000]\n",
      "current batch loss: 50.000000  [12800/30000]\n",
      "current batch loss: 51.562500  [19200/30000]\n",
      "current batch loss: 50.000000  [25600/30000]\n",
      "-----------------------------------------------\n",
      "avg trn loss per batch: 49.870069\n",
      "-----------------------------------------------\n",
      "avg val loss per batch: 48.199849\n",
      "-----------------------------------------------\n",
      "|\n",
      "-----------------------------------------------\n",
      "Epoch 25\n",
      "-----------------------------------------------\n",
      "current batch loss: 43.750000  [    0/30000]\n",
      "current batch loss: 57.812500  [ 6400/30000]\n",
      "current batch loss: 50.000000  [12800/30000]\n",
      "current batch loss: 50.000000  [19200/30000]\n",
      "current batch loss: 50.000000  [25600/30000]\n",
      "-----------------------------------------------\n",
      "avg trn loss per batch: 49.864517\n",
      "-----------------------------------------------\n",
      "avg val loss per batch: 48.199849\n",
      "-----------------------------------------------\n",
      "|\n",
      "-----------------------------------------------\n",
      "Epoch 26\n",
      "-----------------------------------------------\n",
      "current batch loss: 46.875000  [    0/30000]\n",
      "current batch loss: 50.000000  [ 6400/30000]\n",
      "current batch loss: 46.875000  [12800/30000]\n",
      "current batch loss: 45.312500  [19200/30000]\n",
      "current batch loss: 50.000000  [25600/30000]\n",
      "-----------------------------------------------\n",
      "avg trn loss per batch: 49.863406\n",
      "-----------------------------------------------\n",
      "avg val loss per batch: 48.202070\n",
      "-----------------------------------------------\n",
      "|\n",
      "-----------------------------------------------\n",
      "Epoch 27\n",
      "-----------------------------------------------\n",
      "current batch loss: 56.250000  [    0/30000]\n",
      "current batch loss: 40.625000  [ 6400/30000]\n",
      "current batch loss: 43.750000  [12800/30000]\n",
      "current batch loss: 46.875000  [19200/30000]\n",
      "current batch loss: 51.562500  [25600/30000]\n",
      "-----------------------------------------------\n",
      "avg trn loss per batch: 49.864517\n",
      "-----------------------------------------------\n",
      "avg val loss per batch: 48.200959\n",
      "-----------------------------------------------\n",
      "|\n",
      "-----------------------------------------------\n",
      "Epoch 28\n",
      "-----------------------------------------------\n",
      "current batch loss: 40.625000  [    0/30000]\n",
      "current batch loss: 53.125000  [ 6400/30000]\n",
      "current batch loss: 54.687500  [12800/30000]\n",
      "current batch loss: 48.437500  [19200/30000]\n",
      "current batch loss: 56.250000  [25600/30000]\n",
      "-----------------------------------------------\n",
      "avg trn loss per batch: 49.867848\n",
      "-----------------------------------------------\n",
      "avg val loss per batch: 48.192075\n",
      "-----------------------------------------------\n",
      "|\n",
      "-----------------------------------------------\n",
      "Epoch 29\n",
      "-----------------------------------------------\n",
      "current batch loss: 51.562500  [    0/30000]\n",
      "current batch loss: 46.875000  [ 6400/30000]\n",
      "current batch loss: 46.875000  [12800/30000]\n",
      "current batch loss: 48.437500  [19200/30000]\n",
      "current batch loss: 54.687500  [25600/30000]\n",
      "-----------------------------------------------\n",
      "avg trn loss per batch: 49.867848\n",
      "-----------------------------------------------\n",
      "avg val loss per batch: 48.199849\n",
      "-----------------------------------------------\n",
      "|\n",
      "-----------------------------------------------\n",
      "Epoch 30\n",
      "-----------------------------------------------\n",
      "current batch loss: 53.125000  [    0/30000]\n",
      "current batch loss: 62.500000  [ 6400/30000]\n",
      "current batch loss: 46.875000  [12800/30000]\n",
      "current batch loss: 50.000000  [19200/30000]\n",
      "current batch loss: 54.687500  [25600/30000]\n",
      "-----------------------------------------------\n",
      "avg trn loss per batch: 49.863406\n",
      "-----------------------------------------------\n",
      "avg val loss per batch: 48.194296\n",
      "-----------------------------------------------\n",
      "|\n",
      "-----------------------------------------------\n",
      "Epoch 31\n",
      "-----------------------------------------------\n",
      "current batch loss: 51.562500  [    0/30000]\n",
      "current batch loss: 50.000000  [ 6400/30000]\n",
      "current batch loss: 59.375000  [12800/30000]\n",
      "current batch loss: 42.187500  [19200/30000]\n",
      "current batch loss: 42.187500  [25600/30000]\n",
      "-----------------------------------------------\n",
      "avg trn loss per batch: 49.868959\n",
      "-----------------------------------------------\n",
      "avg val loss per batch: 48.203181\n",
      "-----------------------------------------------\n",
      "|\n",
      "-----------------------------------------------\n",
      "Epoch 32\n",
      "-----------------------------------------------\n",
      "current batch loss: 42.187500  [    0/30000]\n",
      "current batch loss: 56.250000  [ 6400/30000]\n",
      "current batch loss: 53.125000  [12800/30000]\n",
      "current batch loss: 53.125000  [19200/30000]\n",
      "current batch loss: 50.000000  [25600/30000]\n",
      "-----------------------------------------------\n",
      "avg trn loss per batch: 49.863406\n",
      "-----------------------------------------------\n",
      "avg val loss per batch: 48.202070\n",
      "-----------------------------------------------\n",
      "|\n",
      "-----------------------------------------------\n",
      "Epoch 33\n",
      "-----------------------------------------------\n",
      "current batch loss: 42.187500  [    0/30000]\n",
      "current batch loss: 50.000000  [ 6400/30000]\n",
      "current batch loss: 37.500000  [12800/30000]\n",
      "current batch loss: 51.562500  [19200/30000]\n",
      "current batch loss: 43.750000  [25600/30000]\n",
      "-----------------------------------------------\n",
      "avg trn loss per batch: 49.865627\n",
      "-----------------------------------------------\n",
      "avg val loss per batch: 48.212065\n",
      "-----------------------------------------------\n",
      "|\n",
      "-----------------------------------------------\n",
      "Epoch 34\n",
      "-----------------------------------------------\n",
      "current batch loss: 50.000000  [    0/30000]\n",
      "current batch loss: 54.687500  [ 6400/30000]\n",
      "current batch loss: 48.437500  [12800/30000]\n",
      "current batch loss: 51.562500  [19200/30000]\n",
      "current batch loss: 50.000000  [25600/30000]\n",
      "-----------------------------------------------\n",
      "avg trn loss per batch: 49.866738\n",
      "-----------------------------------------------\n",
      "avg val loss per batch: 48.194296\n",
      "-----------------------------------------------\n",
      "|\n",
      "-----------------------------------------------\n",
      "Epoch 35\n",
      "-----------------------------------------------\n",
      "current batch loss: 43.750000  [    0/30000]\n",
      "current batch loss: 46.875000  [ 6400/30000]\n",
      "current batch loss: 51.562500  [12800/30000]\n",
      "current batch loss: 62.500000  [19200/30000]\n",
      "current batch loss: 50.000000  [25600/30000]\n",
      "-----------------------------------------------\n",
      "avg trn loss per batch: 49.861185\n",
      "-----------------------------------------------\n",
      "avg val loss per batch: 48.197628\n",
      "-----------------------------------------------\n",
      "|\n",
      "-----------------------------------------------\n",
      "Epoch 36\n",
      "-----------------------------------------------\n",
      "current batch loss: 37.500000  [    0/30000]\n",
      "current batch loss: 37.500000  [ 6400/30000]\n",
      "current batch loss: 53.125000  [12800/30000]\n",
      "current batch loss: 46.875000  [19200/30000]\n",
      "current batch loss: 48.437500  [25600/30000]\n",
      "-----------------------------------------------\n",
      "avg trn loss per batch: 49.872290\n",
      "-----------------------------------------------\n",
      "avg val loss per batch: 48.197628\n",
      "-----------------------------------------------\n",
      "|\n",
      "-----------------------------------------------\n",
      "Epoch 37\n",
      "-----------------------------------------------\n",
      "current batch loss: 46.875000  [    0/30000]\n",
      "current batch loss: 51.562500  [ 6400/30000]\n",
      "current batch loss: 53.125000  [12800/30000]\n",
      "current batch loss: 53.125000  [19200/30000]\n",
      "current batch loss: 45.312500  [25600/30000]\n",
      "-----------------------------------------------\n",
      "avg trn loss per batch: 49.867848\n",
      "-----------------------------------------------\n",
      "avg val loss per batch: 48.199849\n",
      "-----------------------------------------------\n",
      "|\n",
      "-----------------------------------------------\n",
      "Epoch 38\n",
      "-----------------------------------------------\n",
      "current batch loss: 42.187500  [    0/30000]\n",
      "current batch loss: 53.125000  [ 6400/30000]\n",
      "current batch loss: 46.875000  [12800/30000]\n",
      "current batch loss: 50.000000  [19200/30000]\n",
      "current batch loss: 62.500000  [25600/30000]\n",
      "-----------------------------------------------\n",
      "avg trn loss per batch: 49.866738\n",
      "-----------------------------------------------\n",
      "avg val loss per batch: 48.198738\n",
      "-----------------------------------------------\n",
      "|\n",
      "-----------------------------------------------\n",
      "Epoch 39\n",
      "-----------------------------------------------\n",
      "current batch loss: 39.062500  [    0/30000]\n",
      "current batch loss: 54.687500  [ 6400/30000]\n",
      "current batch loss: 51.562500  [12800/30000]\n",
      "current batch loss: 48.437500  [19200/30000]\n",
      "current batch loss: 46.875000  [25600/30000]\n",
      "-----------------------------------------------\n",
      "avg trn loss per batch: 49.864517\n",
      "-----------------------------------------------\n",
      "avg val loss per batch: 48.197628\n",
      "-----------------------------------------------\n",
      "|\n",
      "-----------------------------------------------\n",
      "Epoch 40\n",
      "-----------------------------------------------\n",
      "current batch loss: 37.500000  [    0/30000]\n",
      "current batch loss: 50.000000  [ 6400/30000]\n",
      "current batch loss: 50.000000  [12800/30000]\n",
      "current batch loss: 50.000000  [19200/30000]\n",
      "current batch loss: 54.687500  [25600/30000]\n",
      "-----------------------------------------------\n",
      "avg trn loss per batch: 49.867848\n",
      "-----------------------------------------------\n",
      "avg val loss per batch: 48.204291\n",
      "-----------------------------------------------\n",
      "|\n",
      "-----------------------------------------------\n",
      "Epoch 41\n",
      "-----------------------------------------------\n",
      "current batch loss: 46.875000  [    0/30000]\n",
      "current batch loss: 51.562500  [ 6400/30000]\n",
      "current batch loss: 50.000000  [12800/30000]\n",
      "current batch loss: 51.562500  [19200/30000]\n",
      "current batch loss: 48.437500  [25600/30000]\n",
      "-----------------------------------------------\n",
      "avg trn loss per batch: 49.864517\n",
      "-----------------------------------------------\n",
      "avg val loss per batch: 48.205402\n",
      "-----------------------------------------------\n",
      "|\n",
      "-----------------------------------------------\n",
      "Epoch 42\n",
      "-----------------------------------------------\n",
      "current batch loss: 45.312500  [    0/30000]\n",
      "current batch loss: 45.312500  [ 6400/30000]\n",
      "current batch loss: 45.312500  [12800/30000]\n",
      "current batch loss: 48.437500  [19200/30000]\n",
      "current batch loss: 48.437500  [25600/30000]\n",
      "-----------------------------------------------\n",
      "avg trn loss per batch: 49.872290\n",
      "-----------------------------------------------\n",
      "avg val loss per batch: 48.204291\n",
      "-----------------------------------------------\n",
      "|\n",
      "-----------------------------------------------\n",
      "Epoch 43\n",
      "-----------------------------------------------\n",
      "current batch loss: 42.187500  [    0/30000]\n",
      "current batch loss: 56.250000  [ 6400/30000]\n",
      "current batch loss: 48.437500  [12800/30000]\n",
      "current batch loss: 42.187500  [19200/30000]\n",
      "current batch loss: 35.937500  [25600/30000]\n",
      "-----------------------------------------------\n",
      "avg trn loss per batch: 49.865627\n",
      "-----------------------------------------------\n",
      "avg val loss per batch: 48.194296\n",
      "-----------------------------------------------\n",
      "|\n",
      "-----------------------------------------------\n",
      "Epoch 44\n",
      "-----------------------------------------------\n",
      "current batch loss: 51.562500  [    0/30000]\n",
      "current batch loss: 48.437500  [ 6400/30000]\n",
      "current batch loss: 56.250000  [12800/30000]\n",
      "current batch loss: 50.000000  [19200/30000]\n",
      "current batch loss: 50.000000  [25600/30000]\n",
      "-----------------------------------------------\n",
      "avg trn loss per batch: 49.858964\n",
      "-----------------------------------------------\n",
      "avg val loss per batch: 48.209844\n",
      "-----------------------------------------------\n",
      "|\n",
      "-----------------------------------------------\n",
      "Epoch 45\n",
      "-----------------------------------------------\n",
      "current batch loss: 50.000000  [    0/30000]\n",
      "current batch loss: 50.000000  [ 6400/30000]\n",
      "current batch loss: 40.625000  [12800/30000]\n",
      "current batch loss: 34.375000  [19200/30000]\n",
      "current batch loss: 46.875000  [25600/30000]\n",
      "-----------------------------------------------\n",
      "avg trn loss per batch: 49.866738\n",
      "-----------------------------------------------\n",
      "avg val loss per batch: 48.200959\n",
      "-----------------------------------------------\n",
      "|\n",
      "-----------------------------------------------\n",
      "Epoch 46\n",
      "-----------------------------------------------\n",
      "current batch loss: 57.812500  [    0/30000]\n",
      "current batch loss: 51.562500  [ 6400/30000]\n",
      "current batch loss: 46.875000  [12800/30000]\n",
      "current batch loss: 39.062500  [19200/30000]\n",
      "current batch loss: 45.312500  [25600/30000]\n",
      "-----------------------------------------------\n",
      "avg trn loss per batch: 49.870069\n",
      "-----------------------------------------------\n",
      "avg val loss per batch: 48.199849\n",
      "-----------------------------------------------\n",
      "|\n",
      "-----------------------------------------------\n",
      "Epoch 47\n",
      "-----------------------------------------------\n",
      "current batch loss: 45.312500  [    0/30000]\n",
      "current batch loss: 46.875000  [ 6400/30000]\n",
      "current batch loss: 39.062500  [12800/30000]\n",
      "current batch loss: 48.437500  [19200/30000]\n",
      "current batch loss: 54.687500  [25600/30000]\n",
      "-----------------------------------------------\n",
      "avg trn loss per batch: 49.860075\n",
      "-----------------------------------------------\n",
      "avg val loss per batch: 48.203181\n",
      "-----------------------------------------------\n",
      "|\n",
      "-----------------------------------------------\n",
      "Epoch 48\n",
      "-----------------------------------------------\n",
      "current batch loss: 54.687500  [    0/30000]\n",
      "current batch loss: 48.437500  [ 6400/30000]\n",
      "current batch loss: 34.375000  [12800/30000]\n",
      "current batch loss: 43.750000  [19200/30000]\n",
      "current batch loss: 59.375000  [25600/30000]\n",
      "-----------------------------------------------\n",
      "avg trn loss per batch: 49.866738\n",
      "-----------------------------------------------\n",
      "avg val loss per batch: 48.195407\n",
      "-----------------------------------------------\n",
      "|\n",
      "-----------------------------------------------\n",
      "Epoch 49\n",
      "-----------------------------------------------\n",
      "current batch loss: 62.500000  [    0/30000]\n",
      "current batch loss: 57.812500  [ 6400/30000]\n",
      "current batch loss: 39.062500  [12800/30000]\n",
      "current batch loss: 57.812500  [19200/30000]\n",
      "current batch loss: 46.875000  [25600/30000]\n",
      "-----------------------------------------------\n",
      "avg trn loss per batch: 49.862296\n",
      "-----------------------------------------------\n",
      "avg val loss per batch: 48.197628\n",
      "-----------------------------------------------\n",
      "|\n",
      "-----------------------------------------------\n",
      "Epoch 50\n",
      "-----------------------------------------------\n",
      "current batch loss: 43.750000  [    0/30000]\n",
      "current batch loss: 42.187500  [ 6400/30000]\n",
      "current batch loss: 59.375000  [12800/30000]\n",
      "current batch loss: 56.250000  [19200/30000]\n",
      "current batch loss: 45.312500  [25600/30000]\n",
      "-----------------------------------------------\n",
      "avg trn loss per batch: 49.865627\n",
      "-----------------------------------------------\n",
      "avg val loss per batch: 48.197628\n",
      "-----------------------------------------------\n",
      "|\n",
      "Done!\n"
     ]
    }
   ],
   "source": [
    "epochs = 50\n",
    "loss_fn = nn.BCELoss()\n",
    "\n",
    "# re-initialise the model and the optimizer\n",
    "model = FullyConnected().to(device)\n",
    "learning_rate = 0.001\n",
    "optimizer = torch.optim.Adam( model.parameters(), lr=learning_rate )\n",
    "separator()\n",
    "print( \"model architecture \")\n",
    "separator()\n",
    "print( model )\n",
    "\n",
    "# track train and val losses\n",
    "trn_losses = []\n",
    "val_losses = []\n",
    "\n",
    "for t in range(epochs):\n",
    "    separator()\n",
    "    print( f\"Epoch {t+1}\" )\n",
    "    separator()\n",
    "    train_epoch( train_cnn_dataloader, model, loss_fn, optimizer )\n",
    "    separator()\n",
    "    trn_loss = trn_pass( train_cnn_dataloader, model, loss_fn )\n",
    "    trn_losses.append( trn_loss )\n",
    "    separator()\n",
    "    val_loss = val_pass( val_cnn_dataloader, model, loss_fn )\n",
    "    val_losses.append( val_loss )\n",
    "    separator()\n",
    "    print( \"|\" )\n",
    "    \n",
    "print(\"Done!\")"
   ]
  },
  {
   "cell_type": "code",
   "execution_count": 47,
   "metadata": {},
   "outputs": [
    {
     "data": {
      "image/png": "[encoded data removed]",
      "text/plain": [
       "<Figure size 700x500 with 1 Axes>"
      ]
     },
     "metadata": {},
     "output_type": "display_data"
    }
   ],
   "source": [
    "fig, axs = plt.subplots( 1, 1, figsize=(7,5) )\n",
    "\n",
    "c1 = 'tab:red'\n",
    "c2 = 'tab:green'\n",
    "\n",
    "axs.plot( trn_losses, label=\"train loss\", color=c1 )\n",
    "axs.plot( val_losses, label=\"val   loss\", color=c2 )\n",
    "\n",
    "axs.set_yscale('log')\n",
    "\n",
    "axs.set_xlabel( \"epoch\", fontproperties=axislabelfont )\n",
    "axs.set_ylabel( \"Binary CE\", fontproperties=axislabelfont )\n",
    "\n",
    "xticks = [ int(x) for x in axs.get_xticks() ]\n",
    "axs.set_xticklabels( xticks, fontproperties=tickfont )\n",
    "\n",
    "yticks = axs.get_yticks()\n",
    "axs.set_yticklabels( yticks, fontproperties=tickfont )\n",
    "\n",
    "axs.legend( loc='best', prop=tickfont )\n",
    "\n",
    "fig.tight_layout()"
   ]
  },
  {
   "cell_type": "code",
   "execution_count": 48,
   "metadata": {},
   "outputs": [
    {
     "name": "stdout",
     "output_type": "stream",
     "text": [
      "avg trn loss per batch: 49.867848\n",
      "avg val loss per batch: 50.275409\n",
      "avg val loss per batch: 48.194296\n",
      "-----------------------------------------------\n",
      "Final evaluation of performance:\n",
      "MSE-loss on train dataset: 49.867848264128924\n",
      "MSE-loss on validation dataset: 50.27540868177597\n",
      "MSE-loss on test dataset: 48.194296375266525\n",
      "-----------------------------------------------\n"
     ]
    }
   ],
   "source": [
    "trn_loss = trn_pass( train_cnn_dataloader, model, loss_fn )\n",
    "val_loss = val_pass( test_cnn_dataloader, model, loss_fn )\n",
    "test_loss = val_pass( val_cnn_dataloader, model, loss_fn )\n",
    "\n",
    "separator()\n",
    "print(\"Final evaluation of performance:\")\n",
    "print(\"MSE-loss on train dataset: {}\".format(trn_loss))\n",
    "print(\"MSE-loss on validation dataset: {}\".format(val_loss))\n",
    "print(\"MSE-loss on test dataset: {}\".format(test_loss))\n",
    "separator()"
   ]
  },
  {
   "cell_type": "code",
   "execution_count": 49,
   "metadata": {},
   "outputs": [],
   "source": [
    "samp_size = 10000\n",
    "\n",
    "train_pred = model(z_train[:samp_size].to(device)).detach()\n",
    "test_pred = model(z_test[:samp_size].to(device)).detach()\n",
    "val_pred = model(z_val[:samp_size].to(device)).detach()\n",
    "\n",
    "train_pred_lab = torch.round(train_pred[:samp_size])\n",
    "test_pred_lab = torch.round(test_pred[:samp_size])\n",
    "val_pred_lab = torch.round(val_pred[:samp_size])\n",
    "\n",
    "train_correct = (train_pred_lab==y_train[:samp_size].to(device)).sum().item()\n",
    "test_correct = (test_pred_lab==y_test[:samp_size].to(device)).sum().item()\n",
    "val_correct = (val_pred_lab==y_val[:samp_size].to(device)).sum().item()"
   ]
  },
  {
   "cell_type": "code",
   "execution_count": 50,
   "metadata": {},
   "outputs": [
    {
     "name": "stdout",
     "output_type": "stream",
     "text": [
      "-----------------------------------------------\n",
      "Evaluation of accuracy: \n",
      "Accuracy on training dataset: 50.8 %\n",
      "Accuracy on validation dataset: 52.4 %\n",
      "Accuracy on test dataset: 49.2 %\n",
      "-----------------------------------------------\n"
     ]
    }
   ],
   "source": [
    "separator()\n",
    "print('Evaluation of accuracy: ')\n",
    "print('Accuracy on training dataset: {:.1f} %'.format(train_correct*100/len(train_pred)))\n",
    "print('Accuracy on validation dataset: {:.1f} %'.format(val_correct*100/len(val_pred)))\n",
    "print('Accuracy on test dataset: {:.1f} %'.format(test_correct*100/len(test_pred)))\n",
    "separator()"
   ]
  },
  {
   "cell_type": "markdown",
   "metadata": {},
   "source": [
    "## Over-training?  Solutions?"
   ]
  },
  {
   "cell_type": "markdown",
   "metadata": {},
   "source": [
    "Did you mean over-fitting? \n",
    "\n",
    "Convolutions reduce over-fitting as we can see in the cnn vs fcn.  why? (weights sharing, invariance, less parameters)"
   ]
  },
  {
   "cell_type": "markdown",
   "metadata": {},
   "source": [
    "## How could we improve the results?"
   ]
  },
  {
   "cell_type": "markdown",
   "metadata": {},
   "source": [
    "with a larger model:\n",
    "- mora channels;\n",
    "- more convolutions;\n",
    "- smaller filters;\n",
    "\n",
    "with larger training dataset (at least 100000 imgs)\n",
    "\n",
    "... else?"
   ]
  },
  {
   "cell_type": "code",
   "execution_count": null,
   "metadata": {},
   "outputs": [],
   "source": []
  }
 ],
 "metadata": {
  "kernelspec": {
   "display_name": "graphGPS",
   "language": "python",
   "name": "graphgps"
  },
  "language_info": {
   "codemirror_mode": {
    "name": "ipython",
    "version": 3
   },
   "file_extension": ".py",
   "mimetype": "text/x-python",
   "name": "python",
   "nbconvert_exporter": "python",
   "pygments_lexer": "ipython3",
   "version": "3.10.11"
  }
 },
 "nbformat": 4,
 "nbformat_minor": 4
}
