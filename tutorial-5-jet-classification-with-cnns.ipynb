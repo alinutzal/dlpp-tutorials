{
 "cells": [
  {
   "cell_type": "markdown",
   "metadata": {},
   "source": [
    "# Jet classification with CNNs"
   ]
  },
  {
   "cell_type": "markdown",
   "metadata": {},
   "source": [
    "For this tutorial you should use a combination of your lecture notes and the pytorch tutorial at:\n",
    "\n",
    "https://pytorch.org/tutorials/beginner/blitz/cifar10_tutorial.html?highlight=convolutional"
   ]
  },
  {
   "cell_type": "markdown",
   "metadata": {},
   "source": [
    "Outline:\n",
    " - Imports and plotting set-up\n",
    " - Preprocessing jet images\n",
    " - Visualising the data\n",
    " - Datasets and dataloaders\n",
    " - Building the CNN\n",
    " - Training the CNN\n",
    " - Plot train and validation losses\n",
    " - Study the results\n",
    " - CNNs and translation invariance\n",
    " - Why are CNNs better than fully connected networks here?\n",
    "     - how many trainable parameters does the CNN have?\n",
    "     - if you like, build a fully connected network with approximately the same number of parameters as your CNN, train it, and compare the performance to the CNN.\n",
    " - How could we improve the results we have here?"
   ]
  },
  {
   "cell_type": "markdown",
   "metadata": {},
   "source": [
    "### Imports"
   ]
  },
  {
   "cell_type": "code",
   "execution_count": 1,
   "metadata": {},
   "outputs": [],
   "source": [
    "import os\n",
    "import sys\n",
    "import random\n",
    "import time\n",
    "import numpy as np\n",
    "import torch\n",
    "from torch.utils.data import Dataset\n",
    "from torch.utils.data import DataLoader\n",
    "from torch import nn"
   ]
  },
  {
   "cell_type": "markdown",
   "metadata": {},
   "source": [
    "#### Plotting set-up"
   ]
  },
  {
   "cell_type": "code",
   "execution_count": 2,
   "metadata": {},
   "outputs": [],
   "source": [
    "from matplotlib import pyplot as plt\n",
    "import matplotlib\n",
    "import warnings\n",
    "warnings.filterwarnings(\"ignore\")\n",
    "from matplotlib.lines import Line2D\n",
    "from matplotlib.font_manager import FontProperties\n",
    "import matplotlib.colors as mcolors\n",
    "import colorsys\n",
    "\n",
    "labelfont = FontProperties()\n",
    "labelfont.set_family('serif')\n",
    "labelfont.set_name('Times New Roman')\n",
    "labelfont.set_size(14)\n",
    "\n",
    "axislabelfont = FontProperties()\n",
    "axislabelfont.set_family('serif')\n",
    "axislabelfont.set_name('Times New Roman')\n",
    "axislabelfont.set_size(22)\n",
    "\n",
    "tickfont = FontProperties()\n",
    "tickfont.set_family('serif')\n",
    "tickfont.set_name('Times New Roman')\n",
    "tickfont.set_size(16)\n",
    "\n",
    "axisfontsize = 16\n",
    "labelfontsize = 16\n",
    "\n",
    "plt.rcParams[\"font.family\"] = \"Times New Roman\"\n",
    "plt.rcParams[\"mathtext.default\"] = \"rm\"\n",
    "plt.rcParams['text.usetex'] = True"
   ]
  },
  {
   "cell_type": "markdown",
   "metadata": {},
   "source": [
    "## Loading the data"
   ]
  },
  {
   "cell_type": "markdown",
   "metadata": {},
   "source": [
    "To load the data we'll use the erum-data framework outline is this paper:\n",
    "\n",
    "https://arxiv.org/pdf/2107.00656.pdf\n",
    "\n",
    "The erum data python package can be installed using the command below:\n",
    "\n",
    "`python3 -m pip install git+https://github.com/erum-data-idt/pd4ml`\n",
    "\n",
    "A notebook showing how to load the top-tagging data using this package can be found here:\n",
    "\n",
    "https://github.com/erum-data-idt/pd4ml/blob/main/examples/1_top_plots.ipynb"
   ]
  },
  {
   "cell_type": "code",
   "execution_count": 3,
   "metadata": {},
   "outputs": [],
   "source": [
    "from pd4ml import TopTagging"
   ]
  },
  {
   "cell_type": "markdown",
   "metadata": {},
   "source": [
    "Erum data includes a desription of the dataset:"
   ]
  },
  {
   "cell_type": "code",
   "execution_count": 4,
   "metadata": {},
   "outputs": [
    {
     "name": "stdout",
     "output_type": "stream",
     "text": [
      "\n",
      "    Top tagging dataset.\n",
      "\n",
      "    Description:\n",
      "    14 TeV, hadronic tops for signal, QCD djets background, Delphes ATLAS detector card with Pythia. No MPI/pile-up included\n",
      "    Particle-flow entries (produced by Delphes E-flow) have been clustered into anti-kT 0.8 jets in the pT range [550,650].\n",
      "    All top jets are matched to a parton-level top within ∆R = 0.8, and to all top decay partons within 0.8. Also,|eta|_jet < 2 has been required.\n",
      "\n",
      "    Ref:\n",
      "    Deep-learned Top Tagging with a Lorentz Layer by A Butter, G Kasieczka, T and M Russell (arXiv: 1707.08966)\n",
      "\n",
      "    Dataset shape:\n",
      "    ~2M events have been stored divided between training (~1.6M) and test (~400k)) and the shape of the dataset is (# of events, 200, 4).\n",
      "    The feature represent the leading 200 jet constituent four-momenta, with zero-padding for jets that have less than 200.\n",
      "    Constituents are sorted by pT, with the highest pT one first.\n",
      "\n",
      "    The second dataset that is included is just a flag \"ttv\" to identify what the event was before the reshaping operated by us. Here a legenda:\n",
      "        0 = training event;\n",
      "        1 = test event;\n",
      "        2 = validation event;\n",
      "\n",
      "    Note that in the current splitting of the dataset, training and validation events have been merged together as a unique training dataset. So for most intents and purposes one should just train the model on the first dataset and omit the second 'ttv' dataset altogether.\n",
      "\n",
      "    The set label are 0 for QCD and 1 for top.\n",
      "    \n"
     ]
    }
   ],
   "source": [
    "TopTagging.print_description()"
   ]
  },
  {
   "cell_type": "markdown",
   "metadata": {},
   "source": [
    "The command below loads the dataset, downloading it if it is not already there.\n",
    "\n",
    "Warning: these files are large ($\\simeq1.5$gb) and downloading them takes some time."
   ]
  },
  {
   "cell_type": "code",
   "execution_count": 5,
   "metadata": {},
   "outputs": [],
   "source": [
    "X_train_f, y_train_f = TopTagging.load('train', path = '/fs/scratch/PLS0144/alina/particle/dlpp-data/tutorial-3-data')\n",
    "X_test_f, y_test_f = TopTagging.load('test', path = '/fs/scratch/PLS0144/alina/particle/dlpp-data/tutorial-3-data')"
   ]
  },
  {
   "cell_type": "code",
   "execution_count": 6,
   "metadata": {},
   "outputs": [],
   "source": [
    "X_train_f = X_train_f[0]\n",
    "X_test_f = X_test_f[0]"
   ]
  },
  {
   "cell_type": "code",
   "execution_count": 7,
   "metadata": {},
   "outputs": [
    {
     "name": "stdout",
     "output_type": "stream",
     "text": [
      "shapes:\n",
      "X_train - (1614000, 200, 4)\n",
      "y_train - (1614000,)\n",
      "X_test  - (404000, 200, 4)\n",
      "y_test  - (404000,)\n"
     ]
    }
   ],
   "source": [
    "print( \"shapes:\" )\n",
    "print( \"X_train - \" + str( np.shape( X_train_f ) ) )\n",
    "print( \"y_train - \" + str( np.shape( y_train_f ) ) )\n",
    "print( \"X_test  - \" + str( np.shape( X_test_f ) ) )\n",
    "print( \"y_test  - \" + str( np.shape( y_test_f ) ) )"
   ]
  },
  {
   "cell_type": "markdown",
   "metadata": {},
   "source": [
    "This is too much for us, let's cut it down."
   ]
  },
  {
   "cell_type": "code",
   "execution_count": 8,
   "metadata": {},
   "outputs": [],
   "source": [
    "nj = 30000\n",
    "X_train = X_train_f[ 0:nj ]\n",
    "y_train = y_train_f[ 0:nj ]\n",
    "X_test = X_test_f[ 0:nj ]\n",
    "y_test = y_test_f[ 0:nj ]\n",
    "X_val = X_train_f[ -nj: ]\n",
    "y_val = y_train_f[ -nj: ]"
   ]
  },
  {
   "cell_type": "code",
   "execution_count": 9,
   "metadata": {},
   "outputs": [
    {
     "name": "stdout",
     "output_type": "stream",
     "text": [
      "shapes:\n",
      "X_train - (30000, 200, 4)\n",
      "y_train - (30000,)\n",
      "X_test  - (30000, 200, 4)\n",
      "y_test  - (30000,)\n",
      "X_val  - (30000, 200, 4)\n",
      "y_val  - (30000,)\n"
     ]
    }
   ],
   "source": [
    "print( \"shapes:\" )\n",
    "print( \"X_train - \" + str( np.shape( X_train ) ) )\n",
    "print( \"y_train - \" + str( np.shape( y_train ) ) )\n",
    "print( \"X_test  - \" + str( np.shape( X_test ) ) )\n",
    "print( \"y_test  - \" + str( np.shape( y_test ) ) )\n",
    "print( \"X_val  - \" + str( np.shape( X_val ) ) )\n",
    "print( \"y_val  - \" + str( np.shape( y_val ) ) )"
   ]
  },
  {
   "cell_type": "markdown",
   "metadata": {},
   "source": [
    "Let's save this out so we have the shorter versions in future."
   ]
  },
  {
   "cell_type": "code",
   "execution_count": 10,
   "metadata": {},
   "outputs": [],
   "source": [
    "np.save( \"/fs/scratch/PLS0144/alina/particle/dlpp-data/tutorial-3-data/TopTagging/x_train_short.npy\", X_train )\n",
    "np.save( \"/fs/scratch/PLS0144/alina/particle/dlpp-data/tutorial-3-data/TopTagging/y_train_short.npy\", y_train )\n",
    "np.save( \"/fs/scratch/PLS0144/alina/particle/dlpp-data/tutorial-3-data/TopTagging/x_test_short.npy\", X_test )\n",
    "np.save( \"/fs/scratch/PLS0144/alina/particle/dlpp-data/tutorial-3-data/TopTagging/y_test_short.npy\", y_test )\n",
    "np.save( \"/fs/scratch/PLS0144/alina/particle/dlpp-data/tutorial-3-data/TopTagging/x_val_short.npy\", X_val )\n",
    "np.save( \"/fs/scratch/PLS0144/alina/particle/dlpp-data/tutorial-3-data/TopTagging/y_val_short.npy\", y_val )"
   ]
  },
  {
   "cell_type": "code",
   "execution_count": 11,
   "metadata": {},
   "outputs": [],
   "source": [
    "X_train = np.load( \"/fs/scratch/PLS0144/alina/particle/dlpp-data/tutorial-3-data/TopTagging/x_train_short.npy\")\n",
    "y_train = np.load( \"/fs/scratch/PLS0144/alina/particle/dlpp-data/tutorial-3-data/TopTagging/y_train_short.npy\")\n",
    "X_test = np.load( \"/fs/scratch/PLS0144/alina/particle/dlpp-data/tutorial-3-data/TopTagging/x_test_short.npy\")\n",
    "y_test = np.load( \"/fs/scratch/PLS0144/alina/particle/dlpp-data/tutorial-3-data/TopTagging/y_test_short.npy\")\n",
    "X_val = np.load( \"/fs/scratch/PLS0144/alina/particle/dlpp-data/tutorial-3-data/TopTagging/x_val_short.npy\")\n",
    "y_val = np.load( \"/fs/scratch/PLS0144/alina/particle/dlpp-data/tutorial-3-data/TopTagging/y_val_short.npy\")"
   ]
  },
  {
   "cell_type": "markdown",
   "metadata": {},
   "source": [
    "## Preprocessing jet images"
   ]
  },
  {
   "cell_type": "markdown",
   "metadata": {},
   "source": [
    "We need to convert the jets to $(p_T,\\eta,\\phi)$ format, preprocessing them with rotations and translations, and convert them to an image format.\n",
    "\n",
    "We will preprocess the data such that:\n",
    "- the jets are centred at $(\\eta,\\phi)=(0.0,0.0)$\n",
    "- the principle axis of each jet points in the same direction\n",
    "- the quadrant of the jets with the most $p_T$ is the same for each jet\n",
    "- the jet $p_T$'s are normalised.\n",
    "\n",
    "We need some functions for that."
   ]
  },
  {
   "cell_type": "code",
   "execution_count": 12,
   "metadata": {},
   "outputs": [],
   "source": [
    "# Some initial settings\n",
    "__n_warning__ = 0.7\n",
    "n_shift_phi, n_shift_eta = 0, 0\n",
    "\n",
    "# Grid settings\n",
    "xpixels = np.arange(-2.6, 2.6, 0.029)\n",
    "ypixels = np.arange(-np.pi, np.pi, 0.035)\n",
    "\n",
    "# Calculate the pseudorapidity of pixel entries\n",
    "def eta (pT, pz):\n",
    "    small = 1e-10\n",
    "    small_pT = (np.abs(pT) < small)\n",
    "    small_pz = (np.abs(pz) < small)\n",
    "    not_small = ~(small_pT | small_pz)\n",
    "    theta = np.arctan(pT[not_small]/pz[not_small])\n",
    "    theta[theta < 0] += np.pi\n",
    "    etas = np.zeros_like(pT)\n",
    "    etas[small_pz] = 0\n",
    "    etas[small_pT] = 1e-10\n",
    "    etas[not_small] = np.log(np.tan(theta/2))\n",
    "    return etas\n",
    "\n",
    "# Calculate the azimuthal angle of pixel entries\n",
    "def phi (px, py):\n",
    "    \"\"\"\n",
    "    phis are returned in rad., np.arctan(0,0)=0 -> zero constituents set to -np.pi\n",
    "    \"\"\"\n",
    "    phis = np.arctan2(py,px)\n",
    "    phis[phis < 0] += 2*np.pi\n",
    "    phis[phis > 2*np.pi] -= 2*np.pi\n",
    "    phis = phis - np.pi \n",
    "    return phis\n",
    "\n",
    "# function to calculate masses\n",
    "def mass (E,px,py,pz):\n",
    "    mass = np.sqrt(np.maximum(0.,E**2-px**2-py**2-pz**2))\n",
    "    return mass\n",
    "\n",
    "# function to return the image momenta for centroid and principal axis\n",
    "def img_mom (x, y, weights, x_power, y_power):\n",
    "    return ((x**x_power)*(y**y_power)*weights).sum()\n",
    "\n",
    "# returns the jet image\n",
    "def orig_image (etas, phis, es):\n",
    "    \"\"\"\n",
    "    Gives the value on grid with minimal distance,\n",
    "    eg. for xpixel = (0,1,2,3,..) eta=1.3 -> xpixel=1, eta=1.6 ->xpixel=2\n",
    "    \"\"\"\n",
    "    z = np.zeros((etas.shape[0],len(xpixels),len(ypixels)))\n",
    "    in_grid = ~((etas < xpixels[0]) | (etas > xpixels[-1]) | (phis < ypixels[0]) | (phis > ypixels[-1]))\n",
    "    xcoords = np.argmin(np.abs(etas[:,None,:] - xpixels[None,:,None]),axis=1)\n",
    "    ycoords = np.argmin(np.abs(phis[:,None,:] - ypixels[None,:,None]),axis=1)\n",
    "    ncoords = np.repeat(np.arange(etas.shape[0])[:,None],etas.shape[1],axis=1)\n",
    "    z[ncoords[in_grid],ycoords[in_grid],xcoords[in_grid]] = es[in_grid]\n",
    "    return z\n",
    "\n",
    "# preprocess the jet\n",
    "def preprocessing( x ,y, weights, rotate=True, flip=True ):\n",
    "    \"\"\"\n",
    "    (x,y) are the coordinates and weights the corresponding values, shifts\n",
    "    centroid to origin, rotates image, so that principal axis is vertical,\n",
    "    flips image, so that most weights lay in (x<0, y>0)-plane.\n",
    "    Method for calculating principal axis (similar to tensor of inertia):\n",
    "    https://en.wikipedia.org/wiki/Image_moment\n",
    "    here: y=phi, phi has modulo 2*np.pi but it's not been taken care of hear,\n",
    "    so possible issues with calculating the centroid\n",
    "    -> pre-shifting of events outside of this function solves the problem\n",
    "    for iamge-data with Delta_phi < 2*np.pi\n",
    "    \"\"\"\n",
    "\n",
    "    # Shift\n",
    "    x_centroid = img_mom(x, y, weights, 1, 0) / weights.sum()\n",
    "    y_centroid = img_mom(x, y, weights, 0, 1)/ weights.sum()\n",
    "    x = x - x_centroid\n",
    "    y = y - y_centroid\n",
    "\n",
    "    # Check if shifting worked, there can be problems with modulo variables like phi (y)\n",
    "    # x and y are sorted after highest weight, 0-comp. gives hottest event\n",
    "    # for Jet-like Images Centroid should be close to hottest constituen (pT-sorted arrays)  \n",
    "    global n_shift_phi\n",
    "    global n_shift_eta\n",
    "    if np.abs(x[0]) > __n_warning__:\n",
    "        n_shift_eta += 1  \n",
    "    if np.abs(y[0]) > __n_warning__:\n",
    "        n_shift_phi += 1       \n",
    "\n",
    "    if rotate:\n",
    "        #Ccovariant matrix, eigenvectors corr. to principal axis\n",
    "        u11 = img_mom(x, y, weights, 1, 1) / weights.sum()\n",
    "        u20 = img_mom(x, y, weights, 2, 0) / weights.sum()\n",
    "        u02 = img_mom(x, y, weights, 0, 2) / weights.sum()\n",
    "        cov = np.array([[u20, u11], [u11, u02]])\n",
    "\n",
    "        # Eigenvalues and eigenvectors of covariant matrix\n",
    "        evals, evecs = np.linalg.eig(cov)\n",
    "\n",
    "        # Sorts the eigenvalues, v1, [::-1] turns array around, \n",
    "        sort_indices = np.argsort(evals)[::-1]\n",
    "        e_1 = evecs[:, sort_indices[0]]  # Eigenvector with largest eigenvalue\n",
    "        e_2 = evecs[:, sort_indices[1]]\n",
    "\n",
    "        # Theta to x_asix, arctan2 gives correct angle\n",
    "        theta = np.arctan2(e_1[0], e_1[1])\n",
    "  \n",
    "        # Rotation, so that princple axis is vertical\n",
    "        # anti-clockwise rotation matrix\n",
    "        rotation = np.matrix([[np.cos(theta), -np.sin(theta)], [np.sin(theta), np.cos(theta)]])\n",
    "        transformed_mat = rotation * np.stack([x,y])\n",
    "        x_rot, y_rot = transformed_mat.A\n",
    "    else: \n",
    "        x_rot, y_rot = x, y\n",
    "  \n",
    "    # Flipping\n",
    "    n_flips = 0\n",
    "    if flip:\n",
    "        if weights[x_rot<0.].sum() < weights[x_rot>0.].sum():\n",
    "            x_rot = -x_rot\n",
    "            n_flips  += 1\n",
    "        if weights[y_rot<0.].sum() > weights[y_rot>0.].sum():\n",
    "            y_rot = -y_rot\n",
    "            n_flips += 1\n",
    "            \n",
    "    return x_rot, y_rot\n",
    "\n",
    "\n",
    "# function to convert the jet to an image\n",
    "def constit_to_img( jets, n_constit, norm, rotate, flip ):\n",
    "    \n",
    "    print( \"Crop constituents\" )\n",
    "    jets = jets[:,0:n_constit,:]\n",
    "    \n",
    "    print( \"Calculating pT\" )\n",
    "    E     = jets[:,:,0]\n",
    "    pxs   = jets[:,:,1]\n",
    "    pys   = jets[:,:,2]\n",
    "    pzs   = jets[:,:,3]\n",
    "    pT    = np.sqrt(pxs**2+pys**2)\n",
    "    \n",
    "    print( \"Calculating eta\" )\n",
    "    etas  = eta(pT,pzs)\n",
    "    \n",
    "    print( \"Calculating phi\" )\n",
    "    phis  = phi(pxs,pys)\n",
    "    \n",
    "    print( \"Calculating the mass\" )\n",
    "    E_tot = E.sum(axis=1)\n",
    "    px_tot = pxs.sum(axis=1)\n",
    "    py_tot = pys.sum(axis=1)\n",
    "    pz_tot = pzs.sum(axis=1)\n",
    "    j_mass = mass(E_tot, px_tot, py_tot, pz_tot)\n",
    "    \n",
    "    print( \"Pre-shifting the phis\" )\n",
    "    phis = (phis.T - phis[:,0]).T\n",
    "    phis[phis < -np.pi] += 2*np.pi\n",
    "    phis[phis > np.pi] -= 2*np.pi\n",
    "    \n",
    "    print( \"Using pT as weight\" )\n",
    "    weights = pT\n",
    "    \n",
    "    print( \"Preprocessing\" )\n",
    "    \n",
    "    for i in range( np.shape(etas)[0] ):\n",
    "        etas[i,:], phis[i,:] = preprocessing( etas[i,:], phis[i,:], weights[i,:], rotate, flip )\n",
    "    \n",
    "    print( \"Creating images\" )\n",
    "    z_ori = orig_image(etas, phis, weights)\n",
    "    \n",
    "    #return z_ori\n",
    "        \n",
    "    print( \"Cropping and normalising\" )\n",
    "    n_crop = 40\n",
    "    z_new = np.zeros( (z_ori.shape[0],n_crop, n_crop) )\n",
    "    for i in range(z_ori.shape[0]):\n",
    "        Npix = z_ori[i,:,:].shape\n",
    "        z_new[i,:,:] = z_ori[i, int(Npix[0]/2-n_crop/2) : int(Npix[0]/2+n_crop/2), int(Npix[1]/2-n_crop/2) : int(Npix[1]/2+n_crop/2) ]\n",
    "        if norm:\n",
    "            z_sum = z_new[i,:,:].sum()\n",
    "            if z_sum != 0.:\n",
    "                z_new[i,:,:] = z_new[i,:,:]/z_sum\n",
    "    \n",
    "    print( \"Reshaping\" )\n",
    "    z_out = z_new.reshape( (z_new.shape[0],-1) )\n",
    "    \n",
    "    return z_out"
   ]
  },
  {
   "cell_type": "markdown",
   "metadata": {},
   "source": [
    "Now let's run the preprocessing:"
   ]
  },
  {
   "cell_type": "code",
   "execution_count": 13,
   "metadata": {},
   "outputs": [
    {
     "name": "stdout",
     "output_type": "stream",
     "text": [
      "Crop constituents\n",
      "Calculating pT\n",
      "Calculating eta\n",
      "Calculating phi\n",
      "Calculating the mass\n",
      "Pre-shifting the phis\n",
      "Using pT as weight\n",
      "Preprocessing\n",
      "Creating images\n",
      "Cropping and normalising\n",
      "Reshaping\n"
     ]
    }
   ],
   "source": [
    "z_train = constit_to_img( X_train, 50, True, True, True )"
   ]
  },
  {
   "cell_type": "code",
   "execution_count": 14,
   "metadata": {},
   "outputs": [
    {
     "data": {
      "text/plain": [
       "(30000, 1600)"
      ]
     },
     "execution_count": 14,
     "metadata": {},
     "output_type": "execute_result"
    }
   ],
   "source": [
    "np.shape( z_train )"
   ]
  },
  {
   "cell_type": "code",
   "execution_count": 15,
   "metadata": {},
   "outputs": [
    {
     "data": {
      "text/plain": [
       "1.0"
      ]
     },
     "execution_count": 15,
     "metadata": {},
     "output_type": "execute_result"
    }
   ],
   "source": [
    "z_train[0].sum()"
   ]
  },
  {
   "cell_type": "code",
   "execution_count": 16,
   "metadata": {},
   "outputs": [
    {
     "data": {
      "text/plain": [
       "29999.999999999964"
      ]
     },
     "execution_count": 16,
     "metadata": {},
     "output_type": "execute_result"
    }
   ],
   "source": [
    "z_train.sum()"
   ]
  },
  {
   "cell_type": "code",
   "execution_count": 17,
   "metadata": {},
   "outputs": [
    {
     "name": "stdout",
     "output_type": "stream",
     "text": [
      "Crop constituents\n",
      "Calculating pT\n",
      "Calculating eta\n",
      "Calculating phi\n",
      "Calculating the mass\n",
      "Pre-shifting the phis\n",
      "Using pT as weight\n",
      "Preprocessing\n",
      "Creating images\n",
      "Cropping and normalising\n",
      "Reshaping\n"
     ]
    }
   ],
   "source": [
    "z_test = constit_to_img( X_test, 50, True, True, True )"
   ]
  },
  {
   "cell_type": "code",
   "execution_count": 18,
   "metadata": {},
   "outputs": [
    {
     "data": {
      "text/plain": [
       "(30000, 1600)"
      ]
     },
     "execution_count": 18,
     "metadata": {},
     "output_type": "execute_result"
    }
   ],
   "source": [
    "np.shape( z_test )"
   ]
  },
  {
   "cell_type": "code",
   "execution_count": 19,
   "metadata": {},
   "outputs": [
    {
     "data": {
      "text/plain": [
       "1.0"
      ]
     },
     "execution_count": 19,
     "metadata": {},
     "output_type": "execute_result"
    }
   ],
   "source": [
    "z_test[0].sum()"
   ]
  },
  {
   "cell_type": "code",
   "execution_count": 20,
   "metadata": {},
   "outputs": [
    {
     "data": {
      "text/plain": [
       "30000.000000000065"
      ]
     },
     "execution_count": 20,
     "metadata": {},
     "output_type": "execute_result"
    }
   ],
   "source": [
    "z_test.sum()"
   ]
  },
  {
   "cell_type": "code",
   "execution_count": 21,
   "metadata": {},
   "outputs": [
    {
     "name": "stdout",
     "output_type": "stream",
     "text": [
      "Crop constituents\n",
      "Calculating pT\n",
      "Calculating eta\n",
      "Calculating phi\n",
      "Calculating the mass\n",
      "Pre-shifting the phis\n",
      "Using pT as weight\n",
      "Preprocessing\n",
      "Creating images\n",
      "Cropping and normalising\n",
      "Reshaping\n"
     ]
    }
   ],
   "source": [
    "z_val = constit_to_img( X_val, 50, True, True, True )"
   ]
  },
  {
   "cell_type": "markdown",
   "metadata": {},
   "source": [
    "## Visualising the data"
   ]
  },
  {
   "cell_type": "markdown",
   "metadata": {},
   "source": [
    "Now let's plot these jet images."
   ]
  },
  {
   "cell_type": "code",
   "execution_count": 22,
   "metadata": {},
   "outputs": [],
   "source": [
    "sig = z_train[ np.where(y_train==1) ]\n",
    "bkg = z_train[ np.where(y_train==0) ]"
   ]
  },
  {
   "cell_type": "code",
   "execution_count": 23,
   "metadata": {},
   "outputs": [
    {
     "data": {
      "text/plain": [
       "<matplotlib.image.AxesImage at 0x2b51ba4bf220>"
      ]
     },
     "execution_count": 23,
     "metadata": {},
     "output_type": "execute_result"
    },
    {
     "data": {
      "image/png": "[encoded data removed]",
      "text/plain": [
       "<Figure size 640x480 with 1 Axes>"
      ]
     },
     "metadata": {},
     "output_type": "display_data"
    }
   ],
   "source": [
    "plt.imshow( sig[0].reshape( (40,40) ), cmap=\"gist_heat_r\" )"
   ]
  },
  {
   "cell_type": "code",
   "execution_count": 24,
   "metadata": {},
   "outputs": [
    {
     "data": {
      "image/png": "[encoded data removed]",
      "text/plain": [
       "<Figure size 900x500 with 2 Axes>"
      ]
     },
     "metadata": {},
     "output_type": "display_data"
    }
   ],
   "source": [
    "fig, axs = plt.subplots( 1, 2, figsize=(9,5) )\n",
    "\n",
    "axs[0].imshow( sig[0].reshape( (40,40) ), cmap=\"gist_heat_r\" )\n",
    "axs[0].set_xlabel( \"$\\eta$\", fontproperties=axislabelfont )\n",
    "axs[0].set_ylabel( \"$\\phi$\", fontproperties=axislabelfont )\n",
    "ticks0 = [ int(x) for x in axs[0].get_yticks() ]\n",
    "axs[0].set_yticklabels( ticks0, fontproperties=tickfont )\n",
    "axs[0].set_xticklabels( ticks0, fontproperties=tickfont )\n",
    "\n",
    "axs[1].imshow( bkg[0].reshape( (40,40) ), cmap=\"gist_heat_r\" )\n",
    "axs[1].set_xlabel( \"$\\eta$\", fontproperties=axislabelfont )\n",
    "axs[1].set_ylabel( \"$\\phi$\", fontproperties=axislabelfont )\n",
    "ticks1 = [ int(x) for x in axs[1].get_yticks() ]\n",
    "axs[1].set_yticklabels( ticks1, fontproperties=tickfont )\n",
    "axs[1].set_xticklabels( ticks1, fontproperties=tickfont )\n",
    "\n",
    "fig.tight_layout()\n",
    "\n",
    "fig.show()"
   ]
  },
  {
   "cell_type": "code",
   "execution_count": 25,
   "metadata": {},
   "outputs": [
    {
     "data": {
      "image/png": "[encoded data removed]",
      "text/plain": [
       "<Figure size 900x500 with 2 Axes>"
      ]
     },
     "metadata": {},
     "output_type": "display_data"
    }
   ],
   "source": [
    "fig, axs = plt.subplots( 1, 2, figsize=(9,5) )\n",
    "\n",
    "axs[0].imshow( sig.mean(0).reshape( (40,40) ), cmap=\"gist_heat_r\" )\n",
    "axs[0].set_xlabel( \"$\\eta$\", fontproperties=axislabelfont )\n",
    "axs[0].set_ylabel( \"$\\phi$\", fontproperties=axislabelfont )\n",
    "ticks0 = [ int(x) for x in axs[0].get_yticks() ]\n",
    "axs[0].set_yticklabels( ticks0, fontproperties=tickfont )\n",
    "axs[0].set_xticklabels( ticks0, fontproperties=tickfont )\n",
    "\n",
    "axs[1].imshow( bkg.mean(0).reshape( (40,40) ), cmap=\"gist_heat_r\" )\n",
    "axs[1].set_xlabel( \"$\\eta$\", fontproperties=axislabelfont )\n",
    "axs[1].set_ylabel( \"$\\phi$\", fontproperties=axislabelfont )\n",
    "ticks1 = [ int(x) for x in axs[1].get_yticks() ]\n",
    "axs[1].set_yticklabels( ticks1, fontproperties=tickfont )\n",
    "axs[1].set_xticklabels( ticks1, fontproperties=tickfont )\n",
    "\n",
    "fig.tight_layout()\n",
    "\n",
    "fig.show()"
   ]
  },
  {
   "cell_type": "markdown",
   "metadata": {},
   "source": [
    "## Datasets and dataloaders"
   ]
  },
  {
   "cell_type": "markdown",
   "metadata": {},
   "source": [
    "Let's define a minimal dataset similar to the last we have seen."
   ]
  },
  {
   "cell_type": "code",
   "execution_count": 26,
   "metadata": {},
   "outputs": [],
   "source": [
    "class cnn_data( Dataset ):\n",
    "    \n",
    "    def __init__( self, imgs, labels ):\n",
    "        self.imgs = imgs\n",
    "        self.labels = labels\n",
    "\n",
    "    def __len__(self):\n",
    "        return len(self.labels)\n",
    "\n",
    "    def __getitem__(self, idx):\n",
    "        return self.imgs[idx], self.labels[idx]"
   ]
  },
  {
   "cell_type": "markdown",
   "metadata": {},
   "source": [
    "Define images and labels as pytorch Tensors, we'll need to call them later."
   ]
  },
  {
   "cell_type": "code",
   "execution_count": 27,
   "metadata": {},
   "outputs": [],
   "source": [
    "z_train = torch.Tensor(z_train.reshape(-1, 1, 40,40).astype('float32'))\n",
    "z_test = torch.Tensor(z_test.reshape(-1, 1, 40,40).astype('float32'))\n",
    "z_val = torch.Tensor(z_val.reshape(-1, 1, 40,40).astype('float32'))"
   ]
  },
  {
   "cell_type": "code",
   "execution_count": 28,
   "metadata": {},
   "outputs": [],
   "source": [
    "y_train = torch.Tensor(y_train).unsqueeze(-1)\n",
    "y_test = torch.Tensor(y_test).unsqueeze(-1)\n",
    "y_val = torch.Tensor(y_val).unsqueeze(-1)"
   ]
  },
  {
   "cell_type": "markdown",
   "metadata": {},
   "source": [
    "Finally, create the datasets and the dataloaders:"
   ]
  },
  {
   "cell_type": "code",
   "execution_count": 29,
   "metadata": {},
   "outputs": [],
   "source": [
    "train_cnn_dataset = cnn_data(z_train, y_train.float())\n",
    "test_cnn_dataset = cnn_data(z_test, y_test.float())\n",
    "val_cnn_dataset = cnn_data(z_val, y_val.float())"
   ]
  },
  {
   "cell_type": "code",
   "execution_count": 30,
   "metadata": {},
   "outputs": [],
   "source": [
    "train_cnn_dataloader = DataLoader( train_cnn_dataset, batch_size=64, shuffle=True )\n",
    "test_cnn_dataloader = DataLoader( test_cnn_dataset, batch_size=64, shuffle=True )\n",
    "val_cnn_dataloader = DataLoader( val_cnn_dataset, batch_size=64, shuffle=True)"
   ]
  },
  {
   "cell_type": "markdown",
   "metadata": {},
   "source": [
    "## Building the CNN"
   ]
  },
  {
   "cell_type": "markdown",
   "metadata": {},
   "source": [
    "Let's build a simple CNN. We'll use two convolutions with a small number of channels. Two max-pooling layers are introduced to reduce the dimensionality of the images and the parameters of the linear layer."
   ]
  },
  {
   "cell_type": "code",
   "execution_count": 31,
   "metadata": {},
   "outputs": [],
   "source": [
    "class ConvNet2D(nn.Module):\n",
    "    \n",
    "    def __init__(self, in_ch=1, ch=4, out_dim=1, img_sz=40):\n",
    "        super().__init__()\n",
    "        self.conv1 = nn.Conv2d(in_ch, ch, kernel_size=5, bias=True, stride=1, padding=2)\n",
    "        self.conv2 = nn.Conv2d(ch, 1, kernel_size=5, bias=True, stride=1, padding=2)\n",
    "        self.max = nn.MaxPool2d(kernel_size=2)\n",
    "        self.flatten = nn.Flatten()\n",
    "        self.out = nn.Linear(int(img_sz*img_sz/16), out_dim, bias=True)\n",
    "        \n",
    "    def forward(self, x):\n",
    "        self.net = nn.Sequential(\n",
    "            self.conv1,\n",
    "            nn.ReLU(),\n",
    "            self.max,\n",
    "            nn.ReLU(),\n",
    "            self.conv2,\n",
    "            self.max,\n",
    "            self.flatten,\n",
    "            self.out,\n",
    "            nn.Sigmoid()\n",
    "        )\n",
    "        return self.net(x)\n",
    "    "
   ]
  },
  {
   "cell_type": "markdown",
   "metadata": {},
   "source": [
    "Check available device, use GPU if possible:"
   ]
  },
  {
   "cell_type": "code",
   "execution_count": 32,
   "metadata": {},
   "outputs": [
    {
     "name": "stdout",
     "output_type": "stream",
     "text": [
      "Using cuda device\n"
     ]
    }
   ],
   "source": [
    "device = \"cuda\" if torch.cuda.is_available() else \"cpu\"\n",
    "print(f\"Using {device} device\")"
   ]
  },
  {
   "cell_type": "markdown",
   "metadata": {},
   "source": [
    "## Training the CNN"
   ]
  },
  {
   "cell_type": "markdown",
   "metadata": {},
   "source": [
    "Since our problem is two-class classification problem, we can use the Binary Cross-Entropy as a loss function:\n",
    "\n",
    "- BCE = $y_i \\log p(y_i) + (1-y_i) \\log (1-p(y_i)) $\n",
    "\n",
    "where $y_i$ is the true label, and $p(y_i)$ is the predicted probability of the event being a top jet.\n",
    "\n",
    "In the loss function we add the log-probability for the correct class. Therefore, increasing the fidelity of a pediction lowers the loss function as desired for an optimization problem."
   ]
  },
  {
   "cell_type": "code",
   "execution_count": 33,
   "metadata": {},
   "outputs": [],
   "source": [
    "loss_fn = nn.BCELoss()"
   ]
  },
  {
   "cell_type": "code",
   "execution_count": 34,
   "metadata": {},
   "outputs": [],
   "source": [
    "def train_epoch( dataloader, model, loss_fn, optimizer ):\n",
    "    \n",
    "    size = len( dataloader.dataset )\n",
    "\n",
    "    for batch, (X, y) in enumerate(dataloader):\n",
    "\n",
    "        # pass data through network\n",
    "        pred = model(X.to(device))\n",
    "        \n",
    "        # compute loss\n",
    "        loss = loss_fn( pred, y.to(device) )\n",
    "\n",
    "        # reset gradients in optimizer\n",
    "        optimizer.zero_grad()\n",
    "        \n",
    "        # compute gradients\n",
    "        loss.backward()\n",
    "        \n",
    "        # update weights with optimizer\n",
    "        optimizer.step()\n",
    "        \n",
    "        # print the training loss every 100 updates\n",
    "        if batch % 100 == 0:\n",
    "            loss, current = loss.item(), batch * len(X)\n",
    "            print( f\"current batch loss: {loss:>7f}  [{current:>5d}/{size:>5d}]\" )"
   ]
  },
  {
   "cell_type": "code",
   "execution_count": 35,
   "metadata": {},
   "outputs": [],
   "source": [
    "def val_pass( dataloader, model, loss_fn ):\n",
    "    \n",
    "    size = len( dataloader.dataset )\n",
    "    num_batches = len( dataloader )\n",
    "    vl = 0.0\n",
    "\n",
    "    # we don't need gradients here since we only use the forward pass\n",
    "    with torch.no_grad():\n",
    "        for X, y in dataloader:\n",
    "            pred = model( X.to(device) )\n",
    "            vl += loss_fn( pred, y.to(device) ).item()\n",
    "\n",
    "    vl /= num_batches\n",
    "    print( f\"avg val loss per batch: {vl:>8f}\" )\n",
    "    \n",
    "    return vl\n",
    "\n",
    "def trn_pass( dataloader, model, loss_fn ):\n",
    "    \n",
    "    size = len( dataloader.dataset )\n",
    "    num_batches = len( dataloader )\n",
    "    tl = 0.0\n",
    "\n",
    "    # we don't need gradients here since we only use the forward pass\n",
    "    with torch.no_grad():\n",
    "        for X, y in dataloader:\n",
    "            pred = model( X.to(device) )\n",
    "            tl += loss_fn( pred, y.to(device) ).item()\n",
    "\n",
    "    tl /= num_batches\n",
    "    print( f\"avg trn loss per batch: {tl:>8f}\" )\n",
    "    \n",
    "    return tl"
   ]
  },
  {
   "cell_type": "code",
   "execution_count": 36,
   "metadata": {
    "scrolled": true
   },
   "outputs": [
    {
     "name": "stdout",
     "output_type": "stream",
     "text": [
      "-----------------------------------------------\n",
      "model architecture \n",
      "-----------------------------------------------\n",
      "ConvNet2D(\n",
      "  (conv1): Conv2d(1, 4, kernel_size=(5, 5), stride=(1, 1), padding=(2, 2))\n",
      "  (conv2): Conv2d(4, 1, kernel_size=(5, 5), stride=(1, 1), padding=(2, 2))\n",
      "  (max): MaxPool2d(kernel_size=2, stride=2, padding=0, dilation=1, ceil_mode=False)\n",
      "  (flatten): Flatten(start_dim=1, end_dim=-1)\n",
      "  (out): Linear(in_features=100, out_features=1, bias=True)\n",
      ")\n",
      "-----------------------------------------------\n",
      "Epoch 1\n",
      "-----------------------------------------------\n",
      "current batch loss: 0.694828  [    0/30000]\n",
      "current batch loss: 0.684255  [ 6400/30000]\n",
      "current batch loss: 0.538692  [12800/30000]\n",
      "current batch loss: 0.379220  [19200/30000]\n",
      "current batch loss: 0.485459  [25600/30000]\n",
      "-----------------------------------------------\n",
      "avg trn loss per batch: 0.383359\n",
      "-----------------------------------------------\n",
      "avg val loss per batch: 0.376761\n",
      "-----------------------------------------------\n",
      "|\n",
      "-----------------------------------------------\n",
      "Epoch 2\n",
      "-----------------------------------------------\n",
      "current batch loss: 0.331400  [    0/30000]\n",
      "current batch loss: 0.358466  [ 6400/30000]\n",
      "current batch loss: 0.403929  [12800/30000]\n",
      "current batch loss: 0.446507  [19200/30000]\n",
      "current batch loss: 0.343624  [25600/30000]\n",
      "-----------------------------------------------\n",
      "avg trn loss per batch: 0.369418\n",
      "-----------------------------------------------\n",
      "avg val loss per batch: 0.361654\n",
      "-----------------------------------------------\n",
      "|\n",
      "-----------------------------------------------\n",
      "Epoch 3\n",
      "-----------------------------------------------\n",
      "current batch loss: 0.461590  [    0/30000]\n",
      "current batch loss: 0.364995  [ 6400/30000]\n",
      "current batch loss: 0.311956  [12800/30000]\n",
      "current batch loss: 0.410940  [19200/30000]\n",
      "current batch loss: 0.312911  [25600/30000]\n",
      "-----------------------------------------------\n",
      "avg trn loss per batch: 0.361096\n",
      "-----------------------------------------------\n",
      "avg val loss per batch: 0.355172\n",
      "-----------------------------------------------\n",
      "|\n",
      "-----------------------------------------------\n",
      "Epoch 4\n",
      "-----------------------------------------------\n",
      "current batch loss: 0.361857  [    0/30000]\n",
      "current batch loss: 0.268300  [ 6400/30000]\n",
      "current batch loss: 0.321228  [12800/30000]\n",
      "current batch loss: 0.323661  [19200/30000]\n",
      "current batch loss: 0.369367  [25600/30000]\n",
      "-----------------------------------------------\n",
      "avg trn loss per batch: 0.358179\n",
      "-----------------------------------------------\n",
      "avg val loss per batch: 0.354645\n",
      "-----------------------------------------------\n",
      "|\n",
      "-----------------------------------------------\n",
      "Epoch 5\n",
      "-----------------------------------------------\n",
      "current batch loss: 0.394867  [    0/30000]\n",
      "current batch loss: 0.323075  [ 6400/30000]\n",
      "current batch loss: 0.320488  [12800/30000]\n",
      "current batch loss: 0.362503  [19200/30000]\n",
      "current batch loss: 0.431404  [25600/30000]\n",
      "-----------------------------------------------\n",
      "avg trn loss per batch: 0.352046\n",
      "-----------------------------------------------\n",
      "avg val loss per batch: 0.347169\n",
      "-----------------------------------------------\n",
      "|\n",
      "-----------------------------------------------\n",
      "Epoch 6\n",
      "-----------------------------------------------\n",
      "current batch loss: 0.338854  [    0/30000]\n",
      "current batch loss: 0.299458  [ 6400/30000]\n",
      "current batch loss: 0.396179  [12800/30000]\n",
      "current batch loss: 0.330158  [19200/30000]\n",
      "current batch loss: 0.384365  [25600/30000]\n",
      "-----------------------------------------------\n",
      "avg trn loss per batch: 0.347708\n",
      "-----------------------------------------------\n",
      "avg val loss per batch: 0.343511\n",
      "-----------------------------------------------\n",
      "|\n",
      "-----------------------------------------------\n",
      "Epoch 7\n",
      "-----------------------------------------------\n",
      "current batch loss: 0.339529  [    0/30000]\n",
      "current batch loss: 0.428206  [ 6400/30000]\n",
      "current batch loss: 0.307940  [12800/30000]\n",
      "current batch loss: 0.427786  [19200/30000]\n",
      "current batch loss: 0.308377  [25600/30000]\n",
      "-----------------------------------------------\n",
      "avg trn loss per batch: 0.344316\n",
      "-----------------------------------------------\n",
      "avg val loss per batch: 0.341702\n",
      "-----------------------------------------------\n",
      "|\n",
      "-----------------------------------------------\n",
      "Epoch 8\n",
      "-----------------------------------------------\n",
      "current batch loss: 0.476850  [    0/30000]\n",
      "current batch loss: 0.398167  [ 6400/30000]\n",
      "current batch loss: 0.225946  [12800/30000]\n",
      "current batch loss: 0.379407  [19200/30000]\n",
      "current batch loss: 0.338239  [25600/30000]\n",
      "-----------------------------------------------\n",
      "avg trn loss per batch: 0.345442\n",
      "-----------------------------------------------\n",
      "avg val loss per batch: 0.339782\n",
      "-----------------------------------------------\n",
      "|\n",
      "-----------------------------------------------\n",
      "Epoch 9\n",
      "-----------------------------------------------\n",
      "current batch loss: 0.308711  [    0/30000]\n",
      "current batch loss: 0.302886  [ 6400/30000]\n",
      "current batch loss: 0.378070  [12800/30000]\n",
      "current batch loss: 0.411177  [19200/30000]\n",
      "current batch loss: 0.428792  [25600/30000]\n",
      "-----------------------------------------------\n",
      "avg trn loss per batch: 0.336381\n",
      "-----------------------------------------------\n",
      "avg val loss per batch: 0.333517\n",
      "-----------------------------------------------\n",
      "|\n",
      "-----------------------------------------------\n",
      "Epoch 10\n",
      "-----------------------------------------------\n",
      "current batch loss: 0.301702  [    0/30000]\n",
      "current batch loss: 0.353476  [ 6400/30000]\n",
      "current batch loss: 0.321246  [12800/30000]\n",
      "current batch loss: 0.328693  [19200/30000]\n",
      "current batch loss: 0.386207  [25600/30000]\n",
      "-----------------------------------------------\n",
      "avg trn loss per batch: 0.332924\n",
      "-----------------------------------------------\n",
      "avg val loss per batch: 0.330472\n",
      "-----------------------------------------------\n",
      "|\n",
      "-----------------------------------------------\n",
      "Epoch 11\n",
      "-----------------------------------------------\n",
      "current batch loss: 0.273053  [    0/30000]\n",
      "current batch loss: 0.263026  [ 6400/30000]\n",
      "current batch loss: 0.504104  [12800/30000]\n",
      "current batch loss: 0.481446  [19200/30000]\n",
      "current batch loss: 0.302100  [25600/30000]\n",
      "-----------------------------------------------\n",
      "avg trn loss per batch: 0.330464\n",
      "-----------------------------------------------\n",
      "avg val loss per batch: 0.328043\n",
      "-----------------------------------------------\n",
      "|\n",
      "-----------------------------------------------\n",
      "Epoch 12\n",
      "-----------------------------------------------\n",
      "current batch loss: 0.344631  [    0/30000]\n",
      "current batch loss: 0.345806  [ 6400/30000]\n",
      "current batch loss: 0.360367  [12800/30000]\n",
      "current batch loss: 0.225417  [19200/30000]\n",
      "current batch loss: 0.346379  [25600/30000]\n",
      "-----------------------------------------------\n",
      "avg trn loss per batch: 0.327035\n",
      "-----------------------------------------------\n",
      "avg val loss per batch: 0.325508\n",
      "-----------------------------------------------\n",
      "|\n",
      "-----------------------------------------------\n",
      "Epoch 13\n",
      "-----------------------------------------------\n",
      "current batch loss: 0.431018  [    0/30000]\n",
      "current batch loss: 0.231442  [ 6400/30000]\n",
      "current batch loss: 0.318869  [12800/30000]\n",
      "current batch loss: 0.488349  [19200/30000]\n",
      "current batch loss: 0.270570  [25600/30000]\n",
      "-----------------------------------------------\n",
      "avg trn loss per batch: 0.325262\n",
      "-----------------------------------------------\n",
      "avg val loss per batch: 0.323459\n",
      "-----------------------------------------------\n",
      "|\n",
      "-----------------------------------------------\n",
      "Epoch 14\n",
      "-----------------------------------------------\n",
      "current batch loss: 0.360100  [    0/30000]\n",
      "current batch loss: 0.378764  [ 6400/30000]\n",
      "current batch loss: 0.233674  [12800/30000]\n",
      "current batch loss: 0.266395  [19200/30000]\n",
      "current batch loss: 0.416785  [25600/30000]\n",
      "-----------------------------------------------\n",
      "avg trn loss per batch: 0.322919\n",
      "-----------------------------------------------\n",
      "avg val loss per batch: 0.322003\n",
      "-----------------------------------------------\n",
      "|\n",
      "-----------------------------------------------\n",
      "Epoch 15\n",
      "-----------------------------------------------\n",
      "current batch loss: 0.342205  [    0/30000]\n",
      "current batch loss: 0.266632  [ 6400/30000]\n",
      "current batch loss: 0.285797  [12800/30000]\n",
      "current batch loss: 0.269311  [19200/30000]\n",
      "current batch loss: 0.381426  [25600/30000]\n",
      "-----------------------------------------------\n",
      "avg trn loss per batch: 0.321260\n",
      "-----------------------------------------------\n",
      "avg val loss per batch: 0.321255\n",
      "-----------------------------------------------\n",
      "|\n",
      "-----------------------------------------------\n",
      "Epoch 16\n",
      "-----------------------------------------------\n",
      "current batch loss: 0.411501  [    0/30000]\n",
      "current batch loss: 0.336197  [ 6400/30000]\n",
      "current batch loss: 0.271602  [12800/30000]\n",
      "current batch loss: 0.252486  [19200/30000]\n",
      "current batch loss: 0.247184  [25600/30000]\n",
      "-----------------------------------------------\n",
      "avg trn loss per batch: 0.319282\n",
      "-----------------------------------------------\n",
      "avg val loss per batch: 0.319255\n",
      "-----------------------------------------------\n",
      "|\n",
      "-----------------------------------------------\n",
      "Epoch 17\n",
      "-----------------------------------------------\n",
      "current batch loss: 0.330334  [    0/30000]\n",
      "current batch loss: 0.315659  [ 6400/30000]\n",
      "current batch loss: 0.363839  [12800/30000]\n",
      "current batch loss: 0.434427  [19200/30000]\n",
      "current batch loss: 0.343485  [25600/30000]\n",
      "-----------------------------------------------\n",
      "avg trn loss per batch: 0.317864\n",
      "-----------------------------------------------\n",
      "avg val loss per batch: 0.318154\n",
      "-----------------------------------------------\n",
      "|\n",
      "-----------------------------------------------\n",
      "Epoch 18\n",
      "-----------------------------------------------\n",
      "current batch loss: 0.395746  [    0/30000]\n",
      "current batch loss: 0.347038  [ 6400/30000]\n",
      "current batch loss: 0.276253  [12800/30000]\n",
      "current batch loss: 0.373938  [19200/30000]\n",
      "current batch loss: 0.243932  [25600/30000]\n",
      "-----------------------------------------------\n",
      "avg trn loss per batch: 0.316216\n",
      "-----------------------------------------------\n",
      "avg val loss per batch: 0.317318\n",
      "-----------------------------------------------\n",
      "|\n",
      "-----------------------------------------------\n",
      "Epoch 19\n",
      "-----------------------------------------------\n",
      "current batch loss: 0.351411  [    0/30000]\n",
      "current batch loss: 0.374678  [ 6400/30000]\n",
      "current batch loss: 0.346993  [12800/30000]\n",
      "current batch loss: 0.402638  [19200/30000]\n",
      "current batch loss: 0.231311  [25600/30000]\n",
      "-----------------------------------------------\n",
      "avg trn loss per batch: 0.315095\n",
      "-----------------------------------------------\n",
      "avg val loss per batch: 0.316150\n",
      "-----------------------------------------------\n",
      "|\n",
      "-----------------------------------------------\n",
      "Epoch 20\n",
      "-----------------------------------------------\n",
      "current batch loss: 0.344249  [    0/30000]\n",
      "current batch loss: 0.209641  [ 6400/30000]\n",
      "current batch loss: 0.323941  [12800/30000]\n",
      "current batch loss: 0.327853  [19200/30000]\n",
      "current batch loss: 0.270734  [25600/30000]\n",
      "-----------------------------------------------\n",
      "avg trn loss per batch: 0.314779\n",
      "-----------------------------------------------\n",
      "avg val loss per batch: 0.316479\n",
      "-----------------------------------------------\n",
      "|\n",
      "-----------------------------------------------\n",
      "Epoch 21\n",
      "-----------------------------------------------\n",
      "current batch loss: 0.374628  [    0/30000]\n",
      "current batch loss: 0.283415  [ 6400/30000]\n",
      "current batch loss: 0.316315  [12800/30000]\n",
      "current batch loss: 0.350439  [19200/30000]\n",
      "current batch loss: 0.301960  [25600/30000]\n",
      "-----------------------------------------------\n",
      "avg trn loss per batch: 0.313535\n",
      "-----------------------------------------------\n",
      "avg val loss per batch: 0.314036\n",
      "-----------------------------------------------\n",
      "|\n",
      "-----------------------------------------------\n",
      "Epoch 22\n",
      "-----------------------------------------------\n",
      "current batch loss: 0.554942  [    0/30000]\n",
      "current batch loss: 0.292187  [ 6400/30000]\n",
      "current batch loss: 0.319370  [12800/30000]\n",
      "current batch loss: 0.259496  [19200/30000]\n",
      "current batch loss: 0.337229  [25600/30000]\n",
      "-----------------------------------------------\n",
      "avg trn loss per batch: 0.311747\n",
      "-----------------------------------------------\n",
      "avg val loss per batch: 0.313127\n",
      "-----------------------------------------------\n",
      "|\n",
      "-----------------------------------------------\n",
      "Epoch 23\n",
      "-----------------------------------------------\n",
      "current batch loss: 0.416545  [    0/30000]\n",
      "current batch loss: 0.309744  [ 6400/30000]\n",
      "current batch loss: 0.419305  [12800/30000]\n",
      "current batch loss: 0.264052  [19200/30000]\n",
      "current batch loss: 0.260810  [25600/30000]\n",
      "-----------------------------------------------\n",
      "avg trn loss per batch: 0.311649\n",
      "-----------------------------------------------\n",
      "avg val loss per batch: 0.313854\n",
      "-----------------------------------------------\n",
      "|\n",
      "-----------------------------------------------\n",
      "Epoch 24\n",
      "-----------------------------------------------\n",
      "current batch loss: 0.280220  [    0/30000]\n",
      "current batch loss: 0.227977  [ 6400/30000]\n",
      "current batch loss: 0.416223  [12800/30000]\n",
      "current batch loss: 0.254725  [19200/30000]\n",
      "current batch loss: 0.236301  [25600/30000]\n",
      "-----------------------------------------------\n",
      "avg trn loss per batch: 0.311338\n",
      "-----------------------------------------------\n",
      "avg val loss per batch: 0.314263\n",
      "-----------------------------------------------\n",
      "|\n",
      "-----------------------------------------------\n",
      "Epoch 25\n",
      "-----------------------------------------------\n",
      "current batch loss: 0.228511  [    0/30000]\n",
      "current batch loss: 0.249348  [ 6400/30000]\n",
      "current batch loss: 0.244322  [12800/30000]\n",
      "current batch loss: 0.302331  [19200/30000]\n",
      "current batch loss: 0.332687  [25600/30000]\n",
      "-----------------------------------------------\n",
      "avg trn loss per batch: 0.310680\n",
      "-----------------------------------------------\n",
      "avg val loss per batch: 0.313122\n",
      "-----------------------------------------------\n",
      "|\n",
      "Done!\n"
     ]
    }
   ],
   "source": [
    "# a useful function to present things clearer\n",
    "def separator():\n",
    "    print( \"-----------------------------------------------\" )\n",
    "\n",
    "epochs = 25\n",
    "\n",
    "# re-initialise the model and the optimizer\n",
    "model = ConvNet2D(ch=4).to(device)\n",
    "learning_rate = 0.001\n",
    "optimizer = torch.optim.Adam( model.parameters(), lr=learning_rate )\n",
    "separator()\n",
    "print( \"model architecture \")\n",
    "separator()\n",
    "print( model )\n",
    "\n",
    "# track train and val losses\n",
    "trn_losses = []\n",
    "val_losses = []\n",
    "\n",
    "for t in range(epochs):\n",
    "    separator()\n",
    "    print( f\"Epoch {t+1}\" )\n",
    "    separator()\n",
    "    train_epoch( train_cnn_dataloader, model, loss_fn, optimizer )\n",
    "    separator()\n",
    "    trn_loss = trn_pass( train_cnn_dataloader, model, loss_fn )\n",
    "    trn_losses.append( trn_loss )\n",
    "    separator()\n",
    "    val_loss = val_pass( val_cnn_dataloader, model, loss_fn )\n",
    "    val_losses.append( val_loss )\n",
    "    separator()\n",
    "    print( \"|\" )\n",
    "    \n",
    "print(\"Done!\")"
   ]
  },
  {
   "cell_type": "markdown",
   "metadata": {},
   "source": [
    "## Plot train and validation losses"
   ]
  },
  {
   "cell_type": "markdown",
   "metadata": {},
   "source": [
    "To study the results let's start by looking at the loss functions."
   ]
  },
  {
   "cell_type": "code",
   "execution_count": 37,
   "metadata": {},
   "outputs": [
    {
     "data": {
      "image/png": "[encoded data removed]",
      "text/plain": [
       "<Figure size 700x500 with 1 Axes>"
      ]
     },
     "metadata": {},
     "output_type": "display_data"
    }
   ],
   "source": [
    "fig, axs = plt.subplots( 1, 1, figsize=(7,5) )\n",
    "\n",
    "c1 = 'tab:red'\n",
    "c2 = 'tab:green'\n",
    "\n",
    "axs.plot( trn_losses, label=\"train loss\", color=c1 )\n",
    "axs.plot( val_losses, label=\"val   loss\", color=c2 )\n",
    "\n",
    "axs.set_yscale('log')\n",
    "\n",
    "axs.set_xlabel( \"epoch\", fontproperties=axislabelfont )\n",
    "axs.set_ylabel( \"Binary CE\", fontproperties=axislabelfont )\n",
    "\n",
    "xticks = [ int(x) for x in axs.get_xticks() ]\n",
    "axs.set_xticklabels( xticks, fontproperties=tickfont )\n",
    "\n",
    "yticks = axs.get_yticks()\n",
    "axs.set_yticklabels( yticks, fontproperties=tickfont )\n",
    "\n",
    "axs.legend( loc='best', prop=tickfont )\n",
    "\n",
    "fig.tight_layout()"
   ]
  },
  {
   "cell_type": "code",
   "execution_count": 38,
   "metadata": {},
   "outputs": [
    {
     "name": "stdout",
     "output_type": "stream",
     "text": [
      "avg trn loss per batch: 0.310653\n",
      "avg val loss per batch: 0.315985\n",
      "avg val loss per batch: 0.313178\n",
      "-----------------------------------------------\n",
      "Final evaluation of performance:\n",
      "MSE-loss on train dataset: 0.31065253220768624\n",
      "MSE-loss on validation dataset: 0.31598481256316213\n",
      "MSE-loss on test dataset: 0.3131777857666585\n",
      "-----------------------------------------------\n"
     ]
    }
   ],
   "source": [
    "trn_loss = trn_pass( train_cnn_dataloader, model, loss_fn )\n",
    "val_loss = val_pass( test_cnn_dataloader, model, loss_fn )\n",
    "test_loss = val_pass( val_cnn_dataloader, model, loss_fn )\n",
    "\n",
    "separator()\n",
    "print(\"Final evaluation of performance:\")\n",
    "print(\"MSE-loss on train dataset: {}\".format(trn_loss))\n",
    "print(\"MSE-loss on validation dataset: {}\".format(val_loss))\n",
    "print(\"MSE-loss on test dataset: {}\".format(test_loss))\n",
    "separator()"
   ]
  },
  {
   "cell_type": "markdown",
   "metadata": {},
   "source": [
    "However, these numbers don't show clearly what's the performance of our model.\n",
    "\n",
    "Let's try with the accuracy: $\\frac{\\mathbf{correct}}{\\mathbf{total}}\\cdot100$"
   ]
  },
  {
   "cell_type": "code",
   "execution_count": 39,
   "metadata": {},
   "outputs": [],
   "source": [
    "samp_size = 10000\n",
    "\n",
    "train_pred = model(z_train[:samp_size].to(device)).detach()\n",
    "test_pred = model(z_test[:samp_size].to(device)).detach()\n",
    "val_pred = model(z_val[:samp_size].to(device)).detach()\n",
    "\n",
    "train_pred_lab = torch.round(train_pred[:samp_size])\n",
    "test_pred_lab = torch.round(test_pred[:samp_size])\n",
    "val_pred_lab = torch.round(val_pred[:samp_size])\n",
    "\n",
    "train_correct = (train_pred_lab==y_train[:samp_size].to(device)).sum().item()\n",
    "test_correct = (test_pred_lab==y_test[:samp_size].to(device)).sum().item()\n",
    "val_correct = (val_pred_lab==y_val[:samp_size].to(device)).sum().item()"
   ]
  },
  {
   "cell_type": "code",
   "execution_count": 40,
   "metadata": {},
   "outputs": [
    {
     "name": "stdout",
     "output_type": "stream",
     "text": [
      "-----------------------------------------------\n",
      "Evaluation of accuracy: \n",
      "Accuracy on training dataset: 86.5 %\n",
      "Accuracy on validation dataset: 86.8 %\n",
      "Accuracy on test dataset: 86.3 %\n",
      "-----------------------------------------------\n"
     ]
    }
   ],
   "source": [
    "separator()\n",
    "print('Evaluation of accuracy: ')\n",
    "print('Accuracy on training dataset: {:.1f} %'.format(train_correct*100/len(train_pred)))\n",
    "print('Accuracy on validation dataset: {:.1f} %'.format(val_correct*100/len(val_pred)))\n",
    "print('Accuracy on test dataset: {:.1f} %'.format(test_correct*100/len(test_pred)))\n",
    "separator()"
   ]
  },
  {
   "cell_type": "markdown",
   "metadata": {},
   "source": [
    "Good accuracy for a really simple model!"
   ]
  },
  {
   "cell_type": "markdown",
   "metadata": {},
   "source": [
    "## Study the results - plot the ROC curve"
   ]
  },
  {
   "cell_type": "markdown",
   "metadata": {},
   "source": [
    "One possible way to study our results is to plot a ROC curve. This is created by plotting the True Positive Rate against the False Positive Rate at different thresholds.TPR and FPR are defined by:\n",
    "\n",
    "- TPR = $\\frac{TP}{TP+FN}$;\n",
    "- FPR = $\\frac{FP}{FP+TN}$,\n",
    "\n",
    "namely the probability of correctly identyfing a signal against the probability of falsely rejecting a background event.\n",
    "\n",
    "When dealing with a background/signal test, it's usual to call the TPR signal efficiency and the FPR background rejection.\n",
    "\n",
    "Once we plot the ROC curve, we would like to quantify the performance according to some criteria.\n",
    "Two indices are mainly used:\n",
    "- AUC score, which is the Area Under the Curve;\n",
    "- Inverse mistag at low efficiency (e.g. 0.3)\n",
    "\n",
    "The AUC represents the probability of a random signal sample to have higher score than a background event.\n",
    "The inverse mistag hasn't a probabilistic interpretation, but higher values denote a better sensitivity to signal events."
   ]
  },
  {
   "cell_type": "code",
   "execution_count": 41,
   "metadata": {},
   "outputs": [],
   "source": [
    "from sklearn.metrics import roc_curve, roc_auc_score\n",
    "\n",
    "def closest_point(array, tpr_p=0.3):\n",
    "    dist = ((array-tpr_p)**2)\n",
    "    return np.argmin(dist)"
   ]
  },
  {
   "cell_type": "code",
   "execution_count": 42,
   "metadata": {},
   "outputs": [
    {
     "data": {
      "image/png": "[encoded data removed]",
      "text/plain": [
       "<Figure size 1400x500 with 2 Axes>"
      ]
     },
     "metadata": {},
     "output_type": "display_data"
    }
   ],
   "source": [
    "fig, ax = plt.subplots(1, 2, figsize=(14,5))\n",
    "test_true_lab=y_test[:samp_size]\n",
    "\n",
    "fpr, tpr, th = roc_curve(test_true_lab, test_pred.to('cpu'))#[:,1])\n",
    "auc_score = roc_auc_score(test_true_lab, test_pred.to('cpu'))\n",
    "rnd_class = np.linspace(0, 1, 100)\n",
    "\n",
    "ax[0].plot(fpr, tpr, label='AUC = {:.2f}'.format(auc_score) )\n",
    "ax[0].plot(rnd_class, rnd_class, '--', label='Rnd classifier')\n",
    "ax[1].plot(tpr, 1/fpr, label='AUC = {:.2f}\\n $1/\\epsilon_{{bkg}}$(0.3) = {:.0f}'.format(auc_score, 1/fpr[closest_point(tpr, tpr_p=0.3)]))\n",
    "ax[1].plot(rnd_class, 1/rnd_class, '--', label='Rnd classifier')\n",
    "ax[1].set_yscale('log')\n",
    "\n",
    "ax[0].set_xlabel('$\\epsilon_{bkg}$ - FPR', fontproperties=axislabelfont)\n",
    "ax[0].set_ylabel('$\\epsilon_{s}$ - TPR', fontproperties=axislabelfont)\n",
    "\n",
    "ax[1].set_xlabel('$\\epsilon_{s}$ - TPR', fontproperties=axislabelfont)\n",
    "ax[1].set_ylabel('1/$\\epsilon_{bkg}$ - Inverse FPR', fontproperties=axislabelfont)\n",
    "for i in range(len(ax)):\n",
    "    ax[i].legend(prop=axislabelfont)\n",
    "    ax[i].tick_params(labelsize=axisfontsize)\n",
    "    ax[i].grid('on')"
   ]
  },
  {
   "cell_type": "code",
   "execution_count": 43,
   "metadata": {},
   "outputs": [
    {
     "ename": "TypeError",
     "evalue": "can't convert cuda:0 device type tensor to numpy. Use Tensor.cpu() to copy the tensor to host memory first.",
     "output_type": "error",
     "traceback": [
      "\u001b[0;31m---------------------------------------------------------------------------\u001b[0m",
      "\u001b[0;31mTypeError\u001b[0m                                 Traceback (most recent call last)",
      "Cell \u001b[0;32mIn[43], line 2\u001b[0m\n\u001b[1;32m      1\u001b[0m fig, ax \u001b[38;5;241m=\u001b[39m plt\u001b[38;5;241m.\u001b[39msubplots(\u001b[38;5;241m1\u001b[39m,\u001b[38;5;241m1\u001b[39m, figsize\u001b[38;5;241m=\u001b[39m(\u001b[38;5;241m7\u001b[39m,\u001b[38;5;241m5\u001b[39m))\n\u001b[0;32m----> 2\u001b[0m ax\u001b[38;5;241m.\u001b[39mhist(\u001b[43mtest_pred\u001b[49m\u001b[43m[\u001b[49m\u001b[43m:\u001b[49m\u001b[43m,\u001b[49m\u001b[38;5;241;43m0\u001b[39;49m\u001b[43m]\u001b[49m\u001b[38;5;241;43m.\u001b[39;49m\u001b[43mnumpy\u001b[49m\u001b[43m(\u001b[49m\u001b[43m)\u001b[49m)\n\u001b[1;32m      3\u001b[0m plt\u001b[38;5;241m.\u001b[39mshow()\n",
      "\u001b[0;31mTypeError\u001b[0m: can't convert cuda:0 device type tensor to numpy. Use Tensor.cpu() to copy the tensor to host memory first."
     ]
    },
    {
     "data": {
      "image/png": "[encoded data removed]",
      "text/plain": [
       "<Figure size 700x500 with 1 Axes>"
      ]
     },
     "metadata": {},
     "output_type": "display_data"
    }
   ],
   "source": [
    "fig, ax = plt.subplots(1,1, figsize=(7,5))\n",
    "ax.hist(test_pred[:,0].numpy())\n",
    "plt.show()"
   ]
  },
  {
   "cell_type": "markdown",
   "metadata": {},
   "source": [
    "## CNNs and translation invariance"
   ]
  },
  {
   "cell_type": "markdown",
   "metadata": {},
   "source": [
    "The convolution operation is <ins>**not**</ins> translation invariant but **equivariant**. what does that mean?\n",
    "Translation equivariant means that a translated input is mapped to the translated output, in formula:\n",
    "\n",
    "$f(x(t)) = y(t)$ &#10230; $f(x(t+s)) = y(t+s)$,\n",
    "\n",
    "while a translation invariant operation implies:\n",
    "\n",
    "$f(x(t)) = y(t)$ &#10230; $f(x(t+s)) = y(t)$.\n",
    "\n",
    "Nevertheless, we can check that the network is still invariant to small translation of the input datasets. Let's shift the test dataset in the vertical and horizontal axis:"
   ]
  },
  {
   "cell_type": "code",
   "execution_count": null,
   "metadata": {},
   "outputs": [],
   "source": [
    "test_h = torch.roll(z_test, 3, dims=3)\n",
    "test_v = torch.roll(z_test, 3, dims=2)"
   ]
  },
  {
   "cell_type": "markdown",
   "metadata": {},
   "source": [
    "Now check the accuracy of the previously trained model:"
   ]
  },
  {
   "cell_type": "code",
   "execution_count": null,
   "metadata": {},
   "outputs": [],
   "source": [
    "samp_size = 10000\n",
    "\n",
    "test_pred = model(z_test[:samp_size])\n",
    "test_pred_h = model(test_h[:samp_size])\n",
    "test_pred_v = model(test_v[:samp_size])\n",
    "\n",
    "test_pred_lab = torch.round(test_pred[:samp_size])\n",
    "test_pred_lab_h = torch.round(test_pred_h[:samp_size])\n",
    "test_pred_lab_v = torch.round(test_pred_v[:samp_size])\n",
    "\n",
    "test_cor = (test_pred_lab==y_test[:samp_size]).sum().item()\n",
    "test_cor_h = (test_pred_lab_h==y_test[:samp_size]).sum().item()\n",
    "test_cor_v = (test_pred_lab_v==y_test[:samp_size]).sum().item()"
   ]
  },
  {
   "cell_type": "code",
   "execution_count": null,
   "metadata": {},
   "outputs": [],
   "source": [
    "separator()\n",
    "print('Accuracy on shifted datasets:')\n",
    "print('No-shifts: {:.1f} %'.format(test_cor*100/len(test_pred)))\n",
    "print('Vertical shift: {:.1f} %'.format(test_cor_h*100/len(test_pred_h)))\n",
    "print('Horizontal shift: {:.1f} %'.format(test_cor_v*100/len(test_pred_v)))\n",
    "separator()"
   ]
  },
  {
   "cell_type": "markdown",
   "metadata": {},
   "source": [
    "- #### Why there's some translation invariance? Why will it be broken at some point?\n",
    "\n",
    "max-pooling layer reduces the dependence on the spatial positioning. \n",
    "\n",
    "At large shifts we'll drastically change the physics of the jet (especially for tops), pooling doesn't help anymore, and linear layers are definitely not translation invariant.\n"
   ]
  },
  {
   "cell_type": "markdown",
   "metadata": {},
   "source": [
    "## CNNs vs FCNs"
   ]
  },
  {
   "cell_type": "markdown",
   "metadata": {},
   "source": [
    "How many parameters does a CNN have?\n",
    "\n",
    "*output_channels* * (*input_channels* * *kernel_width* * *kernel_height* + 1)\n",
    "\n",
    "How many parameters does a FCN have?\n",
    "\n",
    "*output_nodes* * (input_nodes + 1)\n",
    "\n",
    "In our case we have 104 parameters from the first convolution, 100 from the second one, and 101 from the linear layer (no learnable weights in max-pooling and flattening), thus:\n",
    "\n",
    "**CNN parameters**: ~300\n",
    "\n",
    "Let's try to build a FCN with similar number of weights. The simplest network has just one layer that maps the pixels into a probability output.\n",
    "So, in the simplest case, we already have a number of parameters equal to the number of pixels.\n",
    "\n",
    "**FCN parameters** (simplest case): ~1600\n",
    "\n",
    "Let's try to train this FCN."
   ]
  },
  {
   "cell_type": "code",
   "execution_count": null,
   "metadata": {},
   "outputs": [],
   "source": [
    "#cnn parameters:  104, 100, 101 -> 300\n",
    "#smallest fcn has at least 1600 params\n",
    "\n",
    "class FullyConnected(nn.Module):\n",
    "    \n",
    "    def __init__(self, img_pixels=1600, out_dim=2):\n",
    "        super().__init__()\n",
    "        self.linear1 = nn.Linear(img_pixels, out_dim, bias=True)\n",
    "    \n",
    "    def forward(self, x):\n",
    "        self.net = nn.Sequential(\n",
    "            nn.Flatten(),\n",
    "            self.linear1,\n",
    "            nn.Softmax()\n",
    "        )\n",
    "        return self.net(x)"
   ]
  },
  {
   "cell_type": "code",
   "execution_count": null,
   "metadata": {},
   "outputs": [],
   "source": [
    "epochs = 50\n",
    "loss_fn = nn.BCELoss()\n",
    "\n",
    "# re-initialise the model and the optimizer\n",
    "model = FullyConnected().to(device)\n",
    "learning_rate = 0.001\n",
    "optimizer = torch.optim.Adam( model.parameters(), lr=learning_rate )\n",
    "separator()\n",
    "print( \"model architecture \")\n",
    "separator()\n",
    "print( model )\n",
    "\n",
    "# track train and val losses\n",
    "trn_losses = []\n",
    "val_losses = []\n",
    "\n",
    "for t in range(epochs):\n",
    "    separator()\n",
    "    print( f\"Epoch {t+1}\" )\n",
    "    separator()\n",
    "    train_epoch( train_cnn_dataloader, model, loss_fn, optimizer )\n",
    "    separator()\n",
    "    trn_loss = trn_pass( train_cnn_dataloader, model, loss_fn )\n",
    "    trn_losses.append( trn_loss )\n",
    "    separator()\n",
    "    val_loss = val_pass( val_cnn_dataloader, model, loss_fn )\n",
    "    val_losses.append( val_loss )\n",
    "    separator()\n",
    "    print( \"|\" )\n",
    "    \n",
    "print(\"Done!\")"
   ]
  },
  {
   "cell_type": "code",
   "execution_count": null,
   "metadata": {},
   "outputs": [],
   "source": [
    "fig, axs = plt.subplots( 1, 1, figsize=(7,5) )\n",
    "\n",
    "c1 = 'tab:red'\n",
    "c2 = 'tab:green'\n",
    "\n",
    "axs.plot( trn_losses, label=\"train loss\", color=c1 )\n",
    "axs.plot( val_losses, label=\"val   loss\", color=c2 )\n",
    "\n",
    "axs.set_yscale('log')\n",
    "\n",
    "axs.set_xlabel( \"epoch\", fontproperties=axislabelfont )\n",
    "axs.set_ylabel( \"Binary CE\", fontproperties=axislabelfont )\n",
    "\n",
    "xticks = [ int(x) for x in axs.get_xticks() ]\n",
    "axs.set_xticklabels( xticks, fontproperties=tickfont )\n",
    "\n",
    "yticks = axs.get_yticks()\n",
    "axs.set_yticklabels( yticks, fontproperties=tickfont )\n",
    "\n",
    "axs.legend( loc='best', prop=tickfont )\n",
    "\n",
    "fig.tight_layout()"
   ]
  },
  {
   "cell_type": "code",
   "execution_count": null,
   "metadata": {},
   "outputs": [],
   "source": [
    "trn_loss = trn_pass( train_cnn_dataloader, model, loss_fn )\n",
    "val_loss = val_pass( test_cnn_dataloader, model, loss_fn )\n",
    "test_loss = val_pass( val_cnn_dataloader, model, loss_fn )\n",
    "\n",
    "separator()\n",
    "print(\"Final evaluation of performance:\")\n",
    "print(\"MSE-loss on train dataset: {}\".format(trn_loss))\n",
    "print(\"MSE-loss on validation dataset: {}\".format(val_loss))\n",
    "print(\"MSE-loss on test dataset: {}\".format(test_loss))\n",
    "separator()"
   ]
  },
  {
   "cell_type": "code",
   "execution_count": null,
   "metadata": {},
   "outputs": [],
   "source": [
    "samp_size = 10000\n",
    "\n",
    "train_pred = model(z_train[:samp_size]).detach()\n",
    "test_pred = model(z_test[:samp_size]).detach()\n",
    "val_pred = model(z_val[:samp_size]).detach()\n",
    "\n",
    "train_pred_lab = torch.round(train_pred[:samp_size])\n",
    "test_pred_lab = torch.round(test_pred[:samp_size])\n",
    "val_pred_lab = torch.round(val_pred[:samp_size])\n",
    "\n",
    "train_correct = (train_pred_lab==y_train[:samp_size]).sum().item()\n",
    "test_correct = (test_pred_lab==y_test[:samp_size]).sum().item()\n",
    "val_correct = (val_pred_lab==y_val[:samp_size]).sum().item()"
   ]
  },
  {
   "cell_type": "code",
   "execution_count": null,
   "metadata": {},
   "outputs": [],
   "source": [
    "separator()\n",
    "print('Evaluation of accuracy: ')\n",
    "print('Accuracy on training dataset: {:.1f} %'.format(train_correct*100/len(train_pred)))\n",
    "print('Accuracy on validation dataset: {:.1f} %'.format(val_correct*100/len(val_pred)))\n",
    "print('Accuracy on test dataset: {:.1f} %'.format(test_correct*100/len(test_pred)))\n",
    "separator()"
   ]
  },
  {
   "cell_type": "markdown",
   "metadata": {},
   "source": [
    "## Over-training?  Solutions?"
   ]
  },
  {
   "cell_type": "markdown",
   "metadata": {},
   "source": [
    "Did you mean over-fitting? \n",
    "\n",
    "Convolutions reduce over-fitting as we can see in the cnn vs fcn.  why? (weights sharing, invariance, less parameters)"
   ]
  },
  {
   "cell_type": "markdown",
   "metadata": {},
   "source": [
    "## How could we improve the results?"
   ]
  },
  {
   "cell_type": "markdown",
   "metadata": {},
   "source": [
    "with a larger model:\n",
    "- mora channels;\n",
    "- more convolutions;\n",
    "- smaller filters;\n",
    "\n",
    "with larger training dataset (at least 100000 imgs)\n",
    "\n",
    "... else?"
   ]
  },
  {
   "cell_type": "code",
   "execution_count": null,
   "metadata": {},
   "outputs": [],
   "source": []
  }
 ],
 "metadata": {
  "kernelspec": {
   "display_name": "graphGPS",
   "language": "python",
   "name": "graphgps"
  },
  "language_info": {
   "codemirror_mode": {
    "name": "ipython",
    "version": 3
   },
   "file_extension": ".py",
   "mimetype": "text/x-python",
   "name": "python",
   "nbconvert_exporter": "python",
   "pygments_lexer": "ipython3",
   "version": "3.10.11"
  }
 },
 "nbformat": 4,
 "nbformat_minor": 4
}
