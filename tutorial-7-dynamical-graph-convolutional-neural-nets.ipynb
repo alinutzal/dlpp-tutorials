{
 "cells": [
  {
   "cell_type": "markdown",
   "metadata": {},
   "source": [
    "# Jet tagging with Dynamical Graph Convolutional Neural Nets (DGCNNs)"
   ]
  },
  {
   "cell_type": "markdown",
   "metadata": {},
   "source": [
    "What is a graph?\n",
    "\n",
    "Essentially, just a structure that has:\n",
    "- nodes: entities with a set of properties or features\n",
    "- edges: these connect two nodes, they can be uni- or bi-directional.\n",
    "\n",
    "Graph networks model graph structures in a neural network architecture."
   ]
  },
  {
   "cell_type": "markdown",
   "metadata": {},
   "source": [
    "Why is this useful?\n",
    "\n",
    "Jets are graphs (or, point clouds).  Each constituent is a node, and edges connect neighbouring constituents.  Jet observables are generally constructed by computing quantities between pairs of particles, for example the angular separation between two particles or the invariant mass of two particles.  Since our networks will serve as jet observables, the graph construction is very natural.  \n",
    "\n",
    "The constituents in a jet also have very trivial symmetry, permutation invariance.  This means that any observable we construct should not depend on some arbitrary ordering of the jet constituents.  Graph networks are inherently permutation invariant.  If you remember the regression networks we built in tutorials 2 and 4, there we ordered particles by type and $p_T$ to input them to the network.  This was not a permutation invariant construction."
   ]
  },
  {
   "cell_type": "markdown",
   "metadata": {},
   "source": [
    "In this tutorial we will learn how to construct graph neural networks using pytorch, and apply them to jet tagging.\n",
    "\n",
    "For this tutorial I am using the following sources:\n",
    "- https://pytorch-geometric.readthedocs.io/en/latest/notes/introduction.html#\n",
    "- https://towardsdatascience.com/program-a-simple-graph-net-in-pytorch-e00b500a642d"
   ]
  },
  {
   "cell_type": "markdown",
   "metadata": {},
   "source": [
    "Outline:\n",
    "- Imports and plotting set-up\n",
    "- Building the dataset\n",
    "    - Preprocessing\n",
    "    - Dataloaders\n",
    "- Data handling in graph networks\n",
    "- Jets, nodes, and edges\n",
    "- Message passing $\\rightarrow$ generalising convolutions\n",
    "- Dynamic edge convolutions\n",
    "- Building a Dynamic Graph Convolutional Neural Network (DGCNN)\n",
    "- Optimising the DGCNN\n",
    "- Study the results"
   ]
  },
  {
   "cell_type": "markdown",
   "metadata": {},
   "source": [
    "Some interesting papers:\n",
    "- Dynamic Graph CNN for Learning on Point Clouds\n",
    "    - https://arxiv.org/abs/1801.07829\n",
    "    - This is the paper that introduces the DGCNN as we know it\n",
    "- ParticleNet: Jet Tagging via Particle Clouds\n",
    "    - https://arxiv.org/abs/1902.08570\n",
    "    - In this paper by Huilin Qu and Loukas Gouskos they apply the DGCNN idea to tagging jets\n",
    "- An Efficient Lorentz Equivariant Graph Neural Network for Jet Tagging\n",
    "    - https://arxiv.org/abs/2201.08187v2\n",
    "    - In this paper by Huilin Qu and others they construct a Lorentz equivariant DGCNN for tagging jets"
   ]
  },
  {
   "cell_type": "markdown",
   "metadata": {},
   "source": [
    "### Imports"
   ]
  },
  {
   "cell_type": "code",
   "execution_count": 1,
   "metadata": {},
   "outputs": [],
   "source": [
    "import os\n",
    "import sys\n",
    "import random\n",
    "import time\n",
    "import numpy as np\n",
    "import torch\n",
    "from torch.utils.data import Dataset\n",
    "from torch.utils.data import DataLoader\n",
    "from torch import nn\n",
    "from torch.nn import functional as F\n",
    "from torch.nn import Sequential, Linear, ReLU\n",
    "\n",
    "from helper_preprocessing import constit_to_cloud"
   ]
  },
  {
   "cell_type": "markdown",
   "metadata": {},
   "source": [
    "#### Plotting set-up"
   ]
  },
  {
   "cell_type": "code",
   "execution_count": 2,
   "metadata": {},
   "outputs": [],
   "source": [
    "from matplotlib import pyplot as plt\n",
    "import matplotlib\n",
    "import warnings\n",
    "warnings.filterwarnings(\"ignore\")\n",
    "from matplotlib.lines import Line2D\n",
    "from matplotlib.font_manager import FontProperties\n",
    "import matplotlib.colors as mcolors\n",
    "import colorsys\n",
    "\n",
    "labelfont = FontProperties()\n",
    "labelfont.set_family('serif')\n",
    "labelfont.set_name('Times New Roman')\n",
    "labelfont.set_size(14)\n",
    "\n",
    "axislabelfont = FontProperties()\n",
    "axislabelfont.set_family('serif')\n",
    "axislabelfont.set_name('Times New Roman')\n",
    "axislabelfont.set_size(22)\n",
    "\n",
    "tickfont = FontProperties()\n",
    "tickfont.set_family('serif')\n",
    "tickfont.set_name('Times New Roman')\n",
    "tickfont.set_size(16)\n",
    "\n",
    "axisfontsize = 16\n",
    "labelfontsize = 16\n",
    "\n",
    "plt.rcParams[\"font.family\"] = \"Times New Roman\"\n",
    "plt.rcParams[\"mathtext.default\"] = \"rm\"\n",
    "plt.rcParams['text.usetex'] = True"
   ]
  },
  {
   "cell_type": "markdown",
   "metadata": {},
   "source": [
    "## Loading the data"
   ]
  },
  {
   "cell_type": "markdown",
   "metadata": {},
   "source": [
    "We'll be using the top-tagging data again, so let's just load what we saved out before."
   ]
  },
  {
   "cell_type": "code",
   "execution_count": 3,
   "metadata": {},
   "outputs": [],
   "source": [
    "path = '/fs/scratch/PLS0151/particle/dlpp-data/tutorial-3-data/'\n",
    "X_train = np.load( path + 'TopTagging/x_train_short.npy')\n",
    "y_train = np.load( path + 'TopTagging/y_train_short.npy')\n",
    "X_test = np.load( path + 'TopTagging/x_test_short.npy')\n",
    "y_test = np.load(path + 'TopTagging/y_test_short.npy')\n",
    "X_val = np.load( path + 'TopTagging/x_val_short.npy')\n",
    "y_val = np.load( path + 'TopTagging/y_val_short.npy')"
   ]
  },
  {
   "cell_type": "markdown",
   "metadata": {},
   "source": [
    "## Building the dataset"
   ]
  },
  {
   "cell_type": "markdown",
   "metadata": {},
   "source": [
    "For each jet we'll keep the $50$ constituents with the highest $p_T$, with each constituent consisting of $(p_T,\\eta,\\phi)$.\n",
    "So each constituent in the jet has three features."
   ]
  },
  {
   "cell_type": "markdown",
   "metadata": {},
   "source": [
    "### Preprocessing"
   ]
  },
  {
   "cell_type": "markdown",
   "metadata": {},
   "source": [
    "We still need to preprocess the jets in much the same way as we did for the CNN study."
   ]
  },
  {
   "cell_type": "code",
   "execution_count": 4,
   "metadata": {},
   "outputs": [
    {
     "name": "stdout",
     "output_type": "stream",
     "text": [
      "Crop constituents\n",
      "Calculating pT\n",
      "Calculating eta\n",
      "Calculating phi\n",
      "Calculating the mass\n",
      "Pre-shifting the phis\n",
      "Using pT as weight\n",
      "Preprocessing\n",
      "Crop constituents\n",
      "Calculating pT\n",
      "Calculating eta\n",
      "Calculating phi\n",
      "Calculating the mass\n",
      "Pre-shifting the phis\n",
      "Using pT as weight\n",
      "Preprocessing\n",
      "Crop constituents\n",
      "Calculating pT\n",
      "Calculating eta\n",
      "Calculating phi\n",
      "Calculating the mass\n",
      "Pre-shifting the phis\n",
      "Using pT as weight\n",
      "Preprocessing\n"
     ]
    }
   ],
   "source": [
    "z_train = constit_to_cloud( X_train, 50, True, True, True )\n",
    "z_val = constit_to_cloud( X_val, 50, True, True, True )\n",
    "z_test = constit_to_cloud( X_test, 50, True, True, True )"
   ]
  },
  {
   "cell_type": "code",
   "execution_count": 5,
   "metadata": {},
   "outputs": [
    {
     "name": "stdout",
     "output_type": "stream",
     "text": [
      "Train data shape: (30000, 50, 3)\n",
      "Val data shape: (30000, 50, 3)\n",
      "Test data shape: (30000, 50, 3)\n"
     ]
    }
   ],
   "source": [
    "print( \"Train data shape: \" + str(z_train.shape) )\n",
    "print( \"Val data shape: \" + str(z_val.shape) )\n",
    "print( \"Test data shape: \" + str(z_test.shape) )"
   ]
  },
  {
   "cell_type": "code",
   "execution_count": 6,
   "metadata": {},
   "outputs": [],
   "source": [
    "z_train_p = torch.Tensor( z_train )\n",
    "z_val_p = torch.Tensor( z_val )\n",
    "z_test_p = torch.Tensor( z_test )\n",
    "y_train_p = torch.Tensor( y_train )\n",
    "y_val_p = torch.Tensor( y_val )\n",
    "y_test_p = torch.Tensor( y_test )"
   ]
  },
  {
   "cell_type": "markdown",
   "metadata": {},
   "source": [
    "### Dataloaders"
   ]
  },
  {
   "cell_type": "code",
   "execution_count": 7,
   "metadata": {},
   "outputs": [],
   "source": [
    "class topcloud_dataset( Dataset ):\n",
    "    \n",
    "    def __init__( self, data, labels ):\n",
    "        self.data = data\n",
    "        self.labels = labels\n",
    "\n",
    "    def __len__(self):\n",
    "        return len(self.labels)\n",
    "\n",
    "    def __getitem__(self, idx):\n",
    "        return self.data[idx], self.labels[idx]"
   ]
  },
  {
   "cell_type": "code",
   "execution_count": 8,
   "metadata": {},
   "outputs": [],
   "source": [
    "trn_dataset = topcloud_dataset( z_train_p, y_train_p.unsqueeze(-1) )\n",
    "val_dataset = topcloud_dataset( z_val_p, y_val_p.unsqueeze(-1) )\n",
    "tst_dataset = topcloud_dataset( z_test_p, y_test_p.unsqueeze(-1) )"
   ]
  },
  {
   "cell_type": "code",
   "execution_count": 9,
   "metadata": {},
   "outputs": [],
   "source": [
    "trn_dataloader = DataLoader( trn_dataset, batch_size=64, shuffle=True )\n",
    "val_dataloader = DataLoader( val_dataset, batch_size=64, shuffle=True )\n",
    "tst_dataloader = DataLoader( tst_dataset, batch_size=64, shuffle=True )"
   ]
  },
  {
   "cell_type": "markdown",
   "metadata": {},
   "source": [
    "## Data handling in graph networks"
   ]
  },
  {
   "cell_type": "markdown",
   "metadata": {},
   "source": [
    "Data is handled slightly differently in graph networks than in the networks we studied previously, this is because the data now has two different attributes, the nodes and edges.  The `torch-geometric` package has it's own Data class."
   ]
  },
  {
   "cell_type": "code",
   "execution_count": 10,
   "metadata": {},
   "outputs": [],
   "source": [
    "from torch_geometric.data import Data"
   ]
  },
  {
   "cell_type": "markdown",
   "metadata": {},
   "source": [
    "As an example, let's create a graph with 3 nodes and 4 edges.  Remember that edges can generally go in either direction."
   ]
  },
  {
   "cell_type": "markdown",
   "metadata": {},
   "source": [
    "<img src=\"simple-graph-image.png\" width=\"500\"/>"
   ]
  },
  {
   "cell_type": "code",
   "execution_count": 11,
   "metadata": {},
   "outputs": [],
   "source": [
    "edge_index = torch.tensor( [[0, 1, 1, 2], \n",
    "                            [1, 0, 2, 1]], \n",
    "                          dtype=torch.long )\n",
    "\n",
    "x = torch.tensor( [[-1], [0], [1]], dtype=torch.float )\n",
    "\n",
    "data = Data( x=x, edge_index=edge_index )"
   ]
  },
  {
   "cell_type": "markdown",
   "metadata": {},
   "source": [
    "We can check the data we have defined:"
   ]
  },
  {
   "cell_type": "code",
   "execution_count": 12,
   "metadata": {},
   "outputs": [
    {
     "name": "stdout",
     "output_type": "stream",
     "text": [
      "number of nodes: 3\n",
      "number of edges: 4\n",
      "number of node features: 1\n",
      "number of edge features: 0\n",
      "keys: ['edge_index', 'x']\n"
     ]
    }
   ],
   "source": [
    "print( \"number of nodes: \" + str(data.num_nodes) )\n",
    "print( \"number of edges: \" + str(data.num_edges) )\n",
    "print( \"number of node features: \" + str(data.num_node_features) )\n",
    "print( \"number of edge features: \" + str(data.num_edge_features) )\n",
    "print( \"keys: \" + str(data.keys) )"
   ]
  },
  {
   "cell_type": "markdown",
   "metadata": {},
   "source": [
    "But this is awkward.  Ideally the `edge_index` would be a list of tuples, with each tuple specifying the start and end point of the edge.\n",
    "\n",
    "So we instead define it as:"
   ]
  },
  {
   "cell_type": "code",
   "execution_count": 13,
   "metadata": {},
   "outputs": [],
   "source": [
    "edge_index = torch.tensor( [[0, 1],\n",
    "                            [1, 0],\n",
    "                            [1, 2],\n",
    "                            [2, 1]], \n",
    "                          dtype=torch.long )\n",
    "\n",
    "x = torch.tensor( [[-1], [0], [1]], dtype=torch.float )\n",
    "\n",
    "data = Data( x=x, edge_index=edge_index.t().contiguous() )"
   ]
  },
  {
   "cell_type": "markdown",
   "metadata": {},
   "source": [
    "The `.t()` here just applies a transpose, and `.contiguous()` ensures that the data has the correct memory format.\n",
    "\n",
    "We can again check the data:"
   ]
  },
  {
   "cell_type": "code",
   "execution_count": 14,
   "metadata": {
    "scrolled": true
   },
   "outputs": [
    {
     "name": "stdout",
     "output_type": "stream",
     "text": [
      "number of nodes: 3\n",
      "number of edges: 4\n",
      "number of node features: 1\n",
      "number of edge features: 0\n",
      "keys: ['edge_index', 'x']\n"
     ]
    }
   ],
   "source": [
    "print( \"number of nodes: \" + str(data.num_nodes) )\n",
    "print( \"number of edges: \" + str(data.num_edges) )\n",
    "print( \"number of node features: \" + str(data.num_node_features) )\n",
    "print( \"number of edge features: \" + str(data.num_edge_features) )\n",
    "print( \"keys: \" + str(data.keys) )"
   ]
  },
  {
   "cell_type": "markdown",
   "metadata": {},
   "source": [
    "## Jets, nodes, and edges"
   ]
  },
  {
   "cell_type": "markdown",
   "metadata": {},
   "source": [
    "The jets we consider usually have $\\mathcal{O}(10^2)$ constituents, which would mean $\\mathcal{O}(10^4)$ edges.\n",
    "This is a lot, and it would mean we need a graph neural network with many parameters.\n",
    "The way around this is to only consider sub-graphs of neighbouring nodes within the complete graph, i.e. we only connect neighbouring nodes by edges.\n",
    "The nodes which are considered as neughbouring can be determined by any clustering algorithm, in practice the k-means algorithm is usually used.\n",
    "This funcitonality is defined in the `knn` class within the `torch_cluster` package, or in the `knn_graph` class within the `torch_geometric.nn` package.\n",
    "The latter returns a graph in the correct format, so we'll use that."
   ]
  },
  {
   "cell_type": "markdown",
   "metadata": {},
   "source": [
    "So we've discussed the structure of graphs and graph networks, but we haven't explained what they do with the data.\n",
    "The basic function of a graph network is the Edge Convolution, this funcitonality is coded in the `EdgeConv` class in `torch_geometric.nn.conv`.\n",
    "However this requires that we give the network the edges in the format discussed above.\n",
    "We will instead use the Dynamic Edge Convolution function, which automatically performs the k-means clustering to determine which are the neighbouring nodes.\n",
    "This functionality is coded in the `DynamicEdgeConv` class in the same package."
   ]
  },
  {
   "cell_type": "markdown",
   "metadata": {},
   "source": [
    "## Message passing $\\rightarrow$ generalising convolutions"
   ]
  },
  {
   "cell_type": "markdown",
   "metadata": {},
   "source": [
    "But let's take a step back and think about convolutions in more detail.\n",
    "\n",
    "We have studied convolutional networks in the context of jet images, where the convolutional operator scans over teh image pixels in a discrete manner.\n",
    "Now we work with point clouds, or graphs, where the data is less structured and so the idea of a convolution becomes more complicated.\n",
    "\n",
    "The generalisation of a convolution to irregular domains is usually encoded in 'message passing' (or 'neighbourhood aggregation') schemes.  \n",
    "\n",
    "The graph network is constructed of layers labelled by $k$.\n",
    "At each layer the data is again treated as a graph, so that as we move through the network the graph is being altered by each layer.\n",
    "We denote the features of node $i$ in layer $(k-1)$ of the graph network as ${\\bf x}_i^{(k-1)}$, and the edge features from node $j$ to $i$ as ${\\bf e}_{j,i}$.\n",
    "The message passing in a graph network is then expressed as:\n",
    "\n",
    "$\n",
    "{\\bf x}_i^{(k)} = \\gamma^{(k)} \\left( {\\bf x}_i^{(k-1)}, \\square_{j\\in\\mathcal{N}(i)} \\phi^{(k)}\\left( {\\bf x}_i^{(k)}, {\\bf x}_j^{(k)}, {\\bf e}_{j,i} \\right) \\right)\n",
    "$\n",
    "\n",
    "where $\\gamma$ and $\\phi$ are some differentiable functions, i.e. neural networks, and $\\square$ is a permutation invariant function like a sum, mean, or a max.\n",
    "$\\mathcal{N}(i)$ is the function which defines the nearest neighbours, i.e. k-means or something similar.\n",
    "\n",
    "The `MessagePassing` class in `torch_geometric.nn` is the base class for the graph convolution functions.\n",
    "To define a message passing layer the user needs to define the networks $\\phi$ (`.message()`) and $\\gamma$ (`.update()`), and the aggregation function $\\square$ (e.g. `aggr=\"mean\"`)."
   ]
  },
  {
   "cell_type": "markdown",
   "metadata": {},
   "source": [
    "## Dynamic edge convolutions"
   ]
  },
  {
   "cell_type": "markdown",
   "metadata": {},
   "source": [
    "Edge convolutions are just a specific message passing choice.\n",
    "\n",
    "The choice is:\n",
    "\n",
    "$\n",
    "{\\bf x}_i^{(k)} = \\text{mean}_{j\\in \\mathcal{N}(i)} h_{\\Theta}\\left( {\\bf x}_i^{(k-1)}, {\\bf x}_j^{(k-1)} - {\\bf x}_i^{(k-1)} \\right)\n",
    "$\n",
    "\n",
    "where $h_{\\Theta}$ is just a neural network.\n",
    "\n",
    "We could simply load the classes for `EdgeConv` and `DynamicEdgeConv`, but let's have a look at them here.\n",
    "The edge convolutions in pytorch are implemented using the `MessagePassing` class as follows:"
   ]
  },
  {
   "cell_type": "code",
   "execution_count": 15,
   "metadata": {},
   "outputs": [],
   "source": [
    "from typing import Callable, Optional, Union\n",
    "\n",
    "import torch\n",
    "from torch import Tensor\n",
    "\n",
    "from torch_geometric.nn.inits import reset\n",
    "from torch_geometric.nn.conv import MessagePassing\n",
    "from torch_geometric.typing import Adj, OptTensor, PairOptTensor, PairTensor\n",
    "    \n",
    "class EdgeConv( MessagePassing ):\n",
    "    r\"\"\"The edge convolutional operator from the `\"Dynamic Graph CNN for\n",
    "    Learning on Point Clouds\" <https://arxiv.org/abs/1801.07829>`_ paper\n",
    "\n",
    "    .. math::\n",
    "        \\mathbf{x}^{\\prime}_i = \\sum_{j \\in \\mathcal{N}(i)}\n",
    "        h_{\\mathbf{\\Theta}}(\\mathbf{x}_i \\, \\Vert \\,\n",
    "        \\mathbf{x}_j - \\mathbf{x}_i),\n",
    "\n",
    "    where :math:`h_{\\mathbf{\\Theta}}` denotes a neural network, *.i.e.* a MLP.\n",
    "\n",
    "    Args:\n",
    "        nn (torch.nn.Module): A neural network :math:`h_{\\mathbf{\\Theta}}` that\n",
    "            maps pair-wise concatenated node features :obj:`x` of shape\n",
    "            :obj:`[-1, 2 * in_channels]` to shape :obj:`[-1, out_channels]`,\n",
    "            *e.g.*, defined by :class:`torch.nn.Sequential`.\n",
    "        aggr (string, optional): The aggregation scheme to use\n",
    "            (:obj:`\"add\"`, :obj:`\"mean\"`, :obj:`\"max\"`).\n",
    "            (default: :obj:`\"max\"`)\n",
    "        **kwargs (optional): Additional arguments of\n",
    "            :class:`torch_geometric.nn.conv.MessagePassing`.\n",
    "\n",
    "    Shapes:\n",
    "        - **input:**\n",
    "          node features :math:`(|\\mathcal{V}|, F_{in})` or\n",
    "          :math:`((|\\mathcal{V}|, F_{in}), (|\\mathcal{V}|, F_{in}))`\n",
    "          if bipartite,\n",
    "          edge indices :math:`(2, |\\mathcal{E}|)`\n",
    "        - **output:** node features :math:`(|\\mathcal{V}|, F_{out})` or\n",
    "          :math:`(|\\mathcal{V}_t|, F_{out})` if bipartite\n",
    "    \"\"\"\n",
    "    \n",
    "    def __init__(self, nn: Callable, aggr: str = 'max', **kwargs):\n",
    "        super().__init__(aggr=aggr, **kwargs)\n",
    "        self.nn = nn\n",
    "        self.reset_parameters()\n",
    "\n",
    "    def reset_parameters(self):\n",
    "        reset(self.nn)\n",
    "\n",
    "    def forward(self, x: Union[Tensor, PairTensor], edge_index: Adj) -> Tensor:\n",
    "        \"\"\"\"\"\"\n",
    "        if isinstance(x, Tensor):\n",
    "            x: PairTensor = (x, x)\n",
    "        # propagate_type: (x: PairTensor)\n",
    "        return self.propagate(edge_index, x=x, size=None)\n",
    "\n",
    "\n",
    "    def message(self, x_i: Tensor, x_j: Tensor) -> Tensor:\n",
    "        return self.nn(torch.cat([x_i, x_j - x_i], dim=-1))\n",
    "\n",
    "    def __repr__(self) -> str:\n",
    "        return f'{self.__class__.__name__}(nn={self.nn})'"
   ]
  },
  {
   "cell_type": "markdown",
   "metadata": {},
   "source": [
    "This requires us to provide the `edge_index` information in the forward pass.\n",
    "However as we discussed before we want to determine the nearest neighbours on the fly using dynamics edge convolutions.\n",
    "Pytorch does this as follows:"
   ]
  },
  {
   "cell_type": "code",
   "execution_count": 16,
   "metadata": {},
   "outputs": [],
   "source": [
    "from torch_cluster import knn\n",
    "\n",
    "class DynamicEdgeConv( MessagePassing ):\n",
    "    r\"\"\"The dynamic edge convolutional operator from the `\"Dynamic Graph CNN\n",
    "    for Learning on Point Clouds\" <https://arxiv.org/abs/1801.07829>`_ paper\n",
    "    (see :class:`torch_geometric.nn.conv.EdgeConv`), where the graph is\n",
    "    dynamically constructed using nearest neighbors in the feature space.\n",
    "\n",
    "    Args:\n",
    "        nn (torch.nn.Module): A neural network :math:`h_{\\mathbf{\\Theta}}` that\n",
    "            maps pair-wise concatenated node features :obj:`x` of shape\n",
    "            `:obj:`[-1, 2 * in_channels]` to shape :obj:`[-1, out_channels]`,\n",
    "            *e.g.* defined by :class:`torch.nn.Sequential`.\n",
    "        k (int): Number of nearest neighbors.\n",
    "        aggr (string): The aggregation operator to use (:obj:`\"add\"`,\n",
    "            :obj:`\"mean\"`, :obj:`\"max\"`). (default: :obj:`\"max\"`)\n",
    "        num_workers (int): Number of workers to use for k-NN computation.\n",
    "            Has no effect in case :obj:`batch` is not :obj:`None`, or the input\n",
    "            lies on the GPU. (default: :obj:`1`)\n",
    "        **kwargs (optional): Additional arguments of\n",
    "            :class:`torch_geometric.nn.conv.MessagePassing`.\n",
    "\n",
    "    Shapes:\n",
    "        - **input:**\n",
    "          node features :math:`(|\\mathcal{V}|, F_{in})` or\n",
    "          :math:`((|\\mathcal{V}|, F_{in}), (|\\mathcal{V}|, F_{in}))`\n",
    "          if bipartite,\n",
    "          batch vector :math:`(|\\mathcal{V}|)` or\n",
    "          :math:`((|\\mathcal{V}|), (|\\mathcal{V}|))`\n",
    "          if bipartite *(optional)*\n",
    "        - **output:** node features :math:`(|\\mathcal{V}|, F_{out})` or\n",
    "          :math:`(|\\mathcal{V}_t|, F_{out})` if bipartite\n",
    "    \"\"\"\n",
    "    \n",
    "    def __init__(self, nn: Callable, k: int, aggr: str = 'max',\n",
    "                 num_workers: int = 1, **kwargs):\n",
    "        super().__init__(aggr=aggr, flow='source_to_target', **kwargs)\n",
    "\n",
    "        if knn is None:\n",
    "            raise ImportError('`DynamicEdgeConv` requires `torch-cluster`.')\n",
    "\n",
    "        self.nn = nn\n",
    "        self.k = k\n",
    "        self.num_workers = num_workers\n",
    "        self.reset_parameters()\n",
    "\n",
    "    def reset_parameters(self):\n",
    "        reset(self.nn)\n",
    "\n",
    "    def forward(\n",
    "            self, x: Union[Tensor, PairTensor],\n",
    "            batch: Union[OptTensor, Optional[PairTensor]] = None) -> Tensor:\n",
    "        # type: (Tensor, OptTensor) -> Tensor  # noqa\n",
    "        # type: (PairTensor, Optional[PairTensor]) -> Tensor  # noqa\n",
    "        \"\"\"\"\"\"\n",
    "        if isinstance(x, Tensor):\n",
    "            x: PairTensor = (x, x)\n",
    "\n",
    "        if x[0].dim() != 2:\n",
    "            raise ValueError(\"Static graphs not supported in DynamicEdgeConv\")\n",
    "\n",
    "        b: PairOptTensor = (None, None)\n",
    "        if isinstance(batch, Tensor):\n",
    "            b = (batch, batch)\n",
    "        elif isinstance(batch, tuple):\n",
    "            assert batch is not None\n",
    "            b = (batch[0], batch[1])\n",
    "\n",
    "        edge_index = knn(x[0], x[1], self.k, b[0], b[1]).flip([0])\n",
    "\n",
    "        # propagate_type: (x: PairTensor)\n",
    "        return self.propagate(edge_index, x=x, size=None)\n",
    "\n",
    "\n",
    "    def message(self, x_i: Tensor, x_j: Tensor) -> Tensor:\n",
    "        return self.nn(torch.cat([x_i, x_j - x_i], dim=-1))\n",
    "\n",
    "    def __repr__(self) -> str:\n",
    "        return f'{self.__class__.__name__}(nn={self.nn}, k={self.k})'"
   ]
  },
  {
   "cell_type": "markdown",
   "metadata": {},
   "source": [
    "Let's test it.\n",
    "\n",
    "To define the dynamic edge convolutional layer we need to supply it with a neural network ($h_{\\Theta}$) and a number of clusters ($k$) for the k-means clustering.  The dimensions of the neural network must be ( 2 x input_features, output_features ), because we concatenate $x_i$ and $x_j - x_i$."
   ]
  },
  {
   "cell_type": "code",
   "execution_count": 17,
   "metadata": {},
   "outputs": [],
   "source": [
    "nnt = nn.Linear( 2*3, 12 )\n",
    "dec = DynamicEdgeConv( nnt, 5)"
   ]
  },
  {
   "cell_type": "code",
   "execution_count": 18,
   "metadata": {},
   "outputs": [
    {
     "data": {
      "text/plain": [
       "DynamicEdgeConv(nn=Linear(in_features=6, out_features=12, bias=True), k=5)"
      ]
     },
     "execution_count": 18,
     "metadata": {},
     "output_type": "execute_result"
    }
   ],
   "source": [
    "dec"
   ]
  },
  {
   "cell_type": "markdown",
   "metadata": {},
   "source": [
    "Now let's pass through a random 'jet' with 40 constituents:"
   ]
  },
  {
   "cell_type": "code",
   "execution_count": 19,
   "metadata": {},
   "outputs": [],
   "source": [
    "xt = torch.rand( 50, 3 )"
   ]
  },
  {
   "cell_type": "code",
   "execution_count": 20,
   "metadata": {},
   "outputs": [
    {
     "data": {
      "text/plain": [
       "torch.Size([50, 12])"
      ]
     },
     "execution_count": 20,
     "metadata": {},
     "output_type": "execute_result"
    }
   ],
   "source": [
    "dec( xt ).shape"
   ]
  },
  {
   "cell_type": "markdown",
   "metadata": {},
   "source": [
    "And the output has the dimension specified by the NN we defined."
   ]
  },
  {
   "cell_type": "markdown",
   "metadata": {},
   "source": [
    "Let's do the same for EdgeConv.\n",
    "\n",
    "But here we need to supply edges, for this we'll just generate a random tensor of integers between 0 and 50 with shape (2,50)."
   ]
  },
  {
   "cell_type": "code",
   "execution_count": 21,
   "metadata": {},
   "outputs": [],
   "source": [
    "nnt = nn.Linear( 2*3, 12 )\n",
    "ec = EdgeConv( nnt, aggr='mean' )\n",
    "edges = torch.randint( 50, [2,10] )"
   ]
  },
  {
   "cell_type": "code",
   "execution_count": 22,
   "metadata": {},
   "outputs": [
    {
     "data": {
      "text/plain": [
       "tensor([[12, 19, 21, 37, 24, 35, 39, 19,  7, 49],\n",
       "        [ 7, 39, 30, 18, 35, 19,  0, 39, 15,  7]])"
      ]
     },
     "execution_count": 22,
     "metadata": {},
     "output_type": "execute_result"
    }
   ],
   "source": [
    "edges"
   ]
  },
  {
   "cell_type": "code",
   "execution_count": 23,
   "metadata": {},
   "outputs": [
    {
     "data": {
      "text/plain": [
       "torch.Size([50, 12])"
      ]
     },
     "execution_count": 23,
     "metadata": {},
     "output_type": "execute_result"
    }
   ],
   "source": [
    "ec( xt, edges ).shape"
   ]
  },
  {
   "cell_type": "markdown",
   "metadata": {},
   "source": [
    "Both the EdgeConv and DynamicEdgeConv return a point cloud.\n",
    "In a graph neural network each EdgeConv layer will return another point cloud, with which we will determine where to place the edges, and then pass through another EndgeConv layer to get another point cloud.\n",
    "This whole procedure is completely permutation equivariant, i.e. a change in the order of the inputs will only result is a change in the order of the outputs.\n",
    "In the end we want to aggregate over the point cloud to get a permutation invariant result.\n",
    "In this example we would simply aggregate over the dimension 50 row to get a 12 dimensional output.\n",
    "For example:"
   ]
  },
  {
   "cell_type": "code",
   "execution_count": 24,
   "metadata": {},
   "outputs": [
    {
     "data": {
      "text/plain": [
       "tensor([-0.0142, -0.0366, -0.0844, -0.0887,  0.0059, -0.0667,  0.0794,  0.1077,\n",
       "        -0.0569, -0.0143,  0.0344, -0.0241], grad_fn=<MeanBackward1>)"
      ]
     },
     "execution_count": 24,
     "metadata": {},
     "output_type": "execute_result"
    }
   ],
   "source": [
    "ec( xt, edges ).mean( dim=0 )"
   ]
  },
  {
   "cell_type": "markdown",
   "metadata": {},
   "source": [
    "To see that this is invariant we take the simpler example from before:"
   ]
  },
  {
   "cell_type": "code",
   "execution_count": 25,
   "metadata": {},
   "outputs": [],
   "source": [
    "edge_index = torch.tensor( [[0, 1],\n",
    "                            [1, 0],\n",
    "                            [1, 2],\n",
    "                            [2, 1]], \n",
    "                          dtype=torch.long )\n",
    "\n",
    "x = torch.tensor( [[-1], [0], [1]], dtype=torch.float )"
   ]
  },
  {
   "cell_type": "code",
   "execution_count": 26,
   "metadata": {},
   "outputs": [],
   "source": [
    "nnt = nn.Linear( 2, 4 )\n",
    "ec2 = EdgeConv( nnt, aggr='mean' )"
   ]
  },
  {
   "cell_type": "code",
   "execution_count": 27,
   "metadata": {},
   "outputs": [
    {
     "data": {
      "text/plain": [
       "tensor([[ 0.2767,  0.6435, -0.1121, -0.8337],\n",
       "        [ 0.3271,  0.6631, -0.1663,  0.2371],\n",
       "        [ 0.3776,  0.6826, -0.2206,  1.3078]], grad_fn=<DivBackward0>)"
      ]
     },
     "execution_count": 27,
     "metadata": {},
     "output_type": "execute_result"
    }
   ],
   "source": [
    "ec2( x, edge_index.t().contiguous() )"
   ]
  },
  {
   "cell_type": "markdown",
   "metadata": {},
   "source": [
    "Now permute the first two nodes:"
   ]
  },
  {
   "cell_type": "code",
   "execution_count": 28,
   "metadata": {},
   "outputs": [],
   "source": [
    "x_p = torch.tensor( [[0], [-1], [1]], dtype=torch.float )\n",
    "edge_index_p = torch.tensor( [[1, 0],\n",
    "                            [0, 1],\n",
    "                            [0, 2],\n",
    "                            [2, 0]], \n",
    "                          dtype=torch.long )"
   ]
  },
  {
   "cell_type": "code",
   "execution_count": 29,
   "metadata": {},
   "outputs": [
    {
     "data": {
      "text/plain": [
       "tensor([[ 0.3271,  0.6631, -0.1663,  0.2371],\n",
       "        [ 0.2767,  0.6435, -0.1121, -0.8337],\n",
       "        [ 0.3776,  0.6826, -0.2206,  1.3078]], grad_fn=<DivBackward0>)"
      ]
     },
     "execution_count": 29,
     "metadata": {},
     "output_type": "execute_result"
    }
   ],
   "source": [
    "ec2( x_p, edge_index_p.t().contiguous() )"
   ]
  },
  {
   "cell_type": "markdown",
   "metadata": {},
   "source": [
    "Now we see that the first two rows have been permuted, so the result is permutation equivariant, as expected.\n",
    "\n",
    "And if we aggregate:"
   ]
  },
  {
   "cell_type": "code",
   "execution_count": 30,
   "metadata": {},
   "outputs": [
    {
     "data": {
      "text/plain": [
       "tensor([ 0.3271,  0.6631, -0.1663,  0.2371], grad_fn=<MeanBackward1>)"
      ]
     },
     "execution_count": 30,
     "metadata": {},
     "output_type": "execute_result"
    }
   ],
   "source": [
    "ec2( x, edge_index.t().contiguous() ).mean( dim=0 )"
   ]
  },
  {
   "cell_type": "code",
   "execution_count": 31,
   "metadata": {},
   "outputs": [
    {
     "data": {
      "text/plain": [
       "tensor([ 0.3271,  0.6631, -0.1663,  0.2371], grad_fn=<MeanBackward1>)"
      ]
     },
     "execution_count": 31,
     "metadata": {},
     "output_type": "execute_result"
    }
   ],
   "source": [
    "ec2( x_p, edge_index_p.t().contiguous() ).mean( dim=0 )"
   ]
  },
  {
   "cell_type": "markdown",
   "metadata": {},
   "source": [
    "We see that the result is permutation invariant."
   ]
  },
  {
   "cell_type": "markdown",
   "metadata": {},
   "source": [
    "In the graph neural network this would then be passed to a fully connected network and propagated to the final layer."
   ]
  },
  {
   "cell_type": "markdown",
   "metadata": {},
   "source": [
    "## Building a Dynamic Graph Convolutional Neural Network (DGCNN)"
   ]
  },
  {
   "cell_type": "code",
   "execution_count": 32,
   "metadata": {},
   "outputs": [],
   "source": [
    "class JetNet( torch.nn.Module ):\n",
    "    \n",
    "    def __init__( self ):\n",
    "        super( JetNet, self ).__init__()\n",
    "        \n",
    "        self.net1 = nn.Sequential(\n",
    "            nn.Linear( 2*3, 32 ),\n",
    "            nn.ReLU(),\n",
    "            nn.Linear( 32, 32 ),\n",
    "            nn.ReLU(),\n",
    "            nn.Linear( 32, 16 )\n",
    "        )\n",
    "\n",
    "        self.net2 = nn.Sequential(\n",
    "            nn.Linear( 2*16, 32 ),\n",
    "            nn.ReLU(),\n",
    "            nn.Linear( 32, 32 ),\n",
    "            nn.ReLU(),\n",
    "            nn.Linear( 32, 32 )\n",
    "        )\n",
    "\n",
    "        self.conv1 = DynamicEdgeConv( self.net1, 10, aggr='mean' )\n",
    "        \n",
    "        self.conv2 = DynamicEdgeConv( self.net2, 10, aggr='mean' )\n",
    "        \n",
    "        self.net3 = nn.Sequential(\n",
    "            nn.Linear( 32, 10 ),\n",
    "            nn.ReLU(),\n",
    "            nn.Linear( 10, 1 )\n",
    "        )\n",
    "\n",
    "    def forward( self, data ):\n",
    "\n",
    "        x = self.conv1( data )\n",
    "        x = F.relu( x )\n",
    "        x = F.dropout( x, p=0.1, training=self.training )\n",
    "        x = self.conv2( x )\n",
    "        x = F.relu( x )\n",
    "        x = x.mean(0)\n",
    "        x = self.net3( x )\n",
    "\n",
    "        return F.sigmoid( x )"
   ]
  },
  {
   "cell_type": "markdown",
   "metadata": {},
   "source": [
    "Now let's just pass some data through it to make sure this works:"
   ]
  },
  {
   "cell_type": "code",
   "execution_count": 33,
   "metadata": {},
   "outputs": [],
   "source": [
    "testnet = JetNet()"
   ]
  },
  {
   "cell_type": "code",
   "execution_count": 34,
   "metadata": {},
   "outputs": [],
   "source": [
    "xt = torch.rand( 50, 3 )"
   ]
  },
  {
   "cell_type": "code",
   "execution_count": 35,
   "metadata": {},
   "outputs": [
    {
     "data": {
      "text/plain": [
       "torch.Size([1])"
      ]
     },
     "execution_count": 35,
     "metadata": {},
     "output_type": "execute_result"
    }
   ],
   "source": [
    "testnet( xt ).shape"
   ]
  },
  {
   "cell_type": "markdown",
   "metadata": {},
   "source": [
    "This is the dimension of the output that we expect."
   ]
  },
  {
   "cell_type": "markdown",
   "metadata": {},
   "source": [
    "We can view the network elements by just calling it:"
   ]
  },
  {
   "cell_type": "code",
   "execution_count": 36,
   "metadata": {},
   "outputs": [
    {
     "data": {
      "text/plain": [
       "JetNet(\n",
       "  (net1): Sequential(\n",
       "    (0): Linear(in_features=6, out_features=32, bias=True)\n",
       "    (1): ReLU()\n",
       "    (2): Linear(in_features=32, out_features=32, bias=True)\n",
       "    (3): ReLU()\n",
       "    (4): Linear(in_features=32, out_features=16, bias=True)\n",
       "  )\n",
       "  (net2): Sequential(\n",
       "    (0): Linear(in_features=32, out_features=32, bias=True)\n",
       "    (1): ReLU()\n",
       "    (2): Linear(in_features=32, out_features=32, bias=True)\n",
       "    (3): ReLU()\n",
       "    (4): Linear(in_features=32, out_features=32, bias=True)\n",
       "  )\n",
       "  (conv1): DynamicEdgeConv(nn=Sequential(\n",
       "    (0): Linear(in_features=6, out_features=32, bias=True)\n",
       "    (1): ReLU()\n",
       "    (2): Linear(in_features=32, out_features=32, bias=True)\n",
       "    (3): ReLU()\n",
       "    (4): Linear(in_features=32, out_features=16, bias=True)\n",
       "  ), k=10)\n",
       "  (conv2): DynamicEdgeConv(nn=Sequential(\n",
       "    (0): Linear(in_features=32, out_features=32, bias=True)\n",
       "    (1): ReLU()\n",
       "    (2): Linear(in_features=32, out_features=32, bias=True)\n",
       "    (3): ReLU()\n",
       "    (4): Linear(in_features=32, out_features=32, bias=True)\n",
       "  ), k=10)\n",
       "  (net3): Sequential(\n",
       "    (0): Linear(in_features=32, out_features=10, bias=True)\n",
       "    (1): ReLU()\n",
       "    (2): Linear(in_features=10, out_features=1, bias=True)\n",
       "  )\n",
       ")"
      ]
     },
     "execution_count": 36,
     "metadata": {},
     "output_type": "execute_result"
    }
   ],
   "source": [
    "testnet"
   ]
  },
  {
   "cell_type": "markdown",
   "metadata": {},
   "source": [
    "## Optimizing the DGCNN"
   ]
  },
  {
   "cell_type": "markdown",
   "metadata": {},
   "source": [
    "In this tutorial I have used a standard pytorch Dataloader to store the data, just as we've done in previous tutorials.\n",
    "But to batch the data for DGCNNs constructed using `torch_geometry` we would need to use the `Data` package within `torch_geometry`.\n",
    "I have resolved this below (in an unstatisfactory way) by manually looping over each jet each batch.\n",
    "This fixes the problem, but would certainly slow the code down if we were to use a GPU.\n",
    "In practice we should use the correct Dataloaders."
   ]
  },
  {
   "cell_type": "code",
   "execution_count": 37,
   "metadata": {},
   "outputs": [],
   "source": [
    "loss_fn = nn.BCELoss()\n",
    "batch_size = 64"
   ]
  },
  {
   "cell_type": "code",
   "execution_count": 38,
   "metadata": {},
   "outputs": [],
   "source": [
    "def train_epoch( dataloader, model, loss_fn, optimizer ):\n",
    "    \n",
    "    size = len( dataloader.dataset )\n",
    "    \n",
    "    for batch, (X_batch, y_batch) in enumerate( dataloader ):\n",
    "        \n",
    "        loss = 0.0\n",
    "        \n",
    "        for (X, y) in zip( X_batch, y_batch ):\n",
    "\n",
    "            # pass data through network\n",
    "            pred = model(X)\n",
    "\n",
    "            # compute loss\n",
    "            loss += loss_fn( pred, y ) / batch_size\n",
    "\n",
    "        # reset gradients in optimizer\n",
    "        optimizer.zero_grad()\n",
    "        \n",
    "        # compute gradients\n",
    "        loss.backward()\n",
    "        \n",
    "        # update weights with optimizer\n",
    "        optimizer.step()\n",
    "        \n",
    "        # print the training loss every 100 updates\n",
    "        if batch % 100 == 0:\n",
    "            #loss, current = loss.item(), batch * len(X)\n",
    "            current = batch * len( X_batch )\n",
    "            print( f\"current batch loss: {loss:>7f}  [{current:>5d}/{size:>5d}]\" )"
   ]
  },
  {
   "cell_type": "code",
   "execution_count": 39,
   "metadata": {},
   "outputs": [],
   "source": [
    "def val_pass( dataloader, model, loss_fn ):\n",
    "    \n",
    "    size = len( dataloader.dataset )\n",
    "    num_batches = len( dataloader )\n",
    "    vl = 0.0\n",
    "\n",
    "    with torch.no_grad():\n",
    "        for X_batch, y_batch in dataloader:\n",
    "            for (X, y) in zip(X_batch,y_batch):\n",
    "                pred = model( X )\n",
    "                vl += loss_fn( pred, y ).item() / batch_size\n",
    "\n",
    "    vl /= num_batches\n",
    "    print( f\"avg val loss per batch: {vl:>8f}\" )\n",
    "    \n",
    "    return vl\n",
    "\n",
    "def trn_pass( dataloader, model, loss_fn ):\n",
    "    \n",
    "    size = len( dataloader.dataset )\n",
    "    num_batches = len( dataloader )\n",
    "    tl = 0.0\n",
    "\n",
    "    with torch.no_grad():\n",
    "        for X_batch, y_batch in dataloader:\n",
    "            for (X, y) in zip(X_batch,y_batch):\n",
    "                pred = model( X )\n",
    "                tl += loss_fn( pred, y ).item() / batch_size\n",
    "\n",
    "    tl /= num_batches\n",
    "    print( f\"avg trn loss per batch: {tl:>8f}\" )\n",
    "    \n",
    "    return tl"
   ]
  },
  {
   "cell_type": "markdown",
   "metadata": {},
   "source": [
    "Now we can train the network.\n",
    "Graph networks can be slow, especially on a laptop CPU.\n",
    "So I only train it here for 10 epochs.\n",
    "But you'll see that even with 10 epochs we get quite a good performance."
   ]
  },
  {
   "cell_type": "code",
   "execution_count": 40,
   "metadata": {
    "scrolled": true
   },
   "outputs": [
    {
     "name": "stdout",
     "output_type": "stream",
     "text": [
      "-----------------------------------------------\n",
      "model architecture \n",
      "-----------------------------------------------\n",
      "JetNet(\n",
      "  (net1): Sequential(\n",
      "    (0): Linear(in_features=6, out_features=32, bias=True)\n",
      "    (1): ReLU()\n",
      "    (2): Linear(in_features=32, out_features=32, bias=True)\n",
      "    (3): ReLU()\n",
      "    (4): Linear(in_features=32, out_features=16, bias=True)\n",
      "  )\n",
      "  (net2): Sequential(\n",
      "    (0): Linear(in_features=32, out_features=32, bias=True)\n",
      "    (1): ReLU()\n",
      "    (2): Linear(in_features=32, out_features=32, bias=True)\n",
      "    (3): ReLU()\n",
      "    (4): Linear(in_features=32, out_features=32, bias=True)\n",
      "  )\n",
      "  (conv1): DynamicEdgeConv(nn=Sequential(\n",
      "    (0): Linear(in_features=6, out_features=32, bias=True)\n",
      "    (1): ReLU()\n",
      "    (2): Linear(in_features=32, out_features=32, bias=True)\n",
      "    (3): ReLU()\n",
      "    (4): Linear(in_features=32, out_features=16, bias=True)\n",
      "  ), k=10)\n",
      "  (conv2): DynamicEdgeConv(nn=Sequential(\n",
      "    (0): Linear(in_features=32, out_features=32, bias=True)\n",
      "    (1): ReLU()\n",
      "    (2): Linear(in_features=32, out_features=32, bias=True)\n",
      "    (3): ReLU()\n",
      "    (4): Linear(in_features=32, out_features=32, bias=True)\n",
      "  ), k=10)\n",
      "  (net3): Sequential(\n",
      "    (0): Linear(in_features=32, out_features=10, bias=True)\n",
      "    (1): ReLU()\n",
      "    (2): Linear(in_features=10, out_features=1, bias=True)\n",
      "  )\n",
      ")\n",
      "-----------------------------------------------\n",
      "Epoch 1\n",
      "-----------------------------------------------\n",
      "current batch loss: 0.727392  [    0/30000]\n",
      "current batch loss: 0.641112  [ 6400/30000]\n",
      "current batch loss: 0.657428  [12800/30000]\n",
      "current batch loss: 0.716248  [19200/30000]\n",
      "current batch loss: 0.538257  [25600/30000]\n",
      "-----------------------------------------------\n",
      "avg trn loss per batch: 0.549871\n",
      "-----------------------------------------------\n",
      "avg val loss per batch: 0.541199\n",
      "-----------------------------------------------\n",
      "|\n",
      "-----------------------------------------------\n",
      "Epoch 2\n",
      "-----------------------------------------------\n",
      "current batch loss: 0.545390  [    0/30000]\n",
      "current batch loss: 0.520314  [ 6400/30000]\n",
      "current batch loss: 0.450971  [12800/30000]\n",
      "current batch loss: 0.447845  [19200/30000]\n",
      "current batch loss: 0.398517  [25600/30000]\n",
      "-----------------------------------------------\n",
      "avg trn loss per batch: 0.408847\n",
      "-----------------------------------------------\n",
      "avg val loss per batch: 0.399725\n",
      "-----------------------------------------------\n",
      "|\n",
      "-----------------------------------------------\n",
      "Epoch 3\n",
      "-----------------------------------------------\n",
      "current batch loss: 0.344731  [    0/30000]\n",
      "current batch loss: 0.454991  [ 6400/30000]\n",
      "current batch loss: 0.378829  [12800/30000]\n",
      "current batch loss: 0.509455  [19200/30000]\n",
      "current batch loss: 0.286885  [25600/30000]\n",
      "-----------------------------------------------\n",
      "avg trn loss per batch: 0.301387\n",
      "-----------------------------------------------\n",
      "avg val loss per batch: 0.298728\n",
      "-----------------------------------------------\n",
      "|\n",
      "-----------------------------------------------\n",
      "Epoch 4\n",
      "-----------------------------------------------\n",
      "current batch loss: 0.340003  [    0/30000]\n",
      "current batch loss: 0.205974  [ 6400/30000]\n",
      "current batch loss: 0.357073  [12800/30000]\n",
      "current batch loss: 0.267692  [19200/30000]\n",
      "current batch loss: 0.253084  [25600/30000]\n",
      "-----------------------------------------------\n",
      "avg trn loss per batch: 0.284161\n",
      "-----------------------------------------------\n",
      "avg val loss per batch: 0.280917\n",
      "-----------------------------------------------\n",
      "|\n",
      "-----------------------------------------------\n",
      "Epoch 5\n",
      "-----------------------------------------------\n",
      "current batch loss: 0.281937  [    0/30000]\n",
      "current batch loss: 0.320407  [ 6400/30000]\n",
      "current batch loss: 0.231473  [12800/30000]\n",
      "current batch loss: 0.386808  [19200/30000]\n",
      "current batch loss: 0.276317  [25600/30000]\n",
      "-----------------------------------------------\n",
      "avg trn loss per batch: 0.267818\n",
      "-----------------------------------------------\n",
      "avg val loss per batch: 0.265370\n",
      "-----------------------------------------------\n",
      "|\n",
      "-----------------------------------------------\n",
      "Epoch 6\n",
      "-----------------------------------------------\n",
      "current batch loss: 0.316795  [    0/30000]\n",
      "current batch loss: 0.219891  [ 6400/30000]\n",
      "current batch loss: 0.248206  [12800/30000]\n",
      "current batch loss: 0.271507  [19200/30000]\n",
      "current batch loss: 0.285068  [25600/30000]\n",
      "-----------------------------------------------\n",
      "avg trn loss per batch: 0.259744\n",
      "-----------------------------------------------\n",
      "avg val loss per batch: 0.257459\n",
      "-----------------------------------------------\n",
      "|\n",
      "-----------------------------------------------\n",
      "Epoch 7\n",
      "-----------------------------------------------\n",
      "current batch loss: 0.306142  [    0/30000]\n",
      "current batch loss: 0.309022  [ 6400/30000]\n",
      "current batch loss: 0.376698  [12800/30000]\n",
      "current batch loss: 0.308102  [19200/30000]\n",
      "current batch loss: 0.172113  [25600/30000]\n",
      "-----------------------------------------------\n",
      "avg trn loss per batch: 0.274102\n",
      "-----------------------------------------------\n",
      "avg val loss per batch: 0.274523\n",
      "-----------------------------------------------\n",
      "|\n",
      "-----------------------------------------------\n",
      "Epoch 8\n",
      "-----------------------------------------------\n",
      "current batch loss: 0.244231  [    0/30000]\n",
      "current batch loss: 0.375196  [ 6400/30000]\n",
      "current batch loss: 0.284184  [12800/30000]\n",
      "current batch loss: 0.207154  [19200/30000]\n",
      "current batch loss: 0.227546  [25600/30000]\n",
      "-----------------------------------------------\n",
      "avg trn loss per batch: 0.255906\n",
      "-----------------------------------------------\n",
      "avg val loss per batch: 0.255315\n",
      "-----------------------------------------------\n",
      "|\n",
      "-----------------------------------------------\n",
      "Epoch 9\n",
      "-----------------------------------------------\n",
      "current batch loss: 0.275275  [    0/30000]\n",
      "current batch loss: 0.276895  [ 6400/30000]\n",
      "current batch loss: 0.391642  [12800/30000]\n",
      "current batch loss: 0.273300  [19200/30000]\n",
      "current batch loss: 0.281202  [25600/30000]\n",
      "-----------------------------------------------\n",
      "avg trn loss per batch: 0.257932\n",
      "-----------------------------------------------\n",
      "avg val loss per batch: 0.259185\n",
      "-----------------------------------------------\n",
      "|\n",
      "-----------------------------------------------\n",
      "Epoch 10\n",
      "-----------------------------------------------\n",
      "current batch loss: 0.280642  [    0/30000]\n",
      "current batch loss: 0.194848  [ 6400/30000]\n",
      "current batch loss: 0.109158  [12800/30000]\n",
      "current batch loss: 0.142786  [19200/30000]\n",
      "current batch loss: 0.374625  [25600/30000]\n",
      "-----------------------------------------------\n",
      "avg trn loss per batch: 0.247486\n",
      "-----------------------------------------------\n",
      "avg val loss per batch: 0.248675\n",
      "-----------------------------------------------\n",
      "|\n",
      "Done!\n"
     ]
    }
   ],
   "source": [
    "# a useful function to present things clearer\n",
    "def separator():\n",
    "    print( \"-----------------------------------------------\" )\n",
    "\n",
    "epochs = 10\n",
    "\n",
    "# re-initialise the model and the optimizer\n",
    "model = JetNet()\n",
    "learning_rate = 0.001\n",
    "optimizer = torch.optim.Adam( model.parameters(), lr=learning_rate )\n",
    "separator()\n",
    "print( \"model architecture \")\n",
    "separator()\n",
    "print( model )\n",
    "\n",
    "# track train and val losses\n",
    "trn_losses = []\n",
    "val_losses = []\n",
    "\n",
    "for t in range(epochs):\n",
    "    separator()\n",
    "    print( f\"Epoch {t+1}\" )\n",
    "    separator()\n",
    "    train_epoch( trn_dataloader, model, loss_fn, optimizer )\n",
    "    separator()\n",
    "    model.eval()\n",
    "    trn_loss = trn_pass( trn_dataloader, model, loss_fn )\n",
    "    trn_losses.append( trn_loss )\n",
    "    separator()\n",
    "    val_loss = val_pass( val_dataloader, model, loss_fn )\n",
    "    val_losses.append( val_loss )\n",
    "    model.train()\n",
    "    separator()\n",
    "    print( \"|\" )\n",
    "    \n",
    "print(\"Done!\")"
   ]
  },
  {
   "cell_type": "markdown",
   "metadata": {},
   "source": [
    "## Study the results"
   ]
  },
  {
   "cell_type": "code",
   "execution_count": 41,
   "metadata": {},
   "outputs": [
    {
     "data": {
      "text/plain": [
       "JetNet(\n",
       "  (net1): Sequential(\n",
       "    (0): Linear(in_features=6, out_features=32, bias=True)\n",
       "    (1): ReLU()\n",
       "    (2): Linear(in_features=32, out_features=32, bias=True)\n",
       "    (3): ReLU()\n",
       "    (4): Linear(in_features=32, out_features=16, bias=True)\n",
       "  )\n",
       "  (net2): Sequential(\n",
       "    (0): Linear(in_features=32, out_features=32, bias=True)\n",
       "    (1): ReLU()\n",
       "    (2): Linear(in_features=32, out_features=32, bias=True)\n",
       "    (3): ReLU()\n",
       "    (4): Linear(in_features=32, out_features=32, bias=True)\n",
       "  )\n",
       "  (conv1): DynamicEdgeConv(nn=Sequential(\n",
       "    (0): Linear(in_features=6, out_features=32, bias=True)\n",
       "    (1): ReLU()\n",
       "    (2): Linear(in_features=32, out_features=32, bias=True)\n",
       "    (3): ReLU()\n",
       "    (4): Linear(in_features=32, out_features=16, bias=True)\n",
       "  ), k=10)\n",
       "  (conv2): DynamicEdgeConv(nn=Sequential(\n",
       "    (0): Linear(in_features=32, out_features=32, bias=True)\n",
       "    (1): ReLU()\n",
       "    (2): Linear(in_features=32, out_features=32, bias=True)\n",
       "    (3): ReLU()\n",
       "    (4): Linear(in_features=32, out_features=32, bias=True)\n",
       "  ), k=10)\n",
       "  (net3): Sequential(\n",
       "    (0): Linear(in_features=32, out_features=10, bias=True)\n",
       "    (1): ReLU()\n",
       "    (2): Linear(in_features=10, out_features=1, bias=True)\n",
       "  )\n",
       ")"
      ]
     },
     "execution_count": 41,
     "metadata": {},
     "output_type": "execute_result"
    }
   ],
   "source": [
    "model.eval()"
   ]
  },
  {
   "cell_type": "code",
   "execution_count": 42,
   "metadata": {},
   "outputs": [
    {
     "name": "stdout",
     "output_type": "stream",
     "text": [
      "avg trn loss per batch: 0.247486\n",
      "avg val loss per batch: 0.248675\n",
      "avg val loss per batch: 0.250170\n",
      "-----------------------------------------------\n",
      "Final evaluation of performance:\n",
      "BCE-loss on train dataset: 0.2474864089729176\n",
      "BCE-loss on validation dataset: 0.24867508549801187\n",
      "BCE-loss on test dataset: 0.2501698614466597\n",
      "-----------------------------------------------\n"
     ]
    }
   ],
   "source": [
    "trn_loss = trn_pass( trn_dataloader, model, loss_fn )\n",
    "val_loss = val_pass( val_dataloader, model, loss_fn )\n",
    "test_loss = val_pass( tst_dataloader, model, loss_fn )\n",
    "\n",
    "separator()\n",
    "print(\"Final evaluation of performance:\")\n",
    "print(\"BCE-loss on train dataset: {}\".format(trn_loss))\n",
    "print(\"BCE-loss on validation dataset: {}\".format(val_loss))\n",
    "print(\"BCE-loss on test dataset: {}\".format(test_loss))\n",
    "separator()"
   ]
  },
  {
   "cell_type": "code",
   "execution_count": 43,
   "metadata": {},
   "outputs": [],
   "source": [
    "samp_size = 10000\n",
    "\n",
    "train_pred = []\n",
    "for z in z_train[:samp_size]:\n",
    "    train_pred.append( model( torch.Tensor(z) ).detach() )\n",
    "\n",
    "val_pred = []\n",
    "for z in z_val[:samp_size]:\n",
    "    val_pred.append( model( torch.Tensor(z) ).detach() )\n",
    "\n",
    "test_pred = []\n",
    "for z in z_test[:samp_size]:\n",
    "    test_pred.append( model( torch.Tensor(z) ).detach() )"
   ]
  },
  {
   "cell_type": "code",
   "execution_count": 44,
   "metadata": {},
   "outputs": [],
   "source": [
    "train_pred_lab = torch.round( torch.Tensor( train_pred[:samp_size] ) )\n",
    "val_pred_lab = torch.round( torch.Tensor( val_pred[:samp_size] ) )\n",
    "test_pred_lab = torch.round( torch.Tensor( test_pred[:samp_size] ) )\n",
    "\n",
    "train_correct = ( train_pred_lab == torch.Tensor( y_train[:samp_size] ) ).sum().item()\n",
    "val_correct = ( val_pred_lab == torch.Tensor( y_val[:samp_size] ) ).sum().item()\n",
    "test_correct = ( test_pred_lab == torch.Tensor( y_test[:samp_size] ) ).sum().item()"
   ]
  },
  {
   "cell_type": "code",
   "execution_count": 45,
   "metadata": {},
   "outputs": [
    {
     "name": "stdout",
     "output_type": "stream",
     "text": [
      "-----------------------------------------------\n",
      "Evaluation of accuracy: \n",
      "Accuracy on training dataset: 90.1 %\n",
      "Accuracy on validation dataset: 90.7 %\n",
      "Accuracy on test dataset: 90.1 %\n",
      "-----------------------------------------------\n"
     ]
    }
   ],
   "source": [
    "separator()\n",
    "print('Evaluation of accuracy: ')\n",
    "print('Accuracy on training dataset: {:.1f} %'.format(train_correct*100/len(train_pred)))\n",
    "print('Accuracy on validation dataset: {:.1f} %'.format(val_correct*100/len(val_pred)))\n",
    "print('Accuracy on test dataset: {:.1f} %'.format(test_correct*100/len(test_pred)))\n",
    "separator()"
   ]
  },
  {
   "cell_type": "code",
   "execution_count": 46,
   "metadata": {},
   "outputs": [],
   "source": [
    "train_pred = np.array( train_pred )\n",
    "val_pred = np.array( val_pred )\n",
    "test_pred = np.array( test_pred )"
   ]
  },
  {
   "cell_type": "code",
   "execution_count": 47,
   "metadata": {},
   "outputs": [],
   "source": [
    "from sklearn.metrics import roc_curve, roc_auc_score\n",
    "\n",
    "def closest_point(array, tpr_p=0.3):\n",
    "    dist = ((array-tpr_p)**2)\n",
    "    return np.argmin(dist)"
   ]
  },
  {
   "cell_type": "code",
   "execution_count": 48,
   "metadata": {},
   "outputs": [
    {
     "data": {
      "image/png": "[encoded data removed]",
      "text/plain": [
       "<Figure size 1400x500 with 2 Axes>"
      ]
     },
     "metadata": {},
     "output_type": "display_data"
    }
   ],
   "source": [
    "fig, ax = plt.subplots(1, 2, figsize=(14,5))\n",
    "\n",
    "fpr, tpr, th = roc_curve(y_test[:samp_size], test_pred)\n",
    "auc_score = roc_auc_score(y_test[:samp_size], test_pred)\n",
    "rnd_class = np.linspace(0, 1, 100)\n",
    "\n",
    "ax[0].plot(fpr, tpr, label='AUC = {:.2f}'.format(auc_score) )\n",
    "ax[0].plot(rnd_class, rnd_class, '--', label='Rnd classifier')\n",
    "ax[1].plot(tpr, 1/fpr, label='AUC = {:.2f}\\n $1/\\epsilon_{{bkg}}$(0.3) = {:.0f}'.format(auc_score, 1/fpr[closest_point(tpr, tpr_p=0.3)]))\n",
    "ax[1].plot(rnd_class, 1/rnd_class, '--', label='Rnd classifier')\n",
    "ax[1].set_yscale('log')\n",
    "\n",
    "ax[0].set_xlabel('$\\epsilon_{bkg}$ - FPR', fontproperties=axislabelfont)\n",
    "ax[0].set_ylabel('$\\epsilon_{s}$ - TPR', fontproperties=axislabelfont)\n",
    "\n",
    "ax[1].set_xlabel('$\\epsilon_{s}$ - TPR', fontproperties=axislabelfont)\n",
    "ax[1].set_ylabel('1/$\\epsilon_{bkg}$ - Inverse FPR', fontproperties=axislabelfont)\n",
    "for i in range(len(ax)):\n",
    "    ax[i].legend(prop=axislabelfont)\n",
    "    ax[i].tick_params(labelsize=axisfontsize)\n",
    "    ax[i].grid('on')"
   ]
  },
  {
   "cell_type": "code",
   "execution_count": 49,
   "metadata": {},
   "outputs": [
    {
     "data": {
      "image/png": "[encoded data removed]",
      "text/plain": [
       "<Figure size 700x500 with 1 Axes>"
      ]
     },
     "metadata": {},
     "output_type": "display_data"
    }
   ],
   "source": [
    "fig, axs = plt.subplots( 1, 1, figsize=(7,5) )\n",
    "\n",
    "c1 = 'tab:red'\n",
    "c2 = 'tab:green'\n",
    "\n",
    "axs.plot( trn_losses, label=\"train loss\", color=c1 )\n",
    "axs.plot( val_losses, label=\"val   loss\", color=c2 )\n",
    "\n",
    "#axs.set_yscale('log')\n",
    "\n",
    "axs.set_xlabel( \"Epoch\", fontproperties=axislabelfont )\n",
    "axs.set_ylabel( \"Loss\", fontproperties=axislabelfont )\n",
    "\n",
    "xticks = [ int(x) for x in axs.get_xticks() ]\n",
    "axs.set_xticklabels( xticks, fontproperties=tickfont )\n",
    "\n",
    "yticks = [ np.round(x,2) for x in axs.get_yticks() ]\n",
    "axs.set_yticklabels( yticks, fontproperties=tickfont )\n",
    "\n",
    "axs.legend( loc='best', prop=tickfont )\n",
    "\n",
    "fig.tight_layout()"
   ]
  },
  {
   "cell_type": "markdown",
   "metadata": {},
   "source": [
    "This training could definitely benefit from more epochs, some regularisation, and maybe early stopping.  But here we just want to show how to get the DGCNN up and running."
   ]
  }
 ],
 "metadata": {
  "kernelspec": {
   "display_name": "graphGPS",
   "language": "python",
   "name": "graphgps"
  },
  "language_info": {
   "codemirror_mode": {
    "name": "ipython",
    "version": 3
   },
   "file_extension": ".py",
   "mimetype": "text/x-python",
   "name": "python",
   "nbconvert_exporter": "python",
   "pygments_lexer": "ipython3",
   "version": "3.10.11"
  }
 },
 "nbformat": 4,
 "nbformat_minor": 4
}
